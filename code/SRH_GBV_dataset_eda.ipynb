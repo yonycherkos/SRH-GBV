{
 "cells": [
  {
   "cell_type": "code",
   "execution_count": 1,
   "metadata": {},
   "outputs": [],
   "source": [
    "import numpy as np\n",
    "import pandas as pd\n",
    "from pandas.api.types import is_numeric_dtype\n",
    "import matplotlib.pyplot as plt\n",
    "from matplotlib.colors import ListedColormap\n",
    "import seaborn as sns\n",
    "from facebook_scraper import get_posts\n",
    "import re\n",
    "import math\n",
    "import json\n",
    "import time"
   ]
  },
  {
   "cell_type": "markdown",
   "metadata": {},
   "source": [
    "# Data Scrapping"
   ]
  },
  {
   "cell_type": "code",
   "execution_count": 2,
   "metadata": {},
   "outputs": [],
   "source": [
    "# define a function to scrape facebook posts\n",
    "def fb_scrape(page_names):\n",
    "        posts = []\n",
    "        for page_name in page_names:\n",
    "            for post in get_posts(page_name):\n",
    "                post_dict = {}\n",
    "                post_dict.update({\"Text\":post['text']})\n",
    "                post_dict.update({\"Likes\":post['likes']})\n",
    "                post_dict.update({\"Comments\":post['comments']})\n",
    "                post_dict.update({\"Shares\":post['shares']})\n",
    "                post_dict.update({\"Account\":page_name})\n",
    "                post_dict.update({\"Subscribers\":post['subscribers']})\n",
    "                posts.append(post_dict)\n",
    "        return posts"
   ]
  },
  {
   "cell_type": "code",
   "execution_count": 3,
   "metadata": {},
   "outputs": [],
   "source": [
    "# srhr_df = pd.read_excel('data/SRHR social media handel .xlsx')\n",
    "# srhr_df.head()"
   ]
  },
  {
   "cell_type": "code",
   "execution_count": 4,
   "metadata": {},
   "outputs": [],
   "source": [
    "# fb_page_names = srhr_df['Facebook'].dropna()\n",
    "# fb_page_names = list(fb_page_names)\n",
    "# fb_page_names = [fb_page_name.replace('-', '').replace(' ', '').replace('@', '') for fb_page_name in fb_page_names]\n",
    "# fb_page_names"
   ]
  },
  {
   "cell_type": "code",
   "execution_count": 5,
   "metadata": {},
   "outputs": [],
   "source": [
    "# facebook pages related to SRH and GBV\n",
    "fb_page_names = ['SRHMJournal', 'FSRH.UK', 'mmsa.scora', 'BMJ.SRH', \n",
    "                 'BLreproductivehealth', 'actioncanadaSHR', 'GBVPrevNetwork', \n",
    "                 'StopGBVatWork', '16DaysCampaign', 'SayNO.UNiTE']"
   ]
  },
  {
   "cell_type": "code",
   "execution_count": 6,
   "metadata": {},
   "outputs": [],
   "source": [
    "# scrape facebook posts related to SRH and GBV\n",
    "start = time.time()\n",
    "posts = fb_scrape(fb_page_names)\n",
    "end = time.time()\n",
    "print(f\"data scraping takes: {(end - start)} seconds\")\n",
    "fb_posts_df = pd.DataFrame(posts)\n",
    "fb_posts_df.head()\n",
    "fb_posts_df.to_csv('data/fb_posts.csv', index=False)\n",
    "fb_posts_df.shape"
   ]
  },
  {
   "cell_type": "code",
   "execution_count": 7,
   "metadata": {},
   "outputs": [
    {
     "data": {
      "text/html": [
       "<div>\n",
       "<style scoped>\n",
       "    .dataframe tbody tr th:only-of-type {\n",
       "        vertical-align: middle;\n",
       "    }\n",
       "\n",
       "    .dataframe tbody tr th {\n",
       "        vertical-align: top;\n",
       "    }\n",
       "\n",
       "    .dataframe thead th {\n",
       "        text-align: right;\n",
       "    }\n",
       "</style>\n",
       "<table border=\"1\" class=\"dataframe\">\n",
       "  <thead>\n",
       "    <tr style=\"text-align: right;\">\n",
       "      <th></th>\n",
       "      <th>Comments</th>\n",
       "      <th>Likes</th>\n",
       "      <th>Shares</th>\n",
       "      <th>Text</th>\n",
       "    </tr>\n",
       "  </thead>\n",
       "  <tbody>\n",
       "    <tr>\n",
       "      <th>0</th>\n",
       "      <td>0</td>\n",
       "      <td>0</td>\n",
       "      <td>0</td>\n",
       "      <td>\"Unmet need for #contraception was 34% for the...</td>\n",
       "    </tr>\n",
       "    <tr>\n",
       "      <th>1</th>\n",
       "      <td>1</td>\n",
       "      <td>3</td>\n",
       "      <td>0</td>\n",
       "      <td>The handbook challenges readers to consider #m...</td>\n",
       "    </tr>\n",
       "    <tr>\n",
       "      <th>2</th>\n",
       "      <td>0</td>\n",
       "      <td>0</td>\n",
       "      <td>0</td>\n",
       "      <td>\"In #Tanzania, 21.7% of women desire to delay ...</td>\n",
       "    </tr>\n",
       "    <tr>\n",
       "      <th>3</th>\n",
       "      <td>0</td>\n",
       "      <td>3</td>\n",
       "      <td>0</td>\n",
       "      <td>This article focuses on barriers #women face a...</td>\n",
       "    </tr>\n",
       "    <tr>\n",
       "      <th>4</th>\n",
       "      <td>0</td>\n",
       "      <td>0</td>\n",
       "      <td>0</td>\n",
       "      <td>New research article now online: Measuring unm...</td>\n",
       "    </tr>\n",
       "  </tbody>\n",
       "</table>\n",
       "</div>"
      ],
      "text/plain": [
       "   Comments  Likes  Shares                                               Text\n",
       "0         0      0       0  \"Unmet need for #contraception was 34% for the...\n",
       "1         1      3       0  The handbook challenges readers to consider #m...\n",
       "2         0      0       0  \"In #Tanzania, 21.7% of women desire to delay ...\n",
       "3         0      3       0  This article focuses on barriers #women face a...\n",
       "4         0      0       0  New research article now online: Measuring unm..."
      ]
     },
     "execution_count": 7,
     "metadata": {},
     "output_type": "execute_result"
    }
   ],
   "source": [
    "df = pd.read_csv(\"data/fb_posts.csv\")\n",
    "df.head()"
   ]
  },
  {
   "cell_type": "code",
   "execution_count": 8,
   "metadata": {},
   "outputs": [
    {
     "data": {
      "text/plain": [
       "(386, 4)"
      ]
     },
     "execution_count": 8,
     "metadata": {},
     "output_type": "execute_result"
    }
   ],
   "source": [
    "df.shape"
   ]
  },
  {
   "cell_type": "code",
   "execution_count": null,
   "metadata": {},
   "outputs": [],
   "source": [
    "df[[\"Comments\", \"Likes\", \"Shares\"]] = df[[\"Comments\", \"Likes\", \"Shares\"]]/df[\"Subscribers\"]\n",
    "\n",
    "df[\"Comments\"] = df[\"Comments\"].apply(lambda x: 1 if x >= df[\"Comments\"].mean() else 0)\n",
    "df[\"Likes\"] = df[\"Likes\"].apply(lambda x: 1 if x >= df[\"Likes\"].mean() else 0)\n",
    "df[\"Shares\"] = df[\"Shares\"].apply(lambda x: 1 if x >= df[\"Shares\"].mean() else 0)\n",
    "\n",
    "df[\"label\"] = df[[\"Comments\", \"Likes\", \"Shares\"]].mean()\n",
    "df[\"label\"] = df[\"label\"].apply(lambda x: 1 if x >= 0.5 else 0)\n",
    "\n",
    "df.head()"
   ]
  },
  {
   "cell_type": "code",
   "execution_count": null,
   "metadata": {},
   "outputs": [],
   "source": []
  },
  {
   "cell_type": "markdown",
   "metadata": {},
   "source": [
    "# Data Cleaning"
   ]
  },
  {
   "cell_type": "markdown",
   "metadata": {},
   "source": [
    "## drop amharic posts"
   ]
  },
  {
   "cell_type": "code",
   "execution_count": 9,
   "metadata": {},
   "outputs": [
    {
     "data": {
      "text/html": [
       "<div>\n",
       "<style scoped>\n",
       "    .dataframe tbody tr th:only-of-type {\n",
       "        vertical-align: middle;\n",
       "    }\n",
       "\n",
       "    .dataframe tbody tr th {\n",
       "        vertical-align: top;\n",
       "    }\n",
       "\n",
       "    .dataframe thead th {\n",
       "        text-align: right;\n",
       "    }\n",
       "</style>\n",
       "<table border=\"1\" class=\"dataframe\">\n",
       "  <thead>\n",
       "    <tr style=\"text-align: right;\">\n",
       "      <th></th>\n",
       "      <th>Comments</th>\n",
       "      <th>Likes</th>\n",
       "      <th>Shares</th>\n",
       "      <th>Text</th>\n",
       "    </tr>\n",
       "  </thead>\n",
       "  <tbody>\n",
       "    <tr>\n",
       "      <th>83</th>\n",
       "      <td>0</td>\n",
       "      <td>1</td>\n",
       "      <td>0</td>\n",
       "      <td>WED, DEC 16, 2020\\nSexual Health Campaign Work...</td>\n",
       "    </tr>\n",
       "    <tr>\n",
       "      <th>6</th>\n",
       "      <td>0</td>\n",
       "      <td>3</td>\n",
       "      <td>0</td>\n",
       "      <td>Comprehensive sexuality education is fundament...</td>\n",
       "    </tr>\n",
       "    <tr>\n",
       "      <th>63</th>\n",
       "      <td>0</td>\n",
       "      <td>3</td>\n",
       "      <td>0</td>\n",
       "      <td>A very Happy Holidays from the FSRH staff! A h...</td>\n",
       "    </tr>\n",
       "    <tr>\n",
       "      <th>327</th>\n",
       "      <td>1</td>\n",
       "      <td>9</td>\n",
       "      <td>0</td>\n",
       "      <td>At Global 16 Days Campaign, we believe that a ...</td>\n",
       "    </tr>\n",
       "    <tr>\n",
       "      <th>134</th>\n",
       "      <td>0</td>\n",
       "      <td>2</td>\n",
       "      <td>0</td>\n",
       "      <td>New in our SRH Clinical Consult series:\\n\\n\"Se...</td>\n",
       "    </tr>\n",
       "  </tbody>\n",
       "</table>\n",
       "</div>"
      ],
      "text/plain": [
       "     Comments  Likes  Shares  \\\n",
       "83          0      1       0   \n",
       "6           0      3       0   \n",
       "63          0      3       0   \n",
       "327         1      9       0   \n",
       "134         0      2       0   \n",
       "\n",
       "                                                  Text  \n",
       "83   WED, DEC 16, 2020\\nSexual Health Campaign Work...  \n",
       "6    Comprehensive sexuality education is fundament...  \n",
       "63   A very Happy Holidays from the FSRH staff! A h...  \n",
       "327  At Global 16 Days Campaign, we believe that a ...  \n",
       "134  New in our SRH Clinical Consult series:\\n\\n\"Se...  "
      ]
     },
     "execution_count": 9,
     "metadata": {},
     "output_type": "execute_result"
    }
   ],
   "source": [
    "df = df[df['Text'].apply(lambda txt: not re.search(r\"[\\u1200-\\u137F]+\", str(txt)))]\n",
    "df.sample(5)"
   ]
  },
  {
   "cell_type": "markdown",
   "metadata": {},
   "source": [
    "## Add features columns to the dataframe"
   ]
  },
  {
   "cell_type": "code",
   "execution_count": 10,
   "metadata": {},
   "outputs": [
    {
     "data": {
      "text/html": [
       "<div>\n",
       "<style scoped>\n",
       "    .dataframe tbody tr th:only-of-type {\n",
       "        vertical-align: middle;\n",
       "    }\n",
       "\n",
       "    .dataframe tbody tr th {\n",
       "        vertical-align: top;\n",
       "    }\n",
       "\n",
       "    .dataframe thead th {\n",
       "        text-align: right;\n",
       "    }\n",
       "</style>\n",
       "<table border=\"1\" class=\"dataframe\">\n",
       "  <thead>\n",
       "    <tr style=\"text-align: right;\">\n",
       "      <th></th>\n",
       "      <th>Comments</th>\n",
       "      <th>Likes</th>\n",
       "      <th>Shares</th>\n",
       "      <th>Text</th>\n",
       "      <th>keyword</th>\n",
       "    </tr>\n",
       "  </thead>\n",
       "  <tbody>\n",
       "    <tr>\n",
       "      <th>40</th>\n",
       "      <td>0</td>\n",
       "      <td>2</td>\n",
       "      <td>0</td>\n",
       "      <td>Our clinical statement provides guidance on co...</td>\n",
       "      <td>Sexual health,sex</td>\n",
       "    </tr>\n",
       "    <tr>\n",
       "      <th>365</th>\n",
       "      <td>0</td>\n",
       "      <td>38</td>\n",
       "      <td>0</td>\n",
       "      <td>Gender-based violence, including rape and earl...</td>\n",
       "      <td>Gender-based violence,rape,forced marriage</td>\n",
       "    </tr>\n",
       "    <tr>\n",
       "      <th>338</th>\n",
       "      <td>0</td>\n",
       "      <td>8</td>\n",
       "      <td>0</td>\n",
       "      <td>A 2019 undercover investigation by BBC News Ar...</td>\n",
       "      <td>content</td>\n",
       "    </tr>\n",
       "    <tr>\n",
       "      <th>2</th>\n",
       "      <td>0</td>\n",
       "      <td>0</td>\n",
       "      <td>0</td>\n",
       "      <td>\"In #Tanzania, 21.7% of women desire to delay ...</td>\n",
       "      <td>Contraception</td>\n",
       "    </tr>\n",
       "    <tr>\n",
       "      <th>202</th>\n",
       "      <td>0</td>\n",
       "      <td>2</td>\n",
       "      <td>0</td>\n",
       "      <td>We are ready for the review of Canada under th...</td>\n",
       "      <td>Sexual health,sex,Gender-based violence</td>\n",
       "    </tr>\n",
       "  </tbody>\n",
       "</table>\n",
       "</div>"
      ],
      "text/plain": [
       "     Comments  Likes  Shares  \\\n",
       "40          0      2       0   \n",
       "365         0     38       0   \n",
       "338         0      8       0   \n",
       "2           0      0       0   \n",
       "202         0      2       0   \n",
       "\n",
       "                                                  Text  \\\n",
       "40   Our clinical statement provides guidance on co...   \n",
       "365  Gender-based violence, including rape and earl...   \n",
       "338  A 2019 undercover investigation by BBC News Ar...   \n",
       "2    \"In #Tanzania, 21.7% of women desire to delay ...   \n",
       "202  We are ready for the review of Canada under th...   \n",
       "\n",
       "                                        keyword  \n",
       "40                            Sexual health,sex  \n",
       "365  Gender-based violence,rape,forced marriage  \n",
       "338                                     content  \n",
       "2                                 Contraception  \n",
       "202     Sexual health,sex,Gender-based violence  "
      ]
     },
     "execution_count": 10,
     "metadata": {},
     "output_type": "execute_result"
    }
   ],
   "source": [
    "# add features columns to the dataframe\n",
    "f = open(\"data/keywords.json\")\n",
    "keywords = json.load(f)\n",
    "keyword_list = []\n",
    "for list_ in keywords.values():\n",
    "    keyword_list.extend(list_)\n",
    "\n",
    "df['keyword'] = df['Text'].apply(lambda txt: ','.join([str(keyword) for keyword in keyword_list \\\n",
    "                                                if (keyword.lower() in str(txt).lower())]))\n",
    "df.sample(5)                                        "
   ]
  },
  {
   "cell_type": "code",
   "execution_count": 11,
   "metadata": {},
   "outputs": [],
   "source": [
    "# # add features columns to the dataframe\n",
    "# f = open(\"data/keywords.json\")\n",
    "# keywords = json.load(f)\n",
    "\n",
    "# for (key, value_list) in keywords.items():\n",
    "#     df[key] = df['Text'].apply(lambda x: ','.join([str(value) for value in value_list if (value.lower() in str(x).lower())]))\n",
    "# df.sample(5)"
   ]
  },
  {
   "cell_type": "code",
   "execution_count": 12,
   "metadata": {},
   "outputs": [
    {
     "data": {
      "text/plain": [
       "(224, 5)"
      ]
     },
     "execution_count": 12,
     "metadata": {},
     "output_type": "execute_result"
    }
   ],
   "source": [
    "# drop row with empty keyword list\n",
    "df = df[df['keyword'] != '']\n",
    "df.shape"
   ]
  },
  {
   "cell_type": "code",
   "execution_count": 13,
   "metadata": {},
   "outputs": [
    {
     "data": {
      "text/plain": [
       "count    224.000000\n",
       "mean      12.321429\n",
       "std       25.755391\n",
       "min        0.000000\n",
       "25%        1.000000\n",
       "50%        3.000000\n",
       "75%       12.000000\n",
       "max      214.000000\n",
       "Name: Likes, dtype: float64"
      ]
     },
     "execution_count": 13,
     "metadata": {},
     "output_type": "execute_result"
    }
   ],
   "source": [
    "df['Likes'].describe()"
   ]
  },
  {
   "cell_type": "code",
   "execution_count": 14,
   "metadata": {},
   "outputs": [
    {
     "data": {
      "text/html": [
       "<div>\n",
       "<style scoped>\n",
       "    .dataframe tbody tr th:only-of-type {\n",
       "        vertical-align: middle;\n",
       "    }\n",
       "\n",
       "    .dataframe tbody tr th {\n",
       "        vertical-align: top;\n",
       "    }\n",
       "\n",
       "    .dataframe thead th {\n",
       "        text-align: right;\n",
       "    }\n",
       "</style>\n",
       "<table border=\"1\" class=\"dataframe\">\n",
       "  <thead>\n",
       "    <tr style=\"text-align: right;\">\n",
       "      <th></th>\n",
       "      <th>Comments</th>\n",
       "      <th>Likes</th>\n",
       "      <th>Shares</th>\n",
       "      <th>Text</th>\n",
       "      <th>keyword</th>\n",
       "      <th>label</th>\n",
       "    </tr>\n",
       "  </thead>\n",
       "  <tbody>\n",
       "    <tr>\n",
       "      <th>123</th>\n",
       "      <td>0</td>\n",
       "      <td>1</td>\n",
       "      <td>0</td>\n",
       "      <td>Estimating the market size for a dual preventi...</td>\n",
       "      <td>content,Contraception</td>\n",
       "      <td>0</td>\n",
       "    </tr>\n",
       "    <tr>\n",
       "      <th>143</th>\n",
       "      <td>0</td>\n",
       "      <td>0</td>\n",
       "      <td>0</td>\n",
       "      <td>Anxiety about separation from their partner du...</td>\n",
       "      <td>Reproductive health,sex</td>\n",
       "      <td>0</td>\n",
       "    </tr>\n",
       "    <tr>\n",
       "      <th>276</th>\n",
       "      <td>4</td>\n",
       "      <td>18</td>\n",
       "      <td>0</td>\n",
       "      <td>NAMIBIA RATIFIED C190! Becoming the third coun...</td>\n",
       "      <td>sex,Gender-based violence</td>\n",
       "      <td>1</td>\n",
       "    </tr>\n",
       "    <tr>\n",
       "      <th>218</th>\n",
       "      <td>2</td>\n",
       "      <td>16</td>\n",
       "      <td>0</td>\n",
       "      <td>We're excited to announce the winners of the 2...</td>\n",
       "      <td>Sexual health,sex</td>\n",
       "      <td>1</td>\n",
       "    </tr>\n",
       "    <tr>\n",
       "      <th>4</th>\n",
       "      <td>0</td>\n",
       "      <td>0</td>\n",
       "      <td>0</td>\n",
       "      <td>New research article now online: Measuring unm...</td>\n",
       "      <td>Contraception</td>\n",
       "      <td>0</td>\n",
       "    </tr>\n",
       "  </tbody>\n",
       "</table>\n",
       "</div>"
      ],
      "text/plain": [
       "     Comments  Likes  Shares  \\\n",
       "123         0      1       0   \n",
       "143         0      0       0   \n",
       "276         4     18       0   \n",
       "218         2     16       0   \n",
       "4           0      0       0   \n",
       "\n",
       "                                                  Text  \\\n",
       "123  Estimating the market size for a dual preventi...   \n",
       "143  Anxiety about separation from their partner du...   \n",
       "276  NAMIBIA RATIFIED C190! Becoming the third coun...   \n",
       "218  We're excited to announce the winners of the 2...   \n",
       "4    New research article now online: Measuring unm...   \n",
       "\n",
       "                       keyword  label  \n",
       "123      content,Contraception      0  \n",
       "143    Reproductive health,sex      0  \n",
       "276  sex,Gender-based violence      1  \n",
       "218          Sexual health,sex      1  \n",
       "4                Contraception      0  "
      ]
     },
     "execution_count": 14,
     "metadata": {},
     "output_type": "execute_result"
    }
   ],
   "source": [
    "# label the rows based on the likes value\n",
    "mean = df['Likes'].mean()\n",
    "df['label'] = df['Likes'].apply(lambda x: 1 if x >= mean else 0)\n",
    "df.sample(5)"
   ]
  },
  {
   "cell_type": "code",
   "execution_count": 15,
   "metadata": {},
   "outputs": [
    {
     "data": {
      "text/html": [
       "<div>\n",
       "<style scoped>\n",
       "    .dataframe tbody tr th:only-of-type {\n",
       "        vertical-align: middle;\n",
       "    }\n",
       "\n",
       "    .dataframe tbody tr th {\n",
       "        vertical-align: top;\n",
       "    }\n",
       "\n",
       "    .dataframe thead th {\n",
       "        text-align: right;\n",
       "    }\n",
       "</style>\n",
       "<table border=\"1\" class=\"dataframe\">\n",
       "  <thead>\n",
       "    <tr style=\"text-align: right;\">\n",
       "      <th></th>\n",
       "      <th>Text</th>\n",
       "      <th>keyword</th>\n",
       "      <th>label</th>\n",
       "    </tr>\n",
       "  </thead>\n",
       "  <tbody>\n",
       "    <tr>\n",
       "      <th>228</th>\n",
       "      <td>Did you know that you can now text the Access ...</td>\n",
       "      <td>Sexual health,sex</td>\n",
       "      <td>0</td>\n",
       "    </tr>\n",
       "    <tr>\n",
       "      <th>189</th>\n",
       "      <td>REMINDER: we have our HIV event tonight!! Chec...</td>\n",
       "      <td>HIV</td>\n",
       "      <td>0</td>\n",
       "    </tr>\n",
       "    <tr>\n",
       "      <th>205</th>\n",
       "      <td>We are wrapping up 2020 with an historic victo...</td>\n",
       "      <td>Abortion</td>\n",
       "      <td>1</td>\n",
       "    </tr>\n",
       "    <tr>\n",
       "      <th>176</th>\n",
       "      <td>🎉 Meet the Committee 🎉 The final post!\\n\\n\"Hi!...</td>\n",
       "      <td>Reproductive health,Abortion</td>\n",
       "      <td>0</td>\n",
       "    </tr>\n",
       "    <tr>\n",
       "      <th>7</th>\n",
       "      <td>Last chance!! Submit your paper before January...</td>\n",
       "      <td>Reproductive health,sex</td>\n",
       "      <td>0</td>\n",
       "    </tr>\n",
       "  </tbody>\n",
       "</table>\n",
       "</div>"
      ],
      "text/plain": [
       "                                                  Text  \\\n",
       "228  Did you know that you can now text the Access ...   \n",
       "189  REMINDER: we have our HIV event tonight!! Chec...   \n",
       "205  We are wrapping up 2020 with an historic victo...   \n",
       "176  🎉 Meet the Committee 🎉 The final post!\\n\\n\"Hi!...   \n",
       "7    Last chance!! Submit your paper before January...   \n",
       "\n",
       "                          keyword  label  \n",
       "228             Sexual health,sex      0  \n",
       "189                           HIV      0  \n",
       "205                      Abortion      1  \n",
       "176  Reproductive health,Abortion      0  \n",
       "7         Reproductive health,sex      0  "
      ]
     },
     "execution_count": 15,
     "metadata": {},
     "output_type": "execute_result"
    }
   ],
   "source": [
    "# drop comments, likes, shares, and text columns\n",
    "df = df.loc[:, (df.columns !='Comments') & (df.columns !='Likes') & (df.columns !='Shares')]\n",
    "df.sample(5)"
   ]
  },
  {
   "cell_type": "code",
   "execution_count": 16,
   "metadata": {},
   "outputs": [],
   "source": [
    "df.to_csv('data/cleaned_fb_posts.csv')"
   ]
  },
  {
   "cell_type": "markdown",
   "metadata": {},
   "source": [
    "# Generate sample data "
   ]
  },
  {
   "cell_type": "code",
   "execution_count": 17,
   "metadata": {},
   "outputs": [],
   "source": [
    "# # load the json keywords\n",
    "# f = open(\"data/keywords.json\")\n",
    "# keywords = json.load(f)\n",
    "# # keywords"
   ]
  },
  {
   "cell_type": "code",
   "execution_count": 18,
   "metadata": {},
   "outputs": [],
   "source": [
    "# socialMedia = ['social media used', 'digital platforms used', 'content', 'discussion points',\n",
    "#               'frequency of use', 'number of users', 'users’ profile', 'popularity']\n",
    "# youth = ['Youth', 'Young people', 'Adolescent', 'Youth',\n",
    "#         'Youth', 'Young people', 'Adolescent', 'Youth']\n",
    "# GBV = ['Gender-based violence', 'rape', 'sexual harassment', 'Gender-based violence',\n",
    "#       'forced marriage', 'Gender-based violence', 'rape', 'sexual harassment']\n",
    "# label = [1, 1, 0, 0, 1, 0, 1, 1]\n",
    "\n",
    "# df = pd.DataFrame({'socialMedia': socialMedia, 'youth': youth, 'GBV': GBV, 'label': label})\n",
    "# df"
   ]
  },
  {
   "cell_type": "markdown",
   "metadata": {},
   "source": [
    "# Exploratory Analysis"
   ]
  },
  {
   "cell_type": "code",
   "execution_count": 19,
   "metadata": {},
   "outputs": [],
   "source": [
    "# def eda_categorical(data, variable, ax=None):\n",
    "#     variable_df = data[variable].value_counts(normalize=True).reset_index()\n",
    "#     n_colors = len(variable_df)\n",
    "#     variable_df.set_index('index').T.plot(kind='barh',\n",
    "#                                         stacked=True,\n",
    "#                                         colormap=ListedColormap(sns.color_palette(\"Set2\", n_colors)),\n",
    "#                                         width=0.15, ax=ax)\n",
    "\n",
    "# def multiple_eda_categorical(data, list_categorical):\n",
    "#     n_rows = math.ceil(len(list_categorical)/2)\n",
    "#     fig = plt.figure(figsize=(12,n_rows*3))\n",
    "\n",
    "#     for i, variable in enumerate(list_categorical):\n",
    "#         ax = fig.add_subplot(n_rows,2,i+1)\n",
    "#         eda_categorical(data, variable, ax=ax)\n",
    "    \n",
    "#     plt.tight_layout()\n",
    "#     plt.show()\n",
    "\n",
    "# def multiple_eda_continuous(data, list_continuous):\n",
    "#     n_rows = math.ceil(len(list_continuous)/3)\n",
    "#     fig = plt.figure(figsize=(12,n_rows*5))\n",
    "#     palette = sns.color_palette('Set2', 3)\n",
    "\n",
    "#     for i, variable in enumerate(list_continuous):\n",
    "#         ax = fig.add_subplot(n_rows,3,i+1)\n",
    "#         sns.boxplot(x=variable, data=data, orient='v', palette=[palette[i]], ax=ax)\n",
    "#         ax.set_ylabel('')\n",
    "#         ax.set_title(variable)\n",
    "\n",
    "#     plt.tight_layout()\n",
    "#     plt.show()"
   ]
  },
  {
   "cell_type": "code",
   "execution_count": 20,
   "metadata": {},
   "outputs": [],
   "source": [
    "# from pandas.api.types import is_numeric_dtype\n",
    "\n",
    "# continuous, categorical = [], []\n",
    "\n",
    "# for col in df.columns[df.columns != 'label']:\n",
    "#     if is_numeric_dtype(df[col]):\n",
    "#         continuous.append(col)\n",
    "#     else:\n",
    "#         categorical.append(col)"
   ]
  },
  {
   "cell_type": "code",
   "execution_count": 21,
   "metadata": {},
   "outputs": [
    {
     "name": "stdout",
     "output_type": "stream",
     "text": [
      "Dataset contains 224 records\n",
      "Number of post which gets a positive feadback: 54 (24.11%)\n"
     ]
    }
   ],
   "source": [
    "n = len(df)\n",
    "n_positive = sum(df['label'])\n",
    "n_negative = n - n_positive\n",
    "\n",
    "print('Dataset contains %d records' % (n))\n",
    "print('Number of post which gets a positive feadback: %d (%0.2f%%)' % (n_positive, n_positive*100/n))"
   ]
  },
  {
   "cell_type": "code",
   "execution_count": 22,
   "metadata": {},
   "outputs": [],
   "source": [
    "# multiple_eda_categorical(df, categorical)"
   ]
  }
 ],
 "metadata": {
  "kernelspec": {
   "display_name": "Python 3",
   "language": "python",
   "name": "python3"
  },
  "language_info": {
   "codemirror_mode": {
    "name": "ipython",
    "version": 3
   },
   "file_extension": ".py",
   "mimetype": "text/x-python",
   "name": "python",
   "nbconvert_exporter": "python",
   "pygments_lexer": "ipython3",
   "version": "3.7.6"
  }
 },
 "nbformat": 4,
 "nbformat_minor": 4
}
