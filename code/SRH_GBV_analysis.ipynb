{
 "cells": [
  {
   "cell_type": "code",
   "execution_count": 1,
   "metadata": {},
   "outputs": [],
   "source": [
    "# import the necessary packages\n",
    "from facebook_scraper import get_posts\n",
    "from twitter_scraper import get_tweets\n",
    "import seaborn as sns\n",
    "import pandas as pd\n",
    "import numpy as np\n",
    "import time\n",
    "import json\n",
    "import re\n",
    "\n",
    "from AttributeRelevance import *\n",
    "from Features import *"
   ]
  },
  {
   "cell_type": "markdown",
   "metadata": {},
   "source": [
    "# Part - 1: Data Collection"
   ]
  },
  {
   "cell_type": "markdown",
   "metadata": {},
   "source": [
    "## Scrape facebook"
   ]
  },
  {
   "cell_type": "code",
   "execution_count": 2,
   "metadata": {},
   "outputs": [],
   "source": [
    "# define a function to scrape facebook posts\n",
    "def scrape_facebook(accounts):\n",
    "    posts = []\n",
    "    count = 0\n",
    "    for account in accounts:\n",
    "        for post in get_posts(account):\n",
    "            try:\n",
    "                post_dict = {}\n",
    "                post_dict[\"post_id\"] = post[\"post_id\"]\n",
    "                post_dict[\"text\"] = post[\"text\"]\n",
    "                post_dict[\"post_text\"] = post[\"post_text\"]\n",
    "                post_dict[\"shared_text\"] = post[\"shared_text\"]\n",
    "                post_dict[\"time\"] = post[\"time\"]\n",
    "                post_dict[\"image\"] = post[\"image\"]\n",
    "                post_dict[\"video\"] = post[\"video\"]\n",
    "                post_dict[\"video_thumbnail\"] = post[\"video_thumbnail\"]\n",
    "                post_dict[\"video_id\"] = post[\"video_id\"]\n",
    "                post_dict[\"likes\"] = post[\"likes\"]\n",
    "                post_dict[\"comments\"] = post[\"comments\"]\n",
    "                post_dict[\"shares\"] = post[\"shares\"]\n",
    "                post_dict[\"post_url\"] = post[\"post_url\"]\n",
    "                post_dict[\"link\"] = post[\"link\"]\n",
    "                post_dict[\"user_id\"] = post[\"user_id\"]\n",
    "                post_dict[\"images\"] = post[\"images\"]\n",
    "                posts.append(post_dict)\n",
    "            except:\n",
    "                continue\n",
    "        count += 1\n",
    "        print(f\"complete scrapping {count} accounts out of {len(accounts)} accounts\")\n",
    "            \n",
    "    return posts"
   ]
  },
  {
   "cell_type": "code",
   "execution_count": 3,
   "metadata": {},
   "outputs": [
    {
     "name": "stdout",
     "output_type": "stream",
     "text": [
      "complete scrapping 1 accounts out of 11 accounts\n",
      "complete scrapping 2 accounts out of 11 accounts\n",
      "complete scrapping 3 accounts out of 11 accounts\n",
      "complete scrapping 4 accounts out of 11 accounts\n",
      "complete scrapping 5 accounts out of 11 accounts\n",
      "complete scrapping 6 accounts out of 11 accounts\n",
      "complete scrapping 7 accounts out of 11 accounts\n",
      "complete scrapping 8 accounts out of 11 accounts\n",
      "complete scrapping 9 accounts out of 11 accounts\n",
      "complete scrapping 10 accounts out of 11 accounts\n",
      "complete scrapping 11 accounts out of 11 accounts\n",
      "data scraping takes: 1020.8554711341858 seconds\n",
      "            post_id                                               text  \\\n",
      "0  4183582811698940  New research finds that by using #photovoice, ...   \n",
      "1  4181041485286406  We cannot overlook #reprohealth and #reprorigh...   \n",
      "2  4179768305413724  Our latest editorial is now available online. ...   \n",
      "3  4178431158880772  Evidence of the #health system challenges to p...   \n",
      "4  4176874072369814  President Biden repeals the Global Gag Rule - ...   \n",
      "\n",
      "                                           post_text  \\\n",
      "0  New research finds that by using #photovoice, ...   \n",
      "1  We cannot overlook #reprohealth and #reprorigh...   \n",
      "2  Our latest editorial is now available online. ...   \n",
      "3  Evidence of the #health system challenges to p...   \n",
      "4  President Biden repeals the Global Gag Rule - ...   \n",
      "\n",
      "                                       shared_text                time  \\\n",
      "0                                                  2021-02-04 13:25:03   \n",
      "1              SRHM.ORG\\nCall for Papers: COVID-19 2021-02-03 13:25:03   \n",
      "2  TANDFONLINE.COM\\nA round-up of articles in 2020 2021-02-03 00:41:05   \n",
      "3                                                  2021-02-02 13:25:03   \n",
      "4                                                  2021-02-01 21:48:36   \n",
      "\n",
      "                                               image video video_thumbnail  \\\n",
      "0  https://scontent.fadd1-1.fna.fbcdn.net/v/t1.0-...  None            None   \n",
      "1                                               None  None            None   \n",
      "2                                               None  None            None   \n",
      "3  https://scontent.fadd1-1.fna.fbcdn.net/v/t1.0-...  None            None   \n",
      "4  https://scontent.fadd1-1.fna.fbcdn.net/v/t1.0-...  None            None   \n",
      "\n",
      "  video_id  likes  comments  shares  \\\n",
      "0     None      2         0       0   \n",
      "1     None      3         0       0   \n",
      "2     None      0         0       0   \n",
      "3     None      3         0       0   \n",
      "4     None      1         0       0   \n",
      "\n",
      "                                            post_url  \\\n",
      "0                                               None   \n",
      "1  https://facebook.com/story.php?story_fbid=4181...   \n",
      "2  https://facebook.com/story.php?story_fbid=4179...   \n",
      "3                                               None   \n",
      "4                                               None   \n",
      "\n",
      "                                                link          user_id  \\\n",
      "0                             https://bit.ly/2XZFJyV  126697227387539   \n",
      "1       http://www.srhm.org/call-for-papers-covid19/  126697227387539   \n",
      "2                             https://bit.ly/3oDquXj  126697227387539   \n",
      "3                             https://bit.ly/3qC86PZ  126697227387539   \n",
      "4  https://mailchi.mp/c0533878aec1/your-april-new...  126697227387539   \n",
      "\n",
      "                                              images  \n",
      "0  [https://scontent.fadd1-1.fna.fbcdn.net/v/t1.0...  \n",
      "1                                                 []  \n",
      "2                                                 []  \n",
      "3  [https://scontent.fadd1-1.fna.fbcdn.net/v/t1.0...  \n",
      "4  [https://scontent.fadd1-1.fna.fbcdn.net/v/t1.0...  \n",
      "(424, 16)\n"
     ]
    }
   ],
   "source": [
    "# facebook pages to be scrape which are related to SRH and GBV\n",
    "facebook_accounts = [\"SRHMJournal\", \"FSRH.UK\", \"mmsa.scora\", \"BMJ.SRH\", \n",
    "                     \"BLreproductivehealth\", \"actioncanadaSHR\", \"GBVPrevNetwork\", \n",
    "                     \"StopGBVatWork\", \"16DaysCampaign\", \"SayNO.UNiTE\", \"TheYellowMovementAau\"]\n",
    "\n",
    "# scrape facebook posts related to SRH and GBV\n",
    "start = time.time()\n",
    "posts = scrape_facebook(facebook_accounts)\n",
    "end = time.time()\n",
    "print(f\"data scraping takes: {(end - start)} seconds\")\n",
    "fb_posts_df = pd.DataFrame(posts)\n",
    "fb_posts_df.shape"
   ]
  },
  {
   "cell_type": "code",
   "execution_count": 4,
   "metadata": {},
   "outputs": [
    {
     "data": {
      "text/plain": [
       "(38, 16)"
      ]
     },
     "execution_count": 4,
     "metadata": {},
     "output_type": "execute_result"
    }
   ],
   "source": [
    "AWAREsg_df = pd.read_csv(\"../data/AWAREsg.csv\")\n",
    "AWAREsg_df.shape"
   ]
  },
  {
   "cell_type": "code",
   "execution_count": 5,
   "metadata": {},
   "outputs": [
    {
     "data": {
      "text/plain": [
       "(38, 16)"
      ]
     },
     "execution_count": 5,
     "metadata": {},
     "output_type": "execute_result"
    }
   ],
   "source": [
    "emerge_global_df = pd.read_csv(\"../data/EmergeGlobal.csv\")\n",
    "emerge_global_df = emerge_global_df.drop(columns=[\"Unnamed: 16\", \"Unnamed: 17\"])\n",
    "emerge_global_df.shape"
   ]
  },
  {
   "cell_type": "code",
   "execution_count": 6,
   "metadata": {},
   "outputs": [
    {
     "data": {
      "text/plain": [
       "(38, 16)"
      ]
     },
     "execution_count": 6,
     "metadata": {},
     "output_type": "execute_result"
    }
   ],
   "source": [
    "equality_now_df = pd.read_csv(\"../data/equalitynow.csv\")\n",
    "equality_now_df.shape"
   ]
  },
  {
   "cell_type": "code",
   "execution_count": 7,
   "metadata": {},
   "outputs": [
    {
     "data": {
      "text/plain": [
       "(26, 16)"
      ]
     },
     "execution_count": 7,
     "metadata": {},
     "output_type": "execute_result"
    }
   ],
   "source": [
    "girls_are_not_for_sale_df = pd.read_csv(\"../data/girlsarenotforsale.csv\")\n",
    "girls_are_not_for_sale_df.shape"
   ]
  },
  {
   "cell_type": "code",
   "execution_count": 130,
   "metadata": {},
   "outputs": [
    {
     "data": {
      "text/html": [
       "<div>\n",
       "<style scoped>\n",
       "    .dataframe tbody tr th:only-of-type {\n",
       "        vertical-align: middle;\n",
       "    }\n",
       "\n",
       "    .dataframe tbody tr th {\n",
       "        vertical-align: top;\n",
       "    }\n",
       "\n",
       "    .dataframe thead th {\n",
       "        text-align: right;\n",
       "    }\n",
       "</style>\n",
       "<table border=\"1\" class=\"dataframe\">\n",
       "  <thead>\n",
       "    <tr style=\"text-align: right;\">\n",
       "      <th></th>\n",
       "      <th>post_id</th>\n",
       "      <th>text</th>\n",
       "      <th>post_text</th>\n",
       "      <th>shared_text</th>\n",
       "      <th>time</th>\n",
       "      <th>image</th>\n",
       "      <th>video</th>\n",
       "      <th>video_thumbnail</th>\n",
       "      <th>video_id</th>\n",
       "      <th>likes</th>\n",
       "      <th>comments</th>\n",
       "      <th>shares</th>\n",
       "      <th>post_url</th>\n",
       "      <th>link</th>\n",
       "      <th>user_id</th>\n",
       "      <th>images</th>\n",
       "    </tr>\n",
       "  </thead>\n",
       "  <tbody>\n",
       "    <tr>\n",
       "      <th>0</th>\n",
       "      <td>4183582811698940</td>\n",
       "      <td>New research finds that by using #photovoice, ...</td>\n",
       "      <td>New research finds that by using #photovoice, ...</td>\n",
       "      <td></td>\n",
       "      <td>2021-02-04 13:25:03</td>\n",
       "      <td>https://scontent.fadd1-1.fna.fbcdn.net/v/t1.0-...</td>\n",
       "      <td>None</td>\n",
       "      <td>None</td>\n",
       "      <td>None</td>\n",
       "      <td>2.0</td>\n",
       "      <td>0.0</td>\n",
       "      <td>0</td>\n",
       "      <td>None</td>\n",
       "      <td>https://bit.ly/2XZFJyV</td>\n",
       "      <td>126697227387539</td>\n",
       "      <td>[https://scontent.fadd1-1.fna.fbcdn.net/v/t1.0...</td>\n",
       "    </tr>\n",
       "    <tr>\n",
       "      <th>1</th>\n",
       "      <td>4181041485286406</td>\n",
       "      <td>We cannot overlook #reprohealth and #reprorigh...</td>\n",
       "      <td>We cannot overlook #reprohealth and #reprorigh...</td>\n",
       "      <td>SRHM.ORG\\nCall for Papers: COVID-19</td>\n",
       "      <td>2021-02-03 13:25:03</td>\n",
       "      <td>None</td>\n",
       "      <td>None</td>\n",
       "      <td>None</td>\n",
       "      <td>None</td>\n",
       "      <td>3.0</td>\n",
       "      <td>0.0</td>\n",
       "      <td>0</td>\n",
       "      <td>https://facebook.com/story.php?story_fbid=4181...</td>\n",
       "      <td>http://www.srhm.org/call-for-papers-covid19/</td>\n",
       "      <td>126697227387539</td>\n",
       "      <td>[]</td>\n",
       "    </tr>\n",
       "    <tr>\n",
       "      <th>2</th>\n",
       "      <td>4179768305413724</td>\n",
       "      <td>Our latest editorial is now available online. ...</td>\n",
       "      <td>Our latest editorial is now available online. ...</td>\n",
       "      <td>TANDFONLINE.COM\\nA round-up of articles in 2020</td>\n",
       "      <td>2021-02-03 00:41:05</td>\n",
       "      <td>None</td>\n",
       "      <td>None</td>\n",
       "      <td>None</td>\n",
       "      <td>None</td>\n",
       "      <td>0.0</td>\n",
       "      <td>0.0</td>\n",
       "      <td>0</td>\n",
       "      <td>https://facebook.com/story.php?story_fbid=4179...</td>\n",
       "      <td>https://bit.ly/3oDquXj</td>\n",
       "      <td>126697227387539</td>\n",
       "      <td>[]</td>\n",
       "    </tr>\n",
       "    <tr>\n",
       "      <th>3</th>\n",
       "      <td>4178431158880772</td>\n",
       "      <td>Evidence of the #health system challenges to p...</td>\n",
       "      <td>Evidence of the #health system challenges to p...</td>\n",
       "      <td></td>\n",
       "      <td>2021-02-02 13:25:03</td>\n",
       "      <td>https://scontent.fadd1-1.fna.fbcdn.net/v/t1.0-...</td>\n",
       "      <td>None</td>\n",
       "      <td>None</td>\n",
       "      <td>None</td>\n",
       "      <td>3.0</td>\n",
       "      <td>0.0</td>\n",
       "      <td>0</td>\n",
       "      <td>None</td>\n",
       "      <td>https://bit.ly/3qC86PZ</td>\n",
       "      <td>126697227387539</td>\n",
       "      <td>[https://scontent.fadd1-1.fna.fbcdn.net/v/t1.0...</td>\n",
       "    </tr>\n",
       "    <tr>\n",
       "      <th>4</th>\n",
       "      <td>4176874072369814</td>\n",
       "      <td>President Biden repeals the Global Gag Rule - ...</td>\n",
       "      <td>President Biden repeals the Global Gag Rule - ...</td>\n",
       "      <td></td>\n",
       "      <td>2021-02-01 21:48:36</td>\n",
       "      <td>https://scontent.fadd1-1.fna.fbcdn.net/v/t1.0-...</td>\n",
       "      <td>None</td>\n",
       "      <td>None</td>\n",
       "      <td>None</td>\n",
       "      <td>1.0</td>\n",
       "      <td>0.0</td>\n",
       "      <td>0</td>\n",
       "      <td>None</td>\n",
       "      <td>https://mailchi.mp/c0533878aec1/your-april-new...</td>\n",
       "      <td>126697227387539</td>\n",
       "      <td>[https://scontent.fadd1-1.fna.fbcdn.net/v/t1.0...</td>\n",
       "    </tr>\n",
       "  </tbody>\n",
       "</table>\n",
       "</div>"
      ],
      "text/plain": [
       "            post_id                                               text  \\\n",
       "0  4183582811698940  New research finds that by using #photovoice, ...   \n",
       "1  4181041485286406  We cannot overlook #reprohealth and #reprorigh...   \n",
       "2  4179768305413724  Our latest editorial is now available online. ...   \n",
       "3  4178431158880772  Evidence of the #health system challenges to p...   \n",
       "4  4176874072369814  President Biden repeals the Global Gag Rule - ...   \n",
       "\n",
       "                                           post_text  \\\n",
       "0  New research finds that by using #photovoice, ...   \n",
       "1  We cannot overlook #reprohealth and #reprorigh...   \n",
       "2  Our latest editorial is now available online. ...   \n",
       "3  Evidence of the #health system challenges to p...   \n",
       "4  President Biden repeals the Global Gag Rule - ...   \n",
       "\n",
       "                                       shared_text                 time  \\\n",
       "0                                                   2021-02-04 13:25:03   \n",
       "1              SRHM.ORG\\nCall for Papers: COVID-19  2021-02-03 13:25:03   \n",
       "2  TANDFONLINE.COM\\nA round-up of articles in 2020  2021-02-03 00:41:05   \n",
       "3                                                   2021-02-02 13:25:03   \n",
       "4                                                   2021-02-01 21:48:36   \n",
       "\n",
       "                                               image video video_thumbnail  \\\n",
       "0  https://scontent.fadd1-1.fna.fbcdn.net/v/t1.0-...  None            None   \n",
       "1                                               None  None            None   \n",
       "2                                               None  None            None   \n",
       "3  https://scontent.fadd1-1.fna.fbcdn.net/v/t1.0-...  None            None   \n",
       "4  https://scontent.fadd1-1.fna.fbcdn.net/v/t1.0-...  None            None   \n",
       "\n",
       "  video_id  likes  comments  shares  \\\n",
       "0     None    2.0       0.0       0   \n",
       "1     None    3.0       0.0       0   \n",
       "2     None    0.0       0.0       0   \n",
       "3     None    3.0       0.0       0   \n",
       "4     None    1.0       0.0       0   \n",
       "\n",
       "                                            post_url  \\\n",
       "0                                               None   \n",
       "1  https://facebook.com/story.php?story_fbid=4181...   \n",
       "2  https://facebook.com/story.php?story_fbid=4179...   \n",
       "3                                               None   \n",
       "4                                               None   \n",
       "\n",
       "                                                link          user_id  \\\n",
       "0                             https://bit.ly/2XZFJyV  126697227387539   \n",
       "1       http://www.srhm.org/call-for-papers-covid19/  126697227387539   \n",
       "2                             https://bit.ly/3oDquXj  126697227387539   \n",
       "3                             https://bit.ly/3qC86PZ  126697227387539   \n",
       "4  https://mailchi.mp/c0533878aec1/your-april-new...  126697227387539   \n",
       "\n",
       "                                              images  \n",
       "0  [https://scontent.fadd1-1.fna.fbcdn.net/v/t1.0...  \n",
       "1                                                 []  \n",
       "2                                                 []  \n",
       "3  [https://scontent.fadd1-1.fna.fbcdn.net/v/t1.0...  \n",
       "4  [https://scontent.fadd1-1.fna.fbcdn.net/v/t1.0...  "
      ]
     },
     "execution_count": 130,
     "metadata": {},
     "output_type": "execute_result"
    }
   ],
   "source": [
    "# concatinating the scrapped dataframes\n",
    "frames = [fb_posts_df, AWAREsg_df, emerge_global_df, equality_now_df, girls_are_not_for_sale_df]\n",
    "df = pd.concat(frames)\n",
    "df.head()"
   ]
  },
  {
   "cell_type": "code",
   "execution_count": 131,
   "metadata": {},
   "outputs": [
    {
     "data": {
      "text/plain": [
       "(564, 16)"
      ]
     },
     "execution_count": 131,
     "metadata": {},
     "output_type": "execute_result"
    }
   ],
   "source": [
    "df.shape"
   ]
  },
  {
   "cell_type": "code",
   "execution_count": 132,
   "metadata": {},
   "outputs": [],
   "source": [
    "df.to_csv('../data/fb_posts.csv', index=False)"
   ]
  },
  {
   "cell_type": "code",
   "execution_count": 39,
   "metadata": {},
   "outputs": [
    {
     "data": {
      "text/plain": [
       "(564, 16)"
      ]
     },
     "execution_count": 39,
     "metadata": {},
     "output_type": "execute_result"
    }
   ],
   "source": [
    "df = pd.read_csv('../data/fb_posts.csv')\n",
    "df.shape"
   ]
  },
  {
   "cell_type": "markdown",
   "metadata": {},
   "source": [
    "## Scrape twitter"
   ]
  },
  {
   "cell_type": "code",
   "execution_count": 7,
   "metadata": {},
   "outputs": [],
   "source": [
    "# define a function to scrape twitter tweets\n",
    "def scrape_twitter(accounts):\n",
    "    tweets = []\n",
    "    count = 0\n",
    "    for account in accounts:\n",
    "        for tweet in get_tweets(account):\n",
    "            try:\n",
    "                tweet_dict = {}\n",
    "                tweet_dict[\"tweetId\"] = tweet[\"tweetId\"]\n",
    "                tweet_dict[\"userId\"] = tweet[\"userId\"]\n",
    "                tweet_dict[\"username\"] = tweet[\"username\"]\n",
    "                tweet_dict[\"tweetUrl\"] = tweet[\"tweetUrl\"]\n",
    "                tweet_dict[\"isRetweet\"] = tweet[\"isRetweet\"]\n",
    "                tweet_dict[\"isPinned\"] = tweet[\"isPinned\"]\n",
    "                tweet_dict[\"time\"] = tweet[\"time\"]\n",
    "                tweet_dict[\"text\"] = tweet[\"text\"]\n",
    "                tweet_dict[\"replies\"] = tweet[\"replies\"]\n",
    "                tweet_dict[\"retweets\"] = tweet[\"retweets\"]\n",
    "                tweet_dict[\"comments\"] = tweet[\"comments\"]\n",
    "                tweet_dict[\"likes\"] = tweet[\"likes\"]\n",
    "                tweet_dict[\"entries\"] = tweet[\"entries\"]\n",
    "                tweets.append(tweet_dict)\n",
    "            except:\n",
    "                continue\n",
    "        count += 1\n",
    "        print(f\"complete scrapping {count} accounts out of {len(accounts)} accounts\")\n",
    "            \n",
    "    return posts"
   ]
  },
  {
   "cell_type": "code",
   "execution_count": 10,
   "metadata": {},
   "outputs": [],
   "source": [
    "# facebook pages to be scrape which are related to SRH and GBV\n",
    "twitter_accounts = [\"psrhjournal\", \"bmj_srh\", \"reprod_health\"]\n",
    "\n",
    "# scrape facebook posts related to SRH and GBV\n",
    "start = time.time()\n",
    "tweets = scrape_twitter(twitter_accounts)\n",
    "end = time.time()\n",
    "print(f\"data scraping takes: {(end - start)} seconds\")\n",
    "twitter_tweets_df = pd.DataFrame(tweets)\n",
    "twitter_tweets_df.shape"
   ]
  },
  {
   "cell_type": "code",
   "execution_count": null,
   "metadata": {},
   "outputs": [],
   "source": [
    "twitter_tweets_df.head()"
   ]
  },
  {
   "cell_type": "markdown",
   "metadata": {},
   "source": [
    "# Part - 2: Data Cleaning and Transforming"
   ]
  },
  {
   "cell_type": "markdown",
   "metadata": {},
   "source": [
    "## Text cleaning"
   ]
  },
  {
   "cell_type": "code",
   "execution_count": 40,
   "metadata": {},
   "outputs": [
    {
     "data": {
      "text/plain": [
       "(529, 16)"
      ]
     },
     "execution_count": 40,
     "metadata": {},
     "output_type": "execute_result"
    }
   ],
   "source": [
    "# drop amharic posts\n",
    "df = df[df['text'].apply(lambda txt: not re.search(r\"[\\u1200-\\u137F]+\", str(txt)))]\n",
    "df.shape"
   ]
  },
  {
   "cell_type": "code",
   "execution_count": 41,
   "metadata": {},
   "outputs": [
    {
     "data": {
      "text/plain": [
       "(520, 16)"
      ]
     },
     "execution_count": 41,
     "metadata": {},
     "output_type": "execute_result"
    }
   ],
   "source": [
    "# drop post with empty text\n",
    "df[\"text\"] = df[\"text\"].replace({\"\", np.nan})\n",
    "df = df.dropna(subset=[\"text\"])\n",
    "df.shape"
   ]
  },
  {
   "cell_type": "code",
   "execution_count": 42,
   "metadata": {},
   "outputs": [
    {
     "data": {
      "text/plain": [
       "(90, 17)"
      ]
     },
     "execution_count": 42,
     "metadata": {},
     "output_type": "execute_result"
    }
   ],
   "source": [
    "# content based cleaning \n",
    "# define keyword group count\n",
    "def keyword_group_count(txt):\n",
    "    f = open(\"../data/keywords.json\")\n",
    "    keywords = json.load(f)\n",
    "    f.close()\n",
    "    count = 0\n",
    "    for keyword_list in keywords.values():\n",
    "        for keyword in keyword_list:\n",
    "            if str(keyword).lower() in txt.lower():\n",
    "                count += 1\n",
    "                break\n",
    "    return count\n",
    "\n",
    "# add keyword group count columns\n",
    "df[\"keyword_group_count\"] = df[\"text\"].apply(lambda txt: keyword_group_count(txt))\n",
    "df = df[df[\"keyword_group_count\"] >= 2]\n",
    "df.shape"
   ]
  },
  {
   "cell_type": "markdown",
   "metadata": {},
   "source": [
    "## Labeling"
   ]
  },
  {
   "cell_type": "code",
   "execution_count": 43,
   "metadata": {},
   "outputs": [
    {
     "data": {
      "text/html": [
       "<div>\n",
       "<style scoped>\n",
       "    .dataframe tbody tr th:only-of-type {\n",
       "        vertical-align: middle;\n",
       "    }\n",
       "\n",
       "    .dataframe tbody tr th {\n",
       "        vertical-align: top;\n",
       "    }\n",
       "\n",
       "    .dataframe thead th {\n",
       "        text-align: right;\n",
       "    }\n",
       "</style>\n",
       "<table border=\"1\" class=\"dataframe\">\n",
       "  <thead>\n",
       "    <tr style=\"text-align: right;\">\n",
       "      <th></th>\n",
       "      <th>post_id</th>\n",
       "      <th>text</th>\n",
       "      <th>post_text</th>\n",
       "      <th>shared_text</th>\n",
       "      <th>time</th>\n",
       "      <th>image</th>\n",
       "      <th>video</th>\n",
       "      <th>video_thumbnail</th>\n",
       "      <th>video_id</th>\n",
       "      <th>likes</th>\n",
       "      <th>comments</th>\n",
       "      <th>shares</th>\n",
       "      <th>post_url</th>\n",
       "      <th>link</th>\n",
       "      <th>user_id</th>\n",
       "      <th>images</th>\n",
       "      <th>keyword_group_count</th>\n",
       "      <th>label</th>\n",
       "    </tr>\n",
       "  </thead>\n",
       "  <tbody>\n",
       "    <tr>\n",
       "      <th>3</th>\n",
       "      <td>4.178431e+15</td>\n",
       "      <td>Evidence of the #health system challenges to p...</td>\n",
       "      <td>Evidence of the #health system challenges to p...</td>\n",
       "      <td>NaN</td>\n",
       "      <td>2021-02-02 13:25:03</td>\n",
       "      <td>https://scontent.fadd1-1.fna.fbcdn.net/v/t1.0-...</td>\n",
       "      <td>NaN</td>\n",
       "      <td>NaN</td>\n",
       "      <td>NaN</td>\n",
       "      <td>-0.181017</td>\n",
       "      <td>-0.366248</td>\n",
       "      <td>-0.342904</td>\n",
       "      <td>NaN</td>\n",
       "      <td>https://bit.ly/3qC86PZ</td>\n",
       "      <td>126697227387539</td>\n",
       "      <td>['https://scontent.fadd1-1.fna.fbcdn.net/v/t1....</td>\n",
       "      <td>2</td>\n",
       "      <td>0</td>\n",
       "    </tr>\n",
       "    <tr>\n",
       "      <th>7</th>\n",
       "      <td>4.165486e+15</td>\n",
       "      <td>Unwanted pregnancy and unsafe #abortion contri...</td>\n",
       "      <td>Unwanted pregnancy and unsafe #abortion contri...</td>\n",
       "      <td>NaN</td>\n",
       "      <td>2021-01-28 13:25:04</td>\n",
       "      <td>https://scontent.fadd1-1.fna.fbcdn.net/v/t1.0-...</td>\n",
       "      <td>NaN</td>\n",
       "      <td>NaN</td>\n",
       "      <td>NaN</td>\n",
       "      <td>-0.181017</td>\n",
       "      <td>-0.366248</td>\n",
       "      <td>-0.342904</td>\n",
       "      <td>NaN</td>\n",
       "      <td>https://bit.ly/3iw0mMF</td>\n",
       "      <td>126697227387539</td>\n",
       "      <td>['https://scontent.fadd1-1.fna.fbcdn.net/v/t1....</td>\n",
       "      <td>2</td>\n",
       "      <td>0</td>\n",
       "    </tr>\n",
       "    <tr>\n",
       "      <th>19</th>\n",
       "      <td>4.110924e+15</td>\n",
       "      <td>The handbook challenges readers to consider #m...</td>\n",
       "      <td>The handbook challenges readers to consider #m...</td>\n",
       "      <td>NaN</td>\n",
       "      <td>2021-01-08 20:15:16</td>\n",
       "      <td>https://scontent.fadd1-1.fna.fbcdn.net/v/t1.0-...</td>\n",
       "      <td>NaN</td>\n",
       "      <td>NaN</td>\n",
       "      <td>NaN</td>\n",
       "      <td>-0.181017</td>\n",
       "      <td>-0.055809</td>\n",
       "      <td>-0.342904</td>\n",
       "      <td>NaN</td>\n",
       "      <td>https://bit.ly/3h2N4Xi</td>\n",
       "      <td>126697227387539</td>\n",
       "      <td>['https://scontent.fadd1-1.fna.fbcdn.net/v/t1....</td>\n",
       "      <td>2</td>\n",
       "      <td>0</td>\n",
       "    </tr>\n",
       "    <tr>\n",
       "      <th>21</th>\n",
       "      <td>4.107126e+15</td>\n",
       "      <td>This article focuses on barriers #women face a...</td>\n",
       "      <td>This article focuses on barriers #women face a...</td>\n",
       "      <td>NaN</td>\n",
       "      <td>2021-01-07 11:15:06</td>\n",
       "      <td>https://scontent.fadd1-1.fna.fbcdn.net/v/t1.0-...</td>\n",
       "      <td>NaN</td>\n",
       "      <td>NaN</td>\n",
       "      <td>NaN</td>\n",
       "      <td>-0.181017</td>\n",
       "      <td>-0.366248</td>\n",
       "      <td>-0.342904</td>\n",
       "      <td>NaN</td>\n",
       "      <td>https://bit.ly/3mAd5hZ</td>\n",
       "      <td>126697227387539</td>\n",
       "      <td>['https://scontent.fadd1-1.fna.fbcdn.net/v/t1....</td>\n",
       "      <td>2</td>\n",
       "      <td>0</td>\n",
       "    </tr>\n",
       "    <tr>\n",
       "      <th>34</th>\n",
       "      <td>4.071571e+15</td>\n",
       "      <td>New commentary now online: Comprehensive sexua...</td>\n",
       "      <td>New commentary now online: Comprehensive sexua...</td>\n",
       "      <td>NaN</td>\n",
       "      <td>2020-12-24 12:15:10</td>\n",
       "      <td>https://scontent.fadd1-1.fna.fbcdn.net/v/t1.0-...</td>\n",
       "      <td>NaN</td>\n",
       "      <td>NaN</td>\n",
       "      <td>NaN</td>\n",
       "      <td>-0.184597</td>\n",
       "      <td>-0.366248</td>\n",
       "      <td>-0.342904</td>\n",
       "      <td>NaN</td>\n",
       "      <td>https://bit.ly/3h1iFsi</td>\n",
       "      <td>126697227387539</td>\n",
       "      <td>['https://scontent.fadd1-1.fna.fbcdn.net/v/t1....</td>\n",
       "      <td>3</td>\n",
       "      <td>0</td>\n",
       "    </tr>\n",
       "  </tbody>\n",
       "</table>\n",
       "</div>"
      ],
      "text/plain": [
       "         post_id                                               text  \\\n",
       "3   4.178431e+15  Evidence of the #health system challenges to p...   \n",
       "7   4.165486e+15  Unwanted pregnancy and unsafe #abortion contri...   \n",
       "19  4.110924e+15  The handbook challenges readers to consider #m...   \n",
       "21  4.107126e+15  This article focuses on barriers #women face a...   \n",
       "34  4.071571e+15  New commentary now online: Comprehensive sexua...   \n",
       "\n",
       "                                            post_text shared_text  \\\n",
       "3   Evidence of the #health system challenges to p...         NaN   \n",
       "7   Unwanted pregnancy and unsafe #abortion contri...         NaN   \n",
       "19  The handbook challenges readers to consider #m...         NaN   \n",
       "21  This article focuses on barriers #women face a...         NaN   \n",
       "34  New commentary now online: Comprehensive sexua...         NaN   \n",
       "\n",
       "                   time                                              image  \\\n",
       "3   2021-02-02 13:25:03  https://scontent.fadd1-1.fna.fbcdn.net/v/t1.0-...   \n",
       "7   2021-01-28 13:25:04  https://scontent.fadd1-1.fna.fbcdn.net/v/t1.0-...   \n",
       "19  2021-01-08 20:15:16  https://scontent.fadd1-1.fna.fbcdn.net/v/t1.0-...   \n",
       "21  2021-01-07 11:15:06  https://scontent.fadd1-1.fna.fbcdn.net/v/t1.0-...   \n",
       "34  2020-12-24 12:15:10  https://scontent.fadd1-1.fna.fbcdn.net/v/t1.0-...   \n",
       "\n",
       "   video video_thumbnail  video_id     likes  comments    shares post_url  \\\n",
       "3    NaN             NaN       NaN -0.181017 -0.366248 -0.342904      NaN   \n",
       "7    NaN             NaN       NaN -0.181017 -0.366248 -0.342904      NaN   \n",
       "19   NaN             NaN       NaN -0.181017 -0.055809 -0.342904      NaN   \n",
       "21   NaN             NaN       NaN -0.181017 -0.366248 -0.342904      NaN   \n",
       "34   NaN             NaN       NaN -0.184597 -0.366248 -0.342904      NaN   \n",
       "\n",
       "                      link          user_id  \\\n",
       "3   https://bit.ly/3qC86PZ  126697227387539   \n",
       "7   https://bit.ly/3iw0mMF  126697227387539   \n",
       "19  https://bit.ly/3h2N4Xi  126697227387539   \n",
       "21  https://bit.ly/3mAd5hZ  126697227387539   \n",
       "34  https://bit.ly/3h1iFsi  126697227387539   \n",
       "\n",
       "                                               images  keyword_group_count  \\\n",
       "3   ['https://scontent.fadd1-1.fna.fbcdn.net/v/t1....                    2   \n",
       "7   ['https://scontent.fadd1-1.fna.fbcdn.net/v/t1....                    2   \n",
       "19  ['https://scontent.fadd1-1.fna.fbcdn.net/v/t1....                    2   \n",
       "21  ['https://scontent.fadd1-1.fna.fbcdn.net/v/t1....                    2   \n",
       "34  ['https://scontent.fadd1-1.fna.fbcdn.net/v/t1....                    3   \n",
       "\n",
       "    label  \n",
       "3       0  \n",
       "7       0  \n",
       "19      0  \n",
       "21      0  \n",
       "34      0  "
      ]
     },
     "execution_count": 43,
     "metadata": {},
     "output_type": "execute_result"
    }
   ],
   "source": [
    "# label the posts based on the mean of comments, likes, and shares\n",
    "df[\"comments\"] = df[\"comments\"].apply(lambda x: (x - df[\"comments\"].mean())/df[\"comments\"].std())\n",
    "df[\"likes\"] = df[\"likes\"].apply(lambda x: (x - df[\"likes\"].mean())/df[\"likes\"].std())\n",
    "df[\"shares\"] = df[\"shares\"].apply(lambda x: (x - df[\"shares\"].mean())/df[\"shares\"].std())\n",
    "\n",
    "df[\"label\"] = df[[\"comments\", \"likes\", \"shares\"]].mean(axis=1)\n",
    "df[\"label\"] = df[\"label\"].apply(lambda x: 1 if x >= df[\"label\"].mean() else 0)\n",
    "\n",
    "df.head()"
   ]
  },
  {
   "cell_type": "code",
   "execution_count": 44,
   "metadata": {},
   "outputs": [
    {
     "data": {
      "text/plain": [
       "0    74\n",
       "1    16\n",
       "Name: label, dtype: int64"
      ]
     },
     "execution_count": 44,
     "metadata": {},
     "output_type": "execute_result"
    }
   ],
   "source": [
    "df[\"label\"].value_counts()"
   ]
  },
  {
   "cell_type": "markdown",
   "metadata": {},
   "source": [
    "## Add content size"
   ]
  },
  {
   "cell_type": "code",
   "execution_count": 45,
   "metadata": {},
   "outputs": [
    {
     "data": {
      "text/html": [
       "<div>\n",
       "<style scoped>\n",
       "    .dataframe tbody tr th:only-of-type {\n",
       "        vertical-align: middle;\n",
       "    }\n",
       "\n",
       "    .dataframe tbody tr th {\n",
       "        vertical-align: top;\n",
       "    }\n",
       "\n",
       "    .dataframe thead th {\n",
       "        text-align: right;\n",
       "    }\n",
       "</style>\n",
       "<table border=\"1\" class=\"dataframe\">\n",
       "  <thead>\n",
       "    <tr style=\"text-align: right;\">\n",
       "      <th></th>\n",
       "      <th>post_id</th>\n",
       "      <th>text</th>\n",
       "      <th>post_text</th>\n",
       "      <th>shared_text</th>\n",
       "      <th>time</th>\n",
       "      <th>image</th>\n",
       "      <th>video</th>\n",
       "      <th>video_thumbnail</th>\n",
       "      <th>video_id</th>\n",
       "      <th>likes</th>\n",
       "      <th>comments</th>\n",
       "      <th>shares</th>\n",
       "      <th>post_url</th>\n",
       "      <th>link</th>\n",
       "      <th>user_id</th>\n",
       "      <th>images</th>\n",
       "      <th>keyword_group_count</th>\n",
       "      <th>label</th>\n",
       "      <th>content_size</th>\n",
       "    </tr>\n",
       "  </thead>\n",
       "  <tbody>\n",
       "    <tr>\n",
       "      <th>3</th>\n",
       "      <td>4.178431e+15</td>\n",
       "      <td>Evidence of the #health system challenges to p...</td>\n",
       "      <td>Evidence of the #health system challenges to p...</td>\n",
       "      <td>NaN</td>\n",
       "      <td>2021-02-02 13:25:03</td>\n",
       "      <td>https://scontent.fadd1-1.fna.fbcdn.net/v/t1.0-...</td>\n",
       "      <td>NaN</td>\n",
       "      <td>NaN</td>\n",
       "      <td>NaN</td>\n",
       "      <td>-0.181017</td>\n",
       "      <td>-0.366248</td>\n",
       "      <td>-0.342904</td>\n",
       "      <td>NaN</td>\n",
       "      <td>https://bit.ly/3qC86PZ</td>\n",
       "      <td>126697227387539</td>\n",
       "      <td>['https://scontent.fadd1-1.fna.fbcdn.net/v/t1....</td>\n",
       "      <td>2</td>\n",
       "      <td>0</td>\n",
       "      <td>short</td>\n",
       "    </tr>\n",
       "    <tr>\n",
       "      <th>7</th>\n",
       "      <td>4.165486e+15</td>\n",
       "      <td>Unwanted pregnancy and unsafe #abortion contri...</td>\n",
       "      <td>Unwanted pregnancy and unsafe #abortion contri...</td>\n",
       "      <td>NaN</td>\n",
       "      <td>2021-01-28 13:25:04</td>\n",
       "      <td>https://scontent.fadd1-1.fna.fbcdn.net/v/t1.0-...</td>\n",
       "      <td>NaN</td>\n",
       "      <td>NaN</td>\n",
       "      <td>NaN</td>\n",
       "      <td>-0.181017</td>\n",
       "      <td>-0.366248</td>\n",
       "      <td>-0.342904</td>\n",
       "      <td>NaN</td>\n",
       "      <td>https://bit.ly/3iw0mMF</td>\n",
       "      <td>126697227387539</td>\n",
       "      <td>['https://scontent.fadd1-1.fna.fbcdn.net/v/t1....</td>\n",
       "      <td>2</td>\n",
       "      <td>0</td>\n",
       "      <td>short</td>\n",
       "    </tr>\n",
       "    <tr>\n",
       "      <th>19</th>\n",
       "      <td>4.110924e+15</td>\n",
       "      <td>The handbook challenges readers to consider #m...</td>\n",
       "      <td>The handbook challenges readers to consider #m...</td>\n",
       "      <td>NaN</td>\n",
       "      <td>2021-01-08 20:15:16</td>\n",
       "      <td>https://scontent.fadd1-1.fna.fbcdn.net/v/t1.0-...</td>\n",
       "      <td>NaN</td>\n",
       "      <td>NaN</td>\n",
       "      <td>NaN</td>\n",
       "      <td>-0.181017</td>\n",
       "      <td>-0.055809</td>\n",
       "      <td>-0.342904</td>\n",
       "      <td>NaN</td>\n",
       "      <td>https://bit.ly/3h2N4Xi</td>\n",
       "      <td>126697227387539</td>\n",
       "      <td>['https://scontent.fadd1-1.fna.fbcdn.net/v/t1....</td>\n",
       "      <td>2</td>\n",
       "      <td>0</td>\n",
       "      <td>short</td>\n",
       "    </tr>\n",
       "    <tr>\n",
       "      <th>21</th>\n",
       "      <td>4.107126e+15</td>\n",
       "      <td>This article focuses on barriers #women face a...</td>\n",
       "      <td>This article focuses on barriers #women face a...</td>\n",
       "      <td>NaN</td>\n",
       "      <td>2021-01-07 11:15:06</td>\n",
       "      <td>https://scontent.fadd1-1.fna.fbcdn.net/v/t1.0-...</td>\n",
       "      <td>NaN</td>\n",
       "      <td>NaN</td>\n",
       "      <td>NaN</td>\n",
       "      <td>-0.181017</td>\n",
       "      <td>-0.366248</td>\n",
       "      <td>-0.342904</td>\n",
       "      <td>NaN</td>\n",
       "      <td>https://bit.ly/3mAd5hZ</td>\n",
       "      <td>126697227387539</td>\n",
       "      <td>['https://scontent.fadd1-1.fna.fbcdn.net/v/t1....</td>\n",
       "      <td>2</td>\n",
       "      <td>0</td>\n",
       "      <td>short</td>\n",
       "    </tr>\n",
       "    <tr>\n",
       "      <th>34</th>\n",
       "      <td>4.071571e+15</td>\n",
       "      <td>New commentary now online: Comprehensive sexua...</td>\n",
       "      <td>New commentary now online: Comprehensive sexua...</td>\n",
       "      <td>NaN</td>\n",
       "      <td>2020-12-24 12:15:10</td>\n",
       "      <td>https://scontent.fadd1-1.fna.fbcdn.net/v/t1.0-...</td>\n",
       "      <td>NaN</td>\n",
       "      <td>NaN</td>\n",
       "      <td>NaN</td>\n",
       "      <td>-0.184597</td>\n",
       "      <td>-0.366248</td>\n",
       "      <td>-0.342904</td>\n",
       "      <td>NaN</td>\n",
       "      <td>https://bit.ly/3h1iFsi</td>\n",
       "      <td>126697227387539</td>\n",
       "      <td>['https://scontent.fadd1-1.fna.fbcdn.net/v/t1....</td>\n",
       "      <td>3</td>\n",
       "      <td>0</td>\n",
       "      <td>short</td>\n",
       "    </tr>\n",
       "  </tbody>\n",
       "</table>\n",
       "</div>"
      ],
      "text/plain": [
       "         post_id                                               text  \\\n",
       "3   4.178431e+15  Evidence of the #health system challenges to p...   \n",
       "7   4.165486e+15  Unwanted pregnancy and unsafe #abortion contri...   \n",
       "19  4.110924e+15  The handbook challenges readers to consider #m...   \n",
       "21  4.107126e+15  This article focuses on barriers #women face a...   \n",
       "34  4.071571e+15  New commentary now online: Comprehensive sexua...   \n",
       "\n",
       "                                            post_text shared_text  \\\n",
       "3   Evidence of the #health system challenges to p...         NaN   \n",
       "7   Unwanted pregnancy and unsafe #abortion contri...         NaN   \n",
       "19  The handbook challenges readers to consider #m...         NaN   \n",
       "21  This article focuses on barriers #women face a...         NaN   \n",
       "34  New commentary now online: Comprehensive sexua...         NaN   \n",
       "\n",
       "                   time                                              image  \\\n",
       "3   2021-02-02 13:25:03  https://scontent.fadd1-1.fna.fbcdn.net/v/t1.0-...   \n",
       "7   2021-01-28 13:25:04  https://scontent.fadd1-1.fna.fbcdn.net/v/t1.0-...   \n",
       "19  2021-01-08 20:15:16  https://scontent.fadd1-1.fna.fbcdn.net/v/t1.0-...   \n",
       "21  2021-01-07 11:15:06  https://scontent.fadd1-1.fna.fbcdn.net/v/t1.0-...   \n",
       "34  2020-12-24 12:15:10  https://scontent.fadd1-1.fna.fbcdn.net/v/t1.0-...   \n",
       "\n",
       "   video video_thumbnail  video_id     likes  comments    shares post_url  \\\n",
       "3    NaN             NaN       NaN -0.181017 -0.366248 -0.342904      NaN   \n",
       "7    NaN             NaN       NaN -0.181017 -0.366248 -0.342904      NaN   \n",
       "19   NaN             NaN       NaN -0.181017 -0.055809 -0.342904      NaN   \n",
       "21   NaN             NaN       NaN -0.181017 -0.366248 -0.342904      NaN   \n",
       "34   NaN             NaN       NaN -0.184597 -0.366248 -0.342904      NaN   \n",
       "\n",
       "                      link          user_id  \\\n",
       "3   https://bit.ly/3qC86PZ  126697227387539   \n",
       "7   https://bit.ly/3iw0mMF  126697227387539   \n",
       "19  https://bit.ly/3h2N4Xi  126697227387539   \n",
       "21  https://bit.ly/3mAd5hZ  126697227387539   \n",
       "34  https://bit.ly/3h1iFsi  126697227387539   \n",
       "\n",
       "                                               images  keyword_group_count  \\\n",
       "3   ['https://scontent.fadd1-1.fna.fbcdn.net/v/t1....                    2   \n",
       "7   ['https://scontent.fadd1-1.fna.fbcdn.net/v/t1....                    2   \n",
       "19  ['https://scontent.fadd1-1.fna.fbcdn.net/v/t1....                    2   \n",
       "21  ['https://scontent.fadd1-1.fna.fbcdn.net/v/t1....                    2   \n",
       "34  ['https://scontent.fadd1-1.fna.fbcdn.net/v/t1....                    3   \n",
       "\n",
       "    label content_size  \n",
       "3       0        short  \n",
       "7       0        short  \n",
       "19      0        short  \n",
       "21      0        short  \n",
       "34      0        short  "
      ]
     },
     "execution_count": 45,
     "metadata": {},
     "output_type": "execute_result"
    }
   ],
   "source": [
    "# add content_size column\n",
    "df[\"content_size\"] = df[\"text\"].apply(lambda txt: len(txt))\n",
    "ser, bins = pd.qcut(df[\"content_size\"], 3, labels=[\"short\", \"medium\", \"long\"], retbins=True)\n",
    "df[\"content_size\"] = ser.astype(\"str\")\n",
    "df.head()"
   ]
  },
  {
   "cell_type": "code",
   "execution_count": 46,
   "metadata": {},
   "outputs": [
    {
     "data": {
      "text/plain": [
       "array([  85.        ,  350.33333333,  601.66666667, 2673.        ])"
      ]
     },
     "execution_count": 46,
     "metadata": {},
     "output_type": "execute_result"
    }
   ],
   "source": [
    "bins"
   ]
  },
  {
   "cell_type": "markdown",
   "metadata": {},
   "source": [
    "## Add relevant sub-topics"
   ]
  },
  {
   "cell_type": "code",
   "execution_count": 47,
   "metadata": {},
   "outputs": [
    {
     "data": {
      "text/html": [
       "<div>\n",
       "<style scoped>\n",
       "    .dataframe tbody tr th:only-of-type {\n",
       "        vertical-align: middle;\n",
       "    }\n",
       "\n",
       "    .dataframe tbody tr th {\n",
       "        vertical-align: top;\n",
       "    }\n",
       "\n",
       "    .dataframe thead th {\n",
       "        text-align: right;\n",
       "    }\n",
       "</style>\n",
       "<table border=\"1\" class=\"dataframe\">\n",
       "  <thead>\n",
       "    <tr style=\"text-align: right;\">\n",
       "      <th></th>\n",
       "      <th>text</th>\n",
       "      <th>label</th>\n",
       "    </tr>\n",
       "  </thead>\n",
       "  <tbody>\n",
       "    <tr>\n",
       "      <th>527</th>\n",
       "      <td>Two years ago, Imani* was raped by her neighbo...</td>\n",
       "      <td>3.895300</td>\n",
       "    </tr>\n",
       "    <tr>\n",
       "      <th>522</th>\n",
       "      <td>Manisha Mashaal, the founder of Swabhiman soci...</td>\n",
       "      <td>3.377230</td>\n",
       "    </tr>\n",
       "    <tr>\n",
       "      <th>508</th>\n",
       "      <td>A conversation on ending caste-based sexual vi...</td>\n",
       "      <td>2.809698</td>\n",
       "    </tr>\n",
       "    <tr>\n",
       "      <th>518</th>\n",
       "      <td>The recent Hathras case is just one example of...</td>\n",
       "      <td>2.681091</td>\n",
       "    </tr>\n",
       "    <tr>\n",
       "      <th>500</th>\n",
       "      <td>This Wednesday marks the start of the #16DaysO...</td>\n",
       "      <td>2.029317</td>\n",
       "    </tr>\n",
       "  </tbody>\n",
       "</table>\n",
       "</div>"
      ],
      "text/plain": [
       "                                                  text     label\n",
       "527  Two years ago, Imani* was raped by her neighbo...  3.895300\n",
       "522  Manisha Mashaal, the founder of Swabhiman soci...  3.377230\n",
       "508  A conversation on ending caste-based sexual vi...  2.809698\n",
       "518  The recent Hathras case is just one example of...  2.681091\n",
       "500  This Wednesday marks the start of the #16DaysO...  2.029317"
      ]
     },
     "execution_count": 47,
     "metadata": {},
     "output_type": "execute_result"
    }
   ],
   "source": [
    "# finding relevant attributes\n",
    "new_df = df.copy()\n",
    "new_df[\"label\"] = new_df[[\"comments\", \"likes\", \"shares\"]].mean(axis=1)\n",
    "new_df = new_df.sort_values(by=\"label\", ascending=False)\n",
    "new_df = new_df[[\"text\", \"label\"]]\n",
    "new_df.head()"
   ]
  },
  {
   "cell_type": "code",
   "execution_count": 48,
   "metadata": {},
   "outputs": [
    {
     "data": {
      "text/plain": [
       "'An analysis of Kuwait’s Penal Code released today by Equality Now and Abolish Article 153, reveals the extent to which Kuwait’s laws are failing to protect women and girls:\\n\\n➡️ Article 182 allows rapists to escape punishment by marrying the woman or girl they raped, a provision actively condones and rewards sexual violence\\n\\n➡️ Article 153 provides a lenient sentence for a man who kills his female relatives, a provision rooted in valuing ‘honor’ over the human rights of women and girls;\\n\\n➡️ the Penal Code does not explicitly criminalize marital rape, leaving women vulnerable to sexual violence committed with impunity\\n\\n➡️ and the definition of rape is reliant on the use of force, threats or deception rather than being grounded in consent.\\n\\nIt’s time to abolish laws that see women and girls as vessels of their family’s honor, and build an equal world that works for our mothers, our sisters, our daughters, our friends, our communities. Join Kuwaiti activists calling for reform today.\\n\\n#EndSexualViolence #MarryYourRapist\\n\\nEQUALITYNOW.ORG\\nJustice over honor: Kuwait should amend its Penal Code to protect women and girls from sexual violence'"
      ]
     },
     "execution_count": 48,
     "metadata": {},
     "output_type": "execute_result"
    }
   ],
   "source": [
    "new_df[\"text\"].iloc[9]"
   ]
  },
  {
   "cell_type": "code",
   "execution_count": 49,
   "metadata": {},
   "outputs": [],
   "source": [
    "sub_topics1 = [\"rape\", \"pregnant\", \"school\", \"she\", \n",
    "               \"nurse\", \"doctor\", \"girls\", \"teenage\", \"adolescent\", \"court\"]\n",
    "sub_topics2 = [\"fighting\", \"women\", \"girls\", \"report\", \"media\", \"justice\", \"sexual violence\"]\n",
    "sub_topics3 = [\"sexual violence\", \"society\", \"Equality\"]\n",
    "sub_topics4 = [\"sexual violence\", \"women\", \"girls\", \"report\", \"society\", \"sexual violence\",\n",
    "               \"obstacles\", \"gender discrimination\", \"justice\"]\n",
    "sub_topics5 = [\"activism\", \"gender based violence\", \"women\", \"girls\", \"gender-based violence\"]\n",
    "sub_topics6 = [\"community\", \"child sexual abuse\", \"our voice\"]\n",
    "sub_topics7 = [\"sexual violence\", \"activist\"]\n",
    "sub_topics8 = [\"sexual harassment\", \"gender\", \"young activists\"]\n",
    "sub_topics9 = [\"social\", \"justice\", \"sexual exploitation\", \"equality\", \"movement\"]\n",
    "sub_topics10 = [\"Equality\", \"women\", \"girls\", \"raped\", \"sexual violence\", \"female\"] "
   ]
  },
  {
   "cell_type": "code",
   "execution_count": 50,
   "metadata": {},
   "outputs": [],
   "source": [
    "# find the relevant sub_topics\n",
    "sub_topics = {\"content_size\": [\"short\", \"meduim\", \"long\"],\n",
    "              \"gender_based\": [\"gender\", \"girl\", \"women\", \"female\"],\n",
    "              \"age_based\": [\"youth\", \"Adolescent\", \"teenager\", \"child\"],\n",
    "              \"equality_based\": [\"equality\", \"court\", \"justice\", \"society\", \"our voice\"],\n",
    "              \"GBV\": [\"gender-based violence\", \"rape\", \"sexual exploitation\", \"sexual harassment\",\n",
    "                      \"child sexual abuse\", \"sexual violence\", \"forced marriage\"],\n",
    "              \"SRH\": [\"Reproductive health\", \"family planning\", \"pregnant\", \"Abortion\", \n",
    "                      \"Menstrual cycle\", \"condom\", \"HIV/AIDS\"]\n",
    "             }\n",
    "with open(\"../data/sub_topics.json\", \"w\") as f:\n",
    "    json.dump(sub_topics, f)"
   ]
  },
  {
   "cell_type": "code",
   "execution_count": 51,
   "metadata": {},
   "outputs": [
    {
     "data": {
      "text/html": [
       "<div>\n",
       "<style scoped>\n",
       "    .dataframe tbody tr th:only-of-type {\n",
       "        vertical-align: middle;\n",
       "    }\n",
       "\n",
       "    .dataframe tbody tr th {\n",
       "        vertical-align: top;\n",
       "    }\n",
       "\n",
       "    .dataframe thead th {\n",
       "        text-align: right;\n",
       "    }\n",
       "</style>\n",
       "<table border=\"1\" class=\"dataframe\">\n",
       "  <thead>\n",
       "    <tr style=\"text-align: right;\">\n",
       "      <th></th>\n",
       "      <th>text</th>\n",
       "      <th>content_size</th>\n",
       "      <th>gender_based</th>\n",
       "      <th>age_based</th>\n",
       "      <th>equality_based</th>\n",
       "      <th>GBV</th>\n",
       "      <th>SRH</th>\n",
       "      <th>label</th>\n",
       "    </tr>\n",
       "  </thead>\n",
       "  <tbody>\n",
       "    <tr>\n",
       "      <th>0</th>\n",
       "      <td>Evidence of the #health system challenges to p...</td>\n",
       "      <td>short</td>\n",
       "      <td></td>\n",
       "      <td></td>\n",
       "      <td></td>\n",
       "      <td></td>\n",
       "      <td></td>\n",
       "      <td>0</td>\n",
       "    </tr>\n",
       "    <tr>\n",
       "      <th>1</th>\n",
       "      <td>Unwanted pregnancy and unsafe #abortion contri...</td>\n",
       "      <td>short</td>\n",
       "      <td>girl</td>\n",
       "      <td></td>\n",
       "      <td></td>\n",
       "      <td></td>\n",
       "      <td>Abortion</td>\n",
       "      <td>0</td>\n",
       "    </tr>\n",
       "    <tr>\n",
       "      <th>2</th>\n",
       "      <td>Unwanted pregnancy and unsafe #abortion contri...</td>\n",
       "      <td>short</td>\n",
       "      <td>women</td>\n",
       "      <td></td>\n",
       "      <td></td>\n",
       "      <td></td>\n",
       "      <td>Abortion</td>\n",
       "      <td>0</td>\n",
       "    </tr>\n",
       "    <tr>\n",
       "      <th>3</th>\n",
       "      <td>The handbook challenges readers to consider #m...</td>\n",
       "      <td>short</td>\n",
       "      <td></td>\n",
       "      <td></td>\n",
       "      <td>society</td>\n",
       "      <td></td>\n",
       "      <td></td>\n",
       "      <td>0</td>\n",
       "    </tr>\n",
       "    <tr>\n",
       "      <th>4</th>\n",
       "      <td>This article focuses on barriers #women face a...</td>\n",
       "      <td>short</td>\n",
       "      <td>women</td>\n",
       "      <td></td>\n",
       "      <td></td>\n",
       "      <td></td>\n",
       "      <td></td>\n",
       "      <td>0</td>\n",
       "    </tr>\n",
       "  </tbody>\n",
       "</table>\n",
       "</div>"
      ],
      "text/plain": [
       "                                                text content_size  \\\n",
       "0  Evidence of the #health system challenges to p...        short   \n",
       "1  Unwanted pregnancy and unsafe #abortion contri...        short   \n",
       "2  Unwanted pregnancy and unsafe #abortion contri...        short   \n",
       "3  The handbook challenges readers to consider #m...        short   \n",
       "4  This article focuses on barriers #women face a...        short   \n",
       "\n",
       "  gender_based age_based equality_based GBV       SRH  label  \n",
       "0                                                          0  \n",
       "1         girl                               Abortion      0  \n",
       "2        women                               Abortion      0  \n",
       "3                               society                    0  \n",
       "4        women                                             0  "
      ]
     },
     "execution_count": 51,
     "metadata": {},
     "output_type": "execute_result"
    }
   ],
   "source": [
    "# add relevant sub_topics columns\n",
    "for (sub_topic_name, sub_topic_list) in sub_topics.items():\n",
    "    if sub_topic_name == \"content_size\":\n",
    "        continue\n",
    "    df[sub_topic_name] = df['text'].apply(lambda txt: ','.join([str(sub_topic) for sub_topic in sub_topic_list \\\n",
    "                                                if (sub_topic.lower() in str(txt).lower())]))\n",
    "    df[sub_topic_name] = df[sub_topic_name].apply(lambda x: x.split(','))\n",
    "    df = df.explode(sub_topic_name)\n",
    "    \n",
    "df = df[[\"text\", \"content_size\", \"gender_based\", \"age_based\", \"equality_based\", \"GBV\", \"SRH\", \"label\"]]\n",
    "df = df.reset_index()\n",
    "df = df.drop(columns=\"index\")\n",
    "df.head()"
   ]
  },
  {
   "cell_type": "code",
   "execution_count": 52,
   "metadata": {},
   "outputs": [],
   "source": [
    "df.to_csv('../data/cleaned_fb_posts.csv')"
   ]
  },
  {
   "cell_type": "markdown",
   "metadata": {},
   "source": [
    "# Part - 3: Data Analysis"
   ]
  },
  {
   "cell_type": "markdown",
   "metadata": {},
   "source": [
    "## Convert sub-topics to bins"
   ]
  },
  {
   "cell_type": "code",
   "execution_count": 53,
   "metadata": {},
   "outputs": [],
   "source": [
    "feats_dict = {}\n",
    "\n",
    "for col in [c for c in df.columns if (c != 'label' and c != 'text')]:\n",
    "    feats_dict[col] = CategoricalFeature(df, col)\n",
    "\n",
    "feats = list(feats_dict.values())"
   ]
  },
  {
   "cell_type": "markdown",
   "metadata": {},
   "source": [
    "## Information value analysis"
   ]
  },
  {
   "cell_type": "code",
   "execution_count": 58,
   "metadata": {},
   "outputs": [],
   "source": [
    "iv = IV()\n",
    "s = StatsSignificance()\n",
    "\n",
    "ar = AttributeRelevance()"
   ]
  },
  {
   "cell_type": "code",
   "execution_count": 59,
   "metadata": {},
   "outputs": [
    {
     "name": "stderr",
     "output_type": "stream",
     "text": [
      "/home/yony/anaconda3/lib/python3.7/site-packages/pandas/core/arraylike.py:358: RuntimeWarning: divide by zero encountered in log\n",
      "  result = getattr(ufunc, method)(*inputs, **kwargs)\n"
     ]
    },
    {
     "data": {
      "text/html": [
       "<div>\n",
       "<style scoped>\n",
       "    .dataframe tbody tr th:only-of-type {\n",
       "        vertical-align: middle;\n",
       "    }\n",
       "\n",
       "    .dataframe tbody tr th {\n",
       "        vertical-align: top;\n",
       "    }\n",
       "\n",
       "    .dataframe thead th {\n",
       "        text-align: right;\n",
       "    }\n",
       "</style>\n",
       "<table border=\"1\" class=\"dataframe\">\n",
       "  <thead>\n",
       "    <tr style=\"text-align: right;\">\n",
       "      <th></th>\n",
       "      <th>iv</th>\n",
       "      <th>iv_interpretation</th>\n",
       "    </tr>\n",
       "  </thead>\n",
       "  <tbody>\n",
       "    <tr>\n",
       "      <th>equality_based</th>\n",
       "      <td>1.103570</td>\n",
       "      <td>suspicious</td>\n",
       "    </tr>\n",
       "    <tr>\n",
       "      <th>GBV</th>\n",
       "      <td>0.663644</td>\n",
       "      <td>suspicious</td>\n",
       "    </tr>\n",
       "    <tr>\n",
       "      <th>age_based</th>\n",
       "      <td>0.303453</td>\n",
       "      <td>strong</td>\n",
       "    </tr>\n",
       "    <tr>\n",
       "      <th>content_size</th>\n",
       "      <td>0.303048</td>\n",
       "      <td>strong</td>\n",
       "    </tr>\n",
       "    <tr>\n",
       "      <th>SRH</th>\n",
       "      <td>0.154732</td>\n",
       "      <td>medium</td>\n",
       "    </tr>\n",
       "    <tr>\n",
       "      <th>gender_based</th>\n",
       "      <td>0.121054</td>\n",
       "      <td>medium</td>\n",
       "    </tr>\n",
       "  </tbody>\n",
       "</table>\n",
       "</div>"
      ],
      "text/plain": [
       "                      iv iv_interpretation\n",
       "equality_based  1.103570        suspicious\n",
       "GBV             0.663644        suspicious\n",
       "age_based       0.303453            strong\n",
       "content_size    0.303048            strong\n",
       "SRH             0.154732            medium\n",
       "gender_based    0.121054            medium"
      ]
     },
     "execution_count": 59,
     "metadata": {},
     "output_type": "execute_result"
    }
   ],
   "source": [
    "iv_df = ar.analyze(feats, iv, interpretation=True)\n",
    "iv_df.to_csv('../data/iv_data.csv')\n",
    "iv_df"
   ]
  },
  {
   "cell_type": "code",
   "execution_count": 60,
   "metadata": {},
   "outputs": [
    {
     "name": "stderr",
     "output_type": "stream",
     "text": [
      "/home/yony/anaconda3/lib/python3.7/site-packages/pandas/core/arraylike.py:358: RuntimeWarning: divide by zero encountered in log\n",
      "  result = getattr(ufunc, method)(*inputs, **kwargs)\n"
     ]
    },
    {
     "data": {
      "image/png": "[encoded data removed]",
      "text/plain": [
       "<Figure size 720x432 with 1 Axes>"
      ]
     },
     "metadata": {
      "needs_background": "light"
     },
     "output_type": "display_data"
    }
   ],
   "source": [
    "ar.draw_iv(feats, iv)"
   ]
  },
  {
   "cell_type": "markdown",
   "metadata": {},
   "source": [
    "## Weight of evidence analysis"
   ]
  },
  {
   "cell_type": "code",
   "execution_count": 71,
   "metadata": {},
   "outputs": [
    {
     "name": "stderr",
     "output_type": "stream",
     "text": [
      "/home/yony/anaconda3/lib/python3.7/site-packages/pandas/core/arraylike.py:358: RuntimeWarning: divide by zero encountered in log\n",
      "  result = getattr(ufunc, method)(*inputs, **kwargs)\n"
     ]
    }
   ],
   "source": [
    "(content_size_iv_df, content_size_iv_value) = iv.calculate_iv(feats[0])\n",
    "(gender_based_iv_df, gender_based_iv_value) = iv.calculate_iv(feats[1])\n",
    "(age_based_iv_df, age_based_iv_value) = iv.calculate_iv(feats[2])\n",
    "(equality_based_iv_df, equality_based_iv_value) = iv.calculate_iv(feats[3])\n",
    "(GBV_iv_df, GBV_iv_value) = iv.calculate_iv(feats[4])\n",
    "(SRH_iv_df, SRH_iv_value) = iv.calculate_iv(feats[5])"
   ]
  },
  {
   "cell_type": "code",
   "execution_count": 72,
   "metadata": {},
   "outputs": [
    {
     "data": {
      "text/html": [
       "<div>\n",
       "<style scoped>\n",
       "    .dataframe tbody tr th:only-of-type {\n",
       "        vertical-align: middle;\n",
       "    }\n",
       "\n",
       "    .dataframe tbody tr th {\n",
       "        vertical-align: top;\n",
       "    }\n",
       "\n",
       "    .dataframe thead th {\n",
       "        text-align: right;\n",
       "    }\n",
       "</style>\n",
       "<table border=\"1\" class=\"dataframe\">\n",
       "  <thead>\n",
       "    <tr style=\"text-align: right;\">\n",
       "      <th></th>\n",
       "      <th>content_size</th>\n",
       "      <th>count</th>\n",
       "      <th>good</th>\n",
       "      <th>bad</th>\n",
       "      <th>perc_good</th>\n",
       "      <th>perc_bad</th>\n",
       "      <th>perc_diff</th>\n",
       "      <th>woe</th>\n",
       "      <th>iv</th>\n",
       "    </tr>\n",
       "  </thead>\n",
       "  <tbody>\n",
       "    <tr>\n",
       "      <th>0</th>\n",
       "      <td>long</td>\n",
       "      <td>118</td>\n",
       "      <td>38</td>\n",
       "      <td>80</td>\n",
       "      <td>0.791667</td>\n",
       "      <td>0.536913</td>\n",
       "      <td>0.254754</td>\n",
       "      <td>0.388305</td>\n",
       "      <td>0.098922</td>\n",
       "    </tr>\n",
       "    <tr>\n",
       "      <th>1</th>\n",
       "      <td>medium</td>\n",
       "      <td>41</td>\n",
       "      <td>5</td>\n",
       "      <td>36</td>\n",
       "      <td>0.104167</td>\n",
       "      <td>0.241611</td>\n",
       "      <td>-0.137444</td>\n",
       "      <td>-0.841336</td>\n",
       "      <td>0.115637</td>\n",
       "    </tr>\n",
       "    <tr>\n",
       "      <th>2</th>\n",
       "      <td>short</td>\n",
       "      <td>38</td>\n",
       "      <td>5</td>\n",
       "      <td>33</td>\n",
       "      <td>0.104167</td>\n",
       "      <td>0.221477</td>\n",
       "      <td>-0.117310</td>\n",
       "      <td>-0.754324</td>\n",
       "      <td>0.088490</td>\n",
       "    </tr>\n",
       "  </tbody>\n",
       "</table>\n",
       "</div>"
      ],
      "text/plain": [
       "  content_size  count  good  bad  perc_good  perc_bad  perc_diff       woe  \\\n",
       "0         long    118    38   80   0.791667  0.536913   0.254754  0.388305   \n",
       "1       medium     41     5   36   0.104167  0.241611  -0.137444 -0.841336   \n",
       "2        short     38     5   33   0.104167  0.221477  -0.117310 -0.754324   \n",
       "\n",
       "         iv  \n",
       "0  0.098922  \n",
       "1  0.115637  \n",
       "2  0.088490  "
      ]
     },
     "execution_count": 72,
     "metadata": {},
     "output_type": "execute_result"
    }
   ],
   "source": [
    "content_size_iv_df"
   ]
  },
  {
   "cell_type": "code",
   "execution_count": 73,
   "metadata": {},
   "outputs": [
    {
     "data": {
      "text/html": [
       "<div>\n",
       "<style scoped>\n",
       "    .dataframe tbody tr th:only-of-type {\n",
       "        vertical-align: middle;\n",
       "    }\n",
       "\n",
       "    .dataframe tbody tr th {\n",
       "        vertical-align: top;\n",
       "    }\n",
       "\n",
       "    .dataframe thead th {\n",
       "        text-align: right;\n",
       "    }\n",
       "</style>\n",
       "<table border=\"1\" class=\"dataframe\">\n",
       "  <thead>\n",
       "    <tr style=\"text-align: right;\">\n",
       "      <th></th>\n",
       "      <th>sub_topics</th>\n",
       "      <th>woe</th>\n",
       "    </tr>\n",
       "    <tr>\n",
       "      <th>contents</th>\n",
       "      <th></th>\n",
       "      <th></th>\n",
       "    </tr>\n",
       "  </thead>\n",
       "  <tbody>\n",
       "    <tr>\n",
       "      <th>long</th>\n",
       "      <td>content_size</td>\n",
       "      <td>0.388305</td>\n",
       "    </tr>\n",
       "    <tr>\n",
       "      <th>medium</th>\n",
       "      <td>content_size</td>\n",
       "      <td>-0.841336</td>\n",
       "    </tr>\n",
       "    <tr>\n",
       "      <th>short</th>\n",
       "      <td>content_size</td>\n",
       "      <td>-0.754324</td>\n",
       "    </tr>\n",
       "    <tr>\n",
       "      <th>female</th>\n",
       "      <td>gender_based</td>\n",
       "      <td>0.321815</td>\n",
       "    </tr>\n",
       "    <tr>\n",
       "      <th>gender</th>\n",
       "      <td>gender_based</td>\n",
       "      <td>0.091291</td>\n",
       "    </tr>\n",
       "    <tr>\n",
       "      <th>girl</th>\n",
       "      <td>gender_based</td>\n",
       "      <td>0.439598</td>\n",
       "    </tr>\n",
       "    <tr>\n",
       "      <th>women</th>\n",
       "      <td>gender_based</td>\n",
       "      <td>-0.140220</td>\n",
       "    </tr>\n",
       "    <tr>\n",
       "      <th>Adolescent</th>\n",
       "      <td>age_based</td>\n",
       "      <td>1.538210</td>\n",
       "    </tr>\n",
       "    <tr>\n",
       "      <th>child</th>\n",
       "      <td>age_based</td>\n",
       "      <td>-1.234378</td>\n",
       "    </tr>\n",
       "    <tr>\n",
       "      <th>youth</th>\n",
       "      <td>age_based</td>\n",
       "      <td>0.000000</td>\n",
       "    </tr>\n",
       "    <tr>\n",
       "      <th>court</th>\n",
       "      <td>equality_based</td>\n",
       "      <td>-0.946696</td>\n",
       "    </tr>\n",
       "    <tr>\n",
       "      <th>equality</th>\n",
       "      <td>equality_based</td>\n",
       "      <td>1.132745</td>\n",
       "    </tr>\n",
       "    <tr>\n",
       "      <th>justice</th>\n",
       "      <td>equality_based</td>\n",
       "      <td>1.315067</td>\n",
       "    </tr>\n",
       "    <tr>\n",
       "      <th>our voice</th>\n",
       "      <td>equality_based</td>\n",
       "      <td>0.000000</td>\n",
       "    </tr>\n",
       "    <tr>\n",
       "      <th>society</th>\n",
       "      <td>equality_based</td>\n",
       "      <td>-0.019934</td>\n",
       "    </tr>\n",
       "    <tr>\n",
       "      <th>child sexual abuse</th>\n",
       "      <td>GBV</td>\n",
       "      <td>-0.659014</td>\n",
       "    </tr>\n",
       "    <tr>\n",
       "      <th>forced marriage</th>\n",
       "      <td>GBV</td>\n",
       "      <td>0.000000</td>\n",
       "    </tr>\n",
       "    <tr>\n",
       "      <th>gender-based violence</th>\n",
       "      <td>GBV</td>\n",
       "      <td>-0.189011</td>\n",
       "    </tr>\n",
       "    <tr>\n",
       "      <th>rape</th>\n",
       "      <td>GBV</td>\n",
       "      <td>0.163345</td>\n",
       "    </tr>\n",
       "    <tr>\n",
       "      <th>sexual exploitation</th>\n",
       "      <td>GBV</td>\n",
       "      <td>-0.253549</td>\n",
       "    </tr>\n",
       "    <tr>\n",
       "      <th>sexual harassment</th>\n",
       "      <td>GBV</td>\n",
       "      <td>0.321815</td>\n",
       "    </tr>\n",
       "    <tr>\n",
       "      <th>sexual violence</th>\n",
       "      <td>GBV</td>\n",
       "      <td>1.500470</td>\n",
       "    </tr>\n",
       "    <tr>\n",
       "      <th>Abortion</th>\n",
       "      <td>SRH</td>\n",
       "      <td>0.000000</td>\n",
       "    </tr>\n",
       "    <tr>\n",
       "      <th>HIV/AIDS</th>\n",
       "      <td>SRH</td>\n",
       "      <td>0.000000</td>\n",
       "    </tr>\n",
       "    <tr>\n",
       "      <th>Reproductive health</th>\n",
       "      <td>SRH</td>\n",
       "      <td>-1.639843</td>\n",
       "    </tr>\n",
       "    <tr>\n",
       "      <th>condom</th>\n",
       "      <td>SRH</td>\n",
       "      <td>0.000000</td>\n",
       "    </tr>\n",
       "    <tr>\n",
       "      <th>pregnant</th>\n",
       "      <td>SRH</td>\n",
       "      <td>0.000000</td>\n",
       "    </tr>\n",
       "  </tbody>\n",
       "</table>\n",
       "</div>"
      ],
      "text/plain": [
       "                           sub_topics       woe\n",
       "contents                                       \n",
       "long                     content_size  0.388305\n",
       "medium                   content_size -0.841336\n",
       "short                    content_size -0.754324\n",
       "female                   gender_based  0.321815\n",
       "gender                   gender_based  0.091291\n",
       "girl                     gender_based  0.439598\n",
       "women                    gender_based -0.140220\n",
       "Adolescent                  age_based  1.538210\n",
       "child                       age_based -1.234378\n",
       "youth                       age_based  0.000000\n",
       "court                  equality_based -0.946696\n",
       "equality               equality_based  1.132745\n",
       "justice                equality_based  1.315067\n",
       "our voice              equality_based  0.000000\n",
       "society                equality_based -0.019934\n",
       "child sexual abuse                GBV -0.659014\n",
       "forced marriage                   GBV  0.000000\n",
       "gender-based violence             GBV -0.189011\n",
       "rape                              GBV  0.163345\n",
       "sexual exploitation               GBV -0.253549\n",
       "sexual harassment                 GBV  0.321815\n",
       "sexual violence                   GBV  1.500470\n",
       "Abortion                          SRH  0.000000\n",
       "HIV/AIDS                          SRH  0.000000\n",
       "Reproductive health               SRH -1.639843\n",
       "condom                            SRH  0.000000\n",
       "pregnant                          SRH  0.000000"
      ]
     },
     "execution_count": 73,
     "metadata": {},
     "output_type": "execute_result"
    }
   ],
   "source": [
    "sub_topics = {\"content_size\": [\"short\", \"meduim\", \"long\"],\n",
    "              \"gender_based\": [\"gender\", \"girl\", \"women\", \"female\"],\n",
    "              \"age_based\": [\"youth\", \"Adolescent\", \"teenager\", \"child\"],\n",
    "              \"equality_based\": [\"equality\", \"court\", \"justice\", \"society\", \"our voice\"],\n",
    "              \"GBV\": [\"gender-based violence\", \"rape\", \"sexual exploitation\", \"sexual harassment\",\n",
    "                      \"child sexual abuse\", \"sexual violence\", \"forced marriage\"],\n",
    "              \"SRH\": [\"Reproductive health\", \"family planning\", \"pregnant\", \"Abortion\", \n",
    "                      \"Menstrual cycle\", \"condom\", \"HIV/AIDS\"]\n",
    "             }\n",
    "\n",
    "# rename columns and add new ones\n",
    "content_size_iv_df = content_size_iv_df.rename(columns={\"content_size\": \"contents\"})\n",
    "content_size_iv_df[\"sub_topics\"] = \"content_size\"\n",
    "\n",
    "gender_based_iv_df = gender_based_iv_df.rename(columns={\"gender_based\": \"contents\"})\n",
    "gender_based_iv_df[\"sub_topics\"] = \"gender_based\"\n",
    "\n",
    "age_based_iv_df = age_based_iv_df.rename(columns={\"age_based\": \"contents\"})\n",
    "age_based_iv_df[\"sub_topics\"] = \"age_based\"\n",
    "\n",
    "equality_based_iv_df = equality_based_iv_df.rename(columns={\"equality_based\": \"contents\"})\n",
    "equality_based_iv_df[\"sub_topics\"] = \"equality_based\"\n",
    "\n",
    "GBV_iv_df = GBV_iv_df.rename(columns={\"GBV\": \"contents\"})\n",
    "GBV_iv_df[\"sub_topics\"] = \"GBV\"\n",
    "\n",
    "SRH_iv_df = SRH_iv_df.rename(columns={\"SRH\": \"contents\"})\n",
    "SRH_iv_df[\"sub_topics\"] = \"SRH\"\n",
    "\n",
    "# concatinating the dataframes\n",
    "frames = [content_size_iv_df, gender_based_iv_df, age_based_iv_df, equality_based_iv_df, GBV_iv_df, SRH_iv_df]\n",
    "woe_df = pd.concat(frames)\n",
    "woe_df = woe_df[[\"sub_topics\", \"contents\", \"woe\"]]\n",
    "woe_df = woe_df[woe_df[\"contents\"] != \"\"]\n",
    "woe_df = woe_df.set_index(\"contents\")\n",
    "woe_df.to_csv('../data/woe_data.csv')\n",
    "woe_df"
   ]
  },
  {
   "cell_type": "code",
   "execution_count": 74,
   "metadata": {},
   "outputs": [
    {
     "name": "stderr",
     "output_type": "stream",
     "text": [
      "/home/yony/anaconda3/lib/python3.7/site-packages/pandas/core/arraylike.py:358: RuntimeWarning: divide by zero encountered in log\n",
      "  result = getattr(ufunc, method)(*inputs, **kwargs)\n"
     ]
    },
    {
     "data": {
      "image/png": "[encoded data removed]",
      "text/plain": [
       "<Figure size 720x432 with 1 Axes>"
      ]
     },
     "metadata": {
      "needs_background": "light"
     },
     "output_type": "display_data"
    }
   ],
   "source": [
    "ar.draw_woe_extremes(feats, iv)"
   ]
  },
  {
   "cell_type": "code",
   "execution_count": 75,
   "metadata": {},
   "outputs": [
    {
     "name": "stderr",
     "output_type": "stream",
     "text": [
      "/home/yony/anaconda3/lib/python3.7/site-packages/pandas/core/arraylike.py:358: RuntimeWarning: divide by zero encountered in log\n",
      "  result = getattr(ufunc, method)(*inputs, **kwargs)\n",
      "/home/yony/anaconda3/lib/python3.7/site-packages/pandas/core/arraylike.py:358: RuntimeWarning: divide by zero encountered in log\n",
      "  result = getattr(ufunc, method)(*inputs, **kwargs)\n",
      "/home/yony/anaconda3/lib/python3.7/site-packages/pandas/core/arraylike.py:358: RuntimeWarning: divide by zero encountered in log\n",
      "  result = getattr(ufunc, method)(*inputs, **kwargs)\n"
     ]
    },
    {
     "data": {
      "image/png": "[encoded data removed]",
      "text/plain": [
       "<Figure size 1080x576 with 6 Axes>"
      ]
     },
     "metadata": {
      "needs_background": "light"
     },
     "output_type": "display_data"
    }
   ],
   "source": [
    "f_draw = [\"content_size\", \"gender_based\", \"age_based\", \"equality_based\", \"GBV\", \"SRH\"]\n",
    "feats_draw = [v for k, v in feats_dict.items() if k in f_draw]\n",
    "ar.draw_woe_multiplot(feats_draw, iv)"
   ]
  },
  {
   "cell_type": "code",
   "execution_count": 76,
   "metadata": {},
   "outputs": [
    {
     "data": {
      "text/plain": [
       "women     64\n",
       "          49\n",
       "girl      48\n",
       "gender    23\n",
       "female    13\n",
       "Name: gender_based, dtype: int64"
      ]
     },
     "execution_count": 76,
     "metadata": {},
     "output_type": "execute_result"
    }
   ],
   "source": [
    "df[\"gender_based\"].value_counts()"
   ]
  },
  {
   "cell_type": "code",
   "execution_count": null,
   "metadata": {},
   "outputs": [],
   "source": []
  }
 ],
 "metadata": {
  "kernelspec": {
   "display_name": "Python 3",
   "language": "python",
   "name": "python3"
  },
  "language_info": {
   "codemirror_mode": {
    "name": "ipython",
    "version": 3
   },
   "file_extension": ".py",
   "mimetype": "text/x-python",
   "name": "python",
   "nbconvert_exporter": "python",
   "pygments_lexer": "ipython3",
   "version": "3.7.6"
  }
 },
 "nbformat": 4,
 "nbformat_minor": 4
}
