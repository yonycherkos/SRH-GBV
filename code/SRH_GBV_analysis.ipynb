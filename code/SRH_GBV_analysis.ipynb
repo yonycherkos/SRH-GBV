{
 "cells": [
  {
   "cell_type": "code",
   "execution_count": 1,
   "metadata": {},
   "outputs": [],
   "source": [
    "# import the necessary packages\n",
    "from facebook_scraper import get_posts\n",
    "from twitter_scraper import get_tweets\n",
    "from textblob import TextBlob\n",
    "import seaborn as sns\n",
    "import pandas as pd\n",
    "import numpy as np\n",
    "import time\n",
    "import json\n",
    "import re\n",
    "\n",
    "from AttributeRelevance import *\n",
    "from Features import *"
   ]
  },
  {
   "cell_type": "markdown",
   "metadata": {},
   "source": [
    "# Part - 1: Data Collection"
   ]
  },
  {
   "cell_type": "markdown",
   "metadata": {},
   "source": [
    "## Scrape facebook"
   ]
  },
  {
   "cell_type": "code",
   "execution_count": 2,
   "metadata": {},
   "outputs": [],
   "source": [
    "# define a function to scrape facebook posts\n",
    "def scrape_facebook(accounts):\n",
    "    posts = []\n",
    "    count = 0\n",
    "    for account in accounts:\n",
    "        for post in get_posts(account):\n",
    "            try:\n",
    "                post_dict = {}\n",
    "                post_dict[\"post_id\"] = post[\"post_id\"]\n",
    "                post_dict[\"text\"] = post[\"text\"]\n",
    "                post_dict[\"post_text\"] = post[\"post_text\"]\n",
    "                post_dict[\"shared_text\"] = post[\"shared_text\"]\n",
    "                post_dict[\"time\"] = post[\"time\"]\n",
    "                post_dict[\"image\"] = post[\"image\"]\n",
    "                post_dict[\"video\"] = post[\"video\"]\n",
    "                post_dict[\"video_thumbnail\"] = post[\"video_thumbnail\"]\n",
    "                post_dict[\"video_id\"] = post[\"video_id\"]\n",
    "                post_dict[\"likes\"] = post[\"likes\"]\n",
    "                post_dict[\"comments\"] = post[\"comments\"]\n",
    "                post_dict[\"shares\"] = post[\"shares\"]\n",
    "                post_dict[\"post_url\"] = post[\"post_url\"]\n",
    "                post_dict[\"link\"] = post[\"link\"]\n",
    "                post_dict[\"user_id\"] = post[\"user_id\"]\n",
    "                post_dict[\"images\"] = post[\"images\"]\n",
    "                posts.append(post_dict)\n",
    "            except:\n",
    "                continue\n",
    "        count += 1\n",
    "        print(f\"complete scrapping {count} accounts out of {len(accounts)} accounts\")\n",
    "            \n",
    "    return posts"
   ]
  },
  {
   "cell_type": "code",
   "execution_count": 3,
   "metadata": {},
   "outputs": [
    {
     "name": "stdout",
     "output_type": "stream",
     "text": [
      "complete scrapping 1 accounts out of 11 accounts\n",
      "complete scrapping 2 accounts out of 11 accounts\n",
      "complete scrapping 3 accounts out of 11 accounts\n",
      "complete scrapping 4 accounts out of 11 accounts\n",
      "complete scrapping 5 accounts out of 11 accounts\n",
      "complete scrapping 6 accounts out of 11 accounts\n",
      "complete scrapping 7 accounts out of 11 accounts\n",
      "complete scrapping 8 accounts out of 11 accounts\n",
      "complete scrapping 9 accounts out of 11 accounts\n",
      "complete scrapping 10 accounts out of 11 accounts\n",
      "complete scrapping 11 accounts out of 11 accounts\n",
      "data scraping takes: 1020.8554711341858 seconds\n",
      "            post_id                                               text  \\\n",
      "0  4183582811698940  New research finds that by using #photovoice, ...   \n",
      "1  4181041485286406  We cannot overlook #reprohealth and #reprorigh...   \n",
      "2  4179768305413724  Our latest editorial is now available online. ...   \n",
      "3  4178431158880772  Evidence of the #health system challenges to p...   \n",
      "4  4176874072369814  President Biden repeals the Global Gag Rule - ...   \n",
      "\n",
      "                                           post_text  \\\n",
      "0  New research finds that by using #photovoice, ...   \n",
      "1  We cannot overlook #reprohealth and #reprorigh...   \n",
      "2  Our latest editorial is now available online. ...   \n",
      "3  Evidence of the #health system challenges to p...   \n",
      "4  President Biden repeals the Global Gag Rule - ...   \n",
      "\n",
      "                                       shared_text                time  \\\n",
      "0                                                  2021-02-04 13:25:03   \n",
      "1              SRHM.ORG\\nCall for Papers: COVID-19 2021-02-03 13:25:03   \n",
      "2  TANDFONLINE.COM\\nA round-up of articles in 2020 2021-02-03 00:41:05   \n",
      "3                                                  2021-02-02 13:25:03   \n",
      "4                                                  2021-02-01 21:48:36   \n",
      "\n",
      "                                               image video video_thumbnail  \\\n",
      "0  https://scontent.fadd1-1.fna.fbcdn.net/v/t1.0-...  None            None   \n",
      "1                                               None  None            None   \n",
      "2                                               None  None            None   \n",
      "3  https://scontent.fadd1-1.fna.fbcdn.net/v/t1.0-...  None            None   \n",
      "4  https://scontent.fadd1-1.fna.fbcdn.net/v/t1.0-...  None            None   \n",
      "\n",
      "  video_id  likes  comments  shares  \\\n",
      "0     None      2         0       0   \n",
      "1     None      3         0       0   \n",
      "2     None      0         0       0   \n",
      "3     None      3         0       0   \n",
      "4     None      1         0       0   \n",
      "\n",
      "                                            post_url  \\\n",
      "0                                               None   \n",
      "1  https://facebook.com/story.php?story_fbid=4181...   \n",
      "2  https://facebook.com/story.php?story_fbid=4179...   \n",
      "3                                               None   \n",
      "4                                               None   \n",
      "\n",
      "                                                link          user_id  \\\n",
      "0                             https://bit.ly/2XZFJyV  126697227387539   \n",
      "1       http://www.srhm.org/call-for-papers-covid19/  126697227387539   \n",
      "2                             https://bit.ly/3oDquXj  126697227387539   \n",
      "3                             https://bit.ly/3qC86PZ  126697227387539   \n",
      "4  https://mailchi.mp/c0533878aec1/your-april-new...  126697227387539   \n",
      "\n",
      "                                              images  \n",
      "0  [https://scontent.fadd1-1.fna.fbcdn.net/v/t1.0...  \n",
      "1                                                 []  \n",
      "2                                                 []  \n",
      "3  [https://scontent.fadd1-1.fna.fbcdn.net/v/t1.0...  \n",
      "4  [https://scontent.fadd1-1.fna.fbcdn.net/v/t1.0...  \n",
      "(424, 16)\n"
     ]
    }
   ],
   "source": [
    "# facebook pages to be scrape which are related to SRH and GBV\n",
    "facebook_accounts = [\"SRHMJournal\", \"FSRH.UK\", \"mmsa.scora\", \"BMJ.SRH\", \n",
    "                     \"BLreproductivehealth\", \"actioncanadaSHR\", \"GBVPrevNetwork\", \n",
    "                     \"StopGBVatWork\", \"16DaysCampaign\", \"SayNO.UNiTE\", \"TheYellowMovementAau\"]\n",
    "\n",
    "# scrape facebook posts related to SRH and GBV\n",
    "start = time.time()\n",
    "posts = scrape_facebook(facebook_accounts)\n",
    "end = time.time()\n",
    "print(f\"data scraping takes: {(end - start)} seconds\")\n",
    "fb_posts_df = pd.DataFrame(posts)\n",
    "fb_posts_df.shape"
   ]
  },
  {
   "cell_type": "code",
   "execution_count": 4,
   "metadata": {},
   "outputs": [
    {
     "data": {
      "text/plain": [
       "(38, 16)"
      ]
     },
     "execution_count": 4,
     "metadata": {},
     "output_type": "execute_result"
    }
   ],
   "source": [
    "AWAREsg_df = pd.read_csv(\"../data/AWAREsg.csv\")\n",
    "AWAREsg_df.shape"
   ]
  },
  {
   "cell_type": "code",
   "execution_count": 5,
   "metadata": {},
   "outputs": [
    {
     "data": {
      "text/plain": [
       "(38, 16)"
      ]
     },
     "execution_count": 5,
     "metadata": {},
     "output_type": "execute_result"
    }
   ],
   "source": [
    "emerge_global_df = pd.read_csv(\"../data/EmergeGlobal.csv\")\n",
    "emerge_global_df = emerge_global_df.drop(columns=[\"Unnamed: 16\", \"Unnamed: 17\"])\n",
    "emerge_global_df.shape"
   ]
  },
  {
   "cell_type": "code",
   "execution_count": 6,
   "metadata": {},
   "outputs": [
    {
     "data": {
      "text/plain": [
       "(38, 16)"
      ]
     },
     "execution_count": 6,
     "metadata": {},
     "output_type": "execute_result"
    }
   ],
   "source": [
    "equality_now_df = pd.read_csv(\"../data/equalitynow.csv\")\n",
    "equality_now_df.shape"
   ]
  },
  {
   "cell_type": "code",
   "execution_count": 7,
   "metadata": {},
   "outputs": [
    {
     "data": {
      "text/plain": [
       "(26, 16)"
      ]
     },
     "execution_count": 7,
     "metadata": {},
     "output_type": "execute_result"
    }
   ],
   "source": [
    "girls_are_not_for_sale_df = pd.read_csv(\"../data/girlsarenotforsale.csv\")\n",
    "girls_are_not_for_sale_df.shape"
   ]
  },
  {
   "cell_type": "code",
   "execution_count": 130,
   "metadata": {},
   "outputs": [
    {
     "data": {
      "text/html": [
       "<div>\n",
       "<style scoped>\n",
       "    .dataframe tbody tr th:only-of-type {\n",
       "        vertical-align: middle;\n",
       "    }\n",
       "\n",
       "    .dataframe tbody tr th {\n",
       "        vertical-align: top;\n",
       "    }\n",
       "\n",
       "    .dataframe thead th {\n",
       "        text-align: right;\n",
       "    }\n",
       "</style>\n",
       "<table border=\"1\" class=\"dataframe\">\n",
       "  <thead>\n",
       "    <tr style=\"text-align: right;\">\n",
       "      <th></th>\n",
       "      <th>post_id</th>\n",
       "      <th>text</th>\n",
       "      <th>post_text</th>\n",
       "      <th>shared_text</th>\n",
       "      <th>time</th>\n",
       "      <th>image</th>\n",
       "      <th>video</th>\n",
       "      <th>video_thumbnail</th>\n",
       "      <th>video_id</th>\n",
       "      <th>likes</th>\n",
       "      <th>comments</th>\n",
       "      <th>shares</th>\n",
       "      <th>post_url</th>\n",
       "      <th>link</th>\n",
       "      <th>user_id</th>\n",
       "      <th>images</th>\n",
       "    </tr>\n",
       "  </thead>\n",
       "  <tbody>\n",
       "    <tr>\n",
       "      <th>0</th>\n",
       "      <td>4183582811698940</td>\n",
       "      <td>New research finds that by using #photovoice, ...</td>\n",
       "      <td>New research finds that by using #photovoice, ...</td>\n",
       "      <td></td>\n",
       "      <td>2021-02-04 13:25:03</td>\n",
       "      <td>https://scontent.fadd1-1.fna.fbcdn.net/v/t1.0-...</td>\n",
       "      <td>None</td>\n",
       "      <td>None</td>\n",
       "      <td>None</td>\n",
       "      <td>2.0</td>\n",
       "      <td>0.0</td>\n",
       "      <td>0</td>\n",
       "      <td>None</td>\n",
       "      <td>https://bit.ly/2XZFJyV</td>\n",
       "      <td>126697227387539</td>\n",
       "      <td>[https://scontent.fadd1-1.fna.fbcdn.net/v/t1.0...</td>\n",
       "    </tr>\n",
       "    <tr>\n",
       "      <th>1</th>\n",
       "      <td>4181041485286406</td>\n",
       "      <td>We cannot overlook #reprohealth and #reprorigh...</td>\n",
       "      <td>We cannot overlook #reprohealth and #reprorigh...</td>\n",
       "      <td>SRHM.ORG\\nCall for Papers: COVID-19</td>\n",
       "      <td>2021-02-03 13:25:03</td>\n",
       "      <td>None</td>\n",
       "      <td>None</td>\n",
       "      <td>None</td>\n",
       "      <td>None</td>\n",
       "      <td>3.0</td>\n",
       "      <td>0.0</td>\n",
       "      <td>0</td>\n",
       "      <td>https://facebook.com/story.php?story_fbid=4181...</td>\n",
       "      <td>http://www.srhm.org/call-for-papers-covid19/</td>\n",
       "      <td>126697227387539</td>\n",
       "      <td>[]</td>\n",
       "    </tr>\n",
       "    <tr>\n",
       "      <th>2</th>\n",
       "      <td>4179768305413724</td>\n",
       "      <td>Our latest editorial is now available online. ...</td>\n",
       "      <td>Our latest editorial is now available online. ...</td>\n",
       "      <td>TANDFONLINE.COM\\nA round-up of articles in 2020</td>\n",
       "      <td>2021-02-03 00:41:05</td>\n",
       "      <td>None</td>\n",
       "      <td>None</td>\n",
       "      <td>None</td>\n",
       "      <td>None</td>\n",
       "      <td>0.0</td>\n",
       "      <td>0.0</td>\n",
       "      <td>0</td>\n",
       "      <td>https://facebook.com/story.php?story_fbid=4179...</td>\n",
       "      <td>https://bit.ly/3oDquXj</td>\n",
       "      <td>126697227387539</td>\n",
       "      <td>[]</td>\n",
       "    </tr>\n",
       "    <tr>\n",
       "      <th>3</th>\n",
       "      <td>4178431158880772</td>\n",
       "      <td>Evidence of the #health system challenges to p...</td>\n",
       "      <td>Evidence of the #health system challenges to p...</td>\n",
       "      <td></td>\n",
       "      <td>2021-02-02 13:25:03</td>\n",
       "      <td>https://scontent.fadd1-1.fna.fbcdn.net/v/t1.0-...</td>\n",
       "      <td>None</td>\n",
       "      <td>None</td>\n",
       "      <td>None</td>\n",
       "      <td>3.0</td>\n",
       "      <td>0.0</td>\n",
       "      <td>0</td>\n",
       "      <td>None</td>\n",
       "      <td>https://bit.ly/3qC86PZ</td>\n",
       "      <td>126697227387539</td>\n",
       "      <td>[https://scontent.fadd1-1.fna.fbcdn.net/v/t1.0...</td>\n",
       "    </tr>\n",
       "    <tr>\n",
       "      <th>4</th>\n",
       "      <td>4176874072369814</td>\n",
       "      <td>President Biden repeals the Global Gag Rule - ...</td>\n",
       "      <td>President Biden repeals the Global Gag Rule - ...</td>\n",
       "      <td></td>\n",
       "      <td>2021-02-01 21:48:36</td>\n",
       "      <td>https://scontent.fadd1-1.fna.fbcdn.net/v/t1.0-...</td>\n",
       "      <td>None</td>\n",
       "      <td>None</td>\n",
       "      <td>None</td>\n",
       "      <td>1.0</td>\n",
       "      <td>0.0</td>\n",
       "      <td>0</td>\n",
       "      <td>None</td>\n",
       "      <td>https://mailchi.mp/c0533878aec1/your-april-new...</td>\n",
       "      <td>126697227387539</td>\n",
       "      <td>[https://scontent.fadd1-1.fna.fbcdn.net/v/t1.0...</td>\n",
       "    </tr>\n",
       "  </tbody>\n",
       "</table>\n",
       "</div>"
      ],
      "text/plain": [
       "            post_id                                               text  \\\n",
       "0  4183582811698940  New research finds that by using #photovoice, ...   \n",
       "1  4181041485286406  We cannot overlook #reprohealth and #reprorigh...   \n",
       "2  4179768305413724  Our latest editorial is now available online. ...   \n",
       "3  4178431158880772  Evidence of the #health system challenges to p...   \n",
       "4  4176874072369814  President Biden repeals the Global Gag Rule - ...   \n",
       "\n",
       "                                           post_text  \\\n",
       "0  New research finds that by using #photovoice, ...   \n",
       "1  We cannot overlook #reprohealth and #reprorigh...   \n",
       "2  Our latest editorial is now available online. ...   \n",
       "3  Evidence of the #health system challenges to p...   \n",
       "4  President Biden repeals the Global Gag Rule - ...   \n",
       "\n",
       "                                       shared_text                 time  \\\n",
       "0                                                   2021-02-04 13:25:03   \n",
       "1              SRHM.ORG\\nCall for Papers: COVID-19  2021-02-03 13:25:03   \n",
       "2  TANDFONLINE.COM\\nA round-up of articles in 2020  2021-02-03 00:41:05   \n",
       "3                                                   2021-02-02 13:25:03   \n",
       "4                                                   2021-02-01 21:48:36   \n",
       "\n",
       "                                               image video video_thumbnail  \\\n",
       "0  https://scontent.fadd1-1.fna.fbcdn.net/v/t1.0-...  None            None   \n",
       "1                                               None  None            None   \n",
       "2                                               None  None            None   \n",
       "3  https://scontent.fadd1-1.fna.fbcdn.net/v/t1.0-...  None            None   \n",
       "4  https://scontent.fadd1-1.fna.fbcdn.net/v/t1.0-...  None            None   \n",
       "\n",
       "  video_id  likes  comments  shares  \\\n",
       "0     None    2.0       0.0       0   \n",
       "1     None    3.0       0.0       0   \n",
       "2     None    0.0       0.0       0   \n",
       "3     None    3.0       0.0       0   \n",
       "4     None    1.0       0.0       0   \n",
       "\n",
       "                                            post_url  \\\n",
       "0                                               None   \n",
       "1  https://facebook.com/story.php?story_fbid=4181...   \n",
       "2  https://facebook.com/story.php?story_fbid=4179...   \n",
       "3                                               None   \n",
       "4                                               None   \n",
       "\n",
       "                                                link          user_id  \\\n",
       "0                             https://bit.ly/2XZFJyV  126697227387539   \n",
       "1       http://www.srhm.org/call-for-papers-covid19/  126697227387539   \n",
       "2                             https://bit.ly/3oDquXj  126697227387539   \n",
       "3                             https://bit.ly/3qC86PZ  126697227387539   \n",
       "4  https://mailchi.mp/c0533878aec1/your-april-new...  126697227387539   \n",
       "\n",
       "                                              images  \n",
       "0  [https://scontent.fadd1-1.fna.fbcdn.net/v/t1.0...  \n",
       "1                                                 []  \n",
       "2                                                 []  \n",
       "3  [https://scontent.fadd1-1.fna.fbcdn.net/v/t1.0...  \n",
       "4  [https://scontent.fadd1-1.fna.fbcdn.net/v/t1.0...  "
      ]
     },
     "execution_count": 130,
     "metadata": {},
     "output_type": "execute_result"
    }
   ],
   "source": [
    "# concatinating the scrapped dataframes\n",
    "frames = [fb_posts_df, AWAREsg_df, emerge_global_df, equality_now_df, girls_are_not_for_sale_df]\n",
    "df = pd.concat(frames)\n",
    "df.head()"
   ]
  },
  {
   "cell_type": "code",
   "execution_count": 131,
   "metadata": {},
   "outputs": [
    {
     "data": {
      "text/plain": [
       "(564, 16)"
      ]
     },
     "execution_count": 131,
     "metadata": {},
     "output_type": "execute_result"
    }
   ],
   "source": [
    "df.shape"
   ]
  },
  {
   "cell_type": "code",
   "execution_count": 4,
   "metadata": {},
   "outputs": [],
   "source": [
    "df.to_csv('../data/fb_posts.csv', index=False)"
   ]
  },
  {
   "cell_type": "code",
   "execution_count": 2,
   "metadata": {},
   "outputs": [
    {
     "data": {
      "text/plain": [
       "(564, 16)"
      ]
     },
     "execution_count": 2,
     "metadata": {},
     "output_type": "execute_result"
    }
   ],
   "source": [
    "df = pd.read_csv('../data/fb_posts.csv')\n",
    "df.shape"
   ]
  },
  {
   "cell_type": "code",
   "execution_count": 3,
   "metadata": {},
   "outputs": [
    {
     "data": {
      "text/html": [
       "<div>\n",
       "<style scoped>\n",
       "    .dataframe tbody tr th:only-of-type {\n",
       "        vertical-align: middle;\n",
       "    }\n",
       "\n",
       "    .dataframe tbody tr th {\n",
       "        vertical-align: top;\n",
       "    }\n",
       "\n",
       "    .dataframe thead th {\n",
       "        text-align: right;\n",
       "    }\n",
       "</style>\n",
       "<table border=\"1\" class=\"dataframe\">\n",
       "  <thead>\n",
       "    <tr style=\"text-align: right;\">\n",
       "      <th></th>\n",
       "      <th>post_id</th>\n",
       "      <th>text</th>\n",
       "      <th>post_text</th>\n",
       "      <th>shared_text</th>\n",
       "      <th>time</th>\n",
       "      <th>image</th>\n",
       "      <th>video</th>\n",
       "      <th>video_thumbnail</th>\n",
       "      <th>video_id</th>\n",
       "      <th>likes</th>\n",
       "      <th>comments</th>\n",
       "      <th>shares</th>\n",
       "      <th>post_url</th>\n",
       "      <th>link</th>\n",
       "      <th>user_id</th>\n",
       "      <th>images</th>\n",
       "    </tr>\n",
       "  </thead>\n",
       "  <tbody>\n",
       "    <tr>\n",
       "      <th>0</th>\n",
       "      <td>4.183583e+15</td>\n",
       "      <td>New research finds that by using #photovoice, ...</td>\n",
       "      <td>New research finds that by using #photovoice, ...</td>\n",
       "      <td>NaN</td>\n",
       "      <td>2021-02-04 13:25:03</td>\n",
       "      <td>https://scontent.fadd1-1.fna.fbcdn.net/v/t1.0-...</td>\n",
       "      <td>NaN</td>\n",
       "      <td>NaN</td>\n",
       "      <td>NaN</td>\n",
       "      <td>2.0</td>\n",
       "      <td>0.0</td>\n",
       "      <td>0</td>\n",
       "      <td>NaN</td>\n",
       "      <td>https://bit.ly/2XZFJyV</td>\n",
       "      <td>126697227387539</td>\n",
       "      <td>['https://scontent.fadd1-1.fna.fbcdn.net/v/t1....</td>\n",
       "    </tr>\n",
       "    <tr>\n",
       "      <th>1</th>\n",
       "      <td>4.181041e+15</td>\n",
       "      <td>We cannot overlook #reprohealth and #reprorigh...</td>\n",
       "      <td>We cannot overlook #reprohealth and #reprorigh...</td>\n",
       "      <td>SRHM.ORG\\nCall for Papers: COVID-19</td>\n",
       "      <td>2021-02-03 13:25:03</td>\n",
       "      <td>NaN</td>\n",
       "      <td>NaN</td>\n",
       "      <td>NaN</td>\n",
       "      <td>NaN</td>\n",
       "      <td>3.0</td>\n",
       "      <td>0.0</td>\n",
       "      <td>0</td>\n",
       "      <td>https://facebook.com/story.php?story_fbid=4181...</td>\n",
       "      <td>http://www.srhm.org/call-for-papers-covid19/</td>\n",
       "      <td>126697227387539</td>\n",
       "      <td>[]</td>\n",
       "    </tr>\n",
       "    <tr>\n",
       "      <th>2</th>\n",
       "      <td>4.179768e+15</td>\n",
       "      <td>Our latest editorial is now available online. ...</td>\n",
       "      <td>Our latest editorial is now available online. ...</td>\n",
       "      <td>TANDFONLINE.COM\\nA round-up of articles in 2020</td>\n",
       "      <td>2021-02-03 00:41:05</td>\n",
       "      <td>NaN</td>\n",
       "      <td>NaN</td>\n",
       "      <td>NaN</td>\n",
       "      <td>NaN</td>\n",
       "      <td>0.0</td>\n",
       "      <td>0.0</td>\n",
       "      <td>0</td>\n",
       "      <td>https://facebook.com/story.php?story_fbid=4179...</td>\n",
       "      <td>https://bit.ly/3oDquXj</td>\n",
       "      <td>126697227387539</td>\n",
       "      <td>[]</td>\n",
       "    </tr>\n",
       "    <tr>\n",
       "      <th>3</th>\n",
       "      <td>4.178431e+15</td>\n",
       "      <td>Evidence of the #health system challenges to p...</td>\n",
       "      <td>Evidence of the #health system challenges to p...</td>\n",
       "      <td>NaN</td>\n",
       "      <td>2021-02-02 13:25:03</td>\n",
       "      <td>https://scontent.fadd1-1.fna.fbcdn.net/v/t1.0-...</td>\n",
       "      <td>NaN</td>\n",
       "      <td>NaN</td>\n",
       "      <td>NaN</td>\n",
       "      <td>3.0</td>\n",
       "      <td>0.0</td>\n",
       "      <td>0</td>\n",
       "      <td>NaN</td>\n",
       "      <td>https://bit.ly/3qC86PZ</td>\n",
       "      <td>126697227387539</td>\n",
       "      <td>['https://scontent.fadd1-1.fna.fbcdn.net/v/t1....</td>\n",
       "    </tr>\n",
       "    <tr>\n",
       "      <th>4</th>\n",
       "      <td>4.176874e+15</td>\n",
       "      <td>President Biden repeals the Global Gag Rule - ...</td>\n",
       "      <td>President Biden repeals the Global Gag Rule - ...</td>\n",
       "      <td>NaN</td>\n",
       "      <td>2021-02-01 21:48:36</td>\n",
       "      <td>https://scontent.fadd1-1.fna.fbcdn.net/v/t1.0-...</td>\n",
       "      <td>NaN</td>\n",
       "      <td>NaN</td>\n",
       "      <td>NaN</td>\n",
       "      <td>1.0</td>\n",
       "      <td>0.0</td>\n",
       "      <td>0</td>\n",
       "      <td>NaN</td>\n",
       "      <td>https://mailchi.mp/c0533878aec1/your-april-new...</td>\n",
       "      <td>126697227387539</td>\n",
       "      <td>['https://scontent.fadd1-1.fna.fbcdn.net/v/t1....</td>\n",
       "    </tr>\n",
       "  </tbody>\n",
       "</table>\n",
       "</div>"
      ],
      "text/plain": [
       "        post_id                                               text  \\\n",
       "0  4.183583e+15  New research finds that by using #photovoice, ...   \n",
       "1  4.181041e+15  We cannot overlook #reprohealth and #reprorigh...   \n",
       "2  4.179768e+15  Our latest editorial is now available online. ...   \n",
       "3  4.178431e+15  Evidence of the #health system challenges to p...   \n",
       "4  4.176874e+15  President Biden repeals the Global Gag Rule - ...   \n",
       "\n",
       "                                           post_text  \\\n",
       "0  New research finds that by using #photovoice, ...   \n",
       "1  We cannot overlook #reprohealth and #reprorigh...   \n",
       "2  Our latest editorial is now available online. ...   \n",
       "3  Evidence of the #health system challenges to p...   \n",
       "4  President Biden repeals the Global Gag Rule - ...   \n",
       "\n",
       "                                       shared_text                 time  \\\n",
       "0                                              NaN  2021-02-04 13:25:03   \n",
       "1              SRHM.ORG\\nCall for Papers: COVID-19  2021-02-03 13:25:03   \n",
       "2  TANDFONLINE.COM\\nA round-up of articles in 2020  2021-02-03 00:41:05   \n",
       "3                                              NaN  2021-02-02 13:25:03   \n",
       "4                                              NaN  2021-02-01 21:48:36   \n",
       "\n",
       "                                               image video video_thumbnail  \\\n",
       "0  https://scontent.fadd1-1.fna.fbcdn.net/v/t1.0-...   NaN             NaN   \n",
       "1                                                NaN   NaN             NaN   \n",
       "2                                                NaN   NaN             NaN   \n",
       "3  https://scontent.fadd1-1.fna.fbcdn.net/v/t1.0-...   NaN             NaN   \n",
       "4  https://scontent.fadd1-1.fna.fbcdn.net/v/t1.0-...   NaN             NaN   \n",
       "\n",
       "   video_id  likes  comments  shares  \\\n",
       "0       NaN    2.0       0.0       0   \n",
       "1       NaN    3.0       0.0       0   \n",
       "2       NaN    0.0       0.0       0   \n",
       "3       NaN    3.0       0.0       0   \n",
       "4       NaN    1.0       0.0       0   \n",
       "\n",
       "                                            post_url  \\\n",
       "0                                                NaN   \n",
       "1  https://facebook.com/story.php?story_fbid=4181...   \n",
       "2  https://facebook.com/story.php?story_fbid=4179...   \n",
       "3                                                NaN   \n",
       "4                                                NaN   \n",
       "\n",
       "                                                link          user_id  \\\n",
       "0                             https://bit.ly/2XZFJyV  126697227387539   \n",
       "1       http://www.srhm.org/call-for-papers-covid19/  126697227387539   \n",
       "2                             https://bit.ly/3oDquXj  126697227387539   \n",
       "3                             https://bit.ly/3qC86PZ  126697227387539   \n",
       "4  https://mailchi.mp/c0533878aec1/your-april-new...  126697227387539   \n",
       "\n",
       "                                              images  \n",
       "0  ['https://scontent.fadd1-1.fna.fbcdn.net/v/t1....  \n",
       "1                                                 []  \n",
       "2                                                 []  \n",
       "3  ['https://scontent.fadd1-1.fna.fbcdn.net/v/t1....  \n",
       "4  ['https://scontent.fadd1-1.fna.fbcdn.net/v/t1....  "
      ]
     },
     "execution_count": 3,
     "metadata": {},
     "output_type": "execute_result"
    }
   ],
   "source": [
    "df.head()"
   ]
  },
  {
   "cell_type": "markdown",
   "metadata": {},
   "source": [
    "## Scrape twitter"
   ]
  },
  {
   "cell_type": "code",
   "execution_count": 7,
   "metadata": {},
   "outputs": [],
   "source": [
    "# define a function to scrape twitter tweets\n",
    "def scrape_twitter(accounts):\n",
    "    tweets = []\n",
    "    count = 0\n",
    "    for account in accounts:\n",
    "        for tweet in get_tweets(account):\n",
    "            try:\n",
    "                tweet_dict = {}\n",
    "                tweet_dict[\"tweetId\"] = tweet[\"tweetId\"]\n",
    "                tweet_dict[\"userId\"] = tweet[\"userId\"]\n",
    "                tweet_dict[\"username\"] = tweet[\"username\"]\n",
    "                tweet_dict[\"tweetUrl\"] = tweet[\"tweetUrl\"]\n",
    "                tweet_dict[\"isRetweet\"] = tweet[\"isRetweet\"]\n",
    "                tweet_dict[\"isPinned\"] = tweet[\"isPinned\"]\n",
    "                tweet_dict[\"time\"] = tweet[\"time\"]\n",
    "                tweet_dict[\"text\"] = tweet[\"text\"]\n",
    "                tweet_dict[\"replies\"] = tweet[\"replies\"]\n",
    "                tweet_dict[\"retweets\"] = tweet[\"retweets\"]\n",
    "                tweet_dict[\"comments\"] = tweet[\"comments\"]\n",
    "                tweet_dict[\"likes\"] = tweet[\"likes\"]\n",
    "                tweet_dict[\"entries\"] = tweet[\"entries\"]\n",
    "                tweets.append(tweet_dict)\n",
    "            except:\n",
    "                continue\n",
    "        count += 1\n",
    "        print(f\"complete scrapping {count} accounts out of {len(accounts)} accounts\")\n",
    "            \n",
    "    return posts"
   ]
  },
  {
   "cell_type": "code",
   "execution_count": 10,
   "metadata": {},
   "outputs": [],
   "source": [
    "# facebook pages to be scrape which are related to SRH and GBV\n",
    "twitter_accounts = [\"psrhjournal\", \"bmj_srh\", \"reprod_health\"]\n",
    "\n",
    "# scrape facebook posts related to SRH and GBV\n",
    "start = time.time()\n",
    "tweets = scrape_twitter(twitter_accounts)\n",
    "end = time.time()\n",
    "print(f\"data scraping takes: {(end - start)} seconds\")\n",
    "twitter_tweets_df = pd.DataFrame(tweets)\n",
    "twitter_tweets_df.shape"
   ]
  },
  {
   "cell_type": "code",
   "execution_count": null,
   "metadata": {},
   "outputs": [],
   "source": [
    "twitter_tweets_df.head()"
   ]
  },
  {
   "cell_type": "markdown",
   "metadata": {},
   "source": [
    "# Part - 2: Data Cleaning and Transforming"
   ]
  },
  {
   "cell_type": "code",
   "execution_count": 6,
   "metadata": {},
   "outputs": [],
   "source": [
    "# TODO - add language column using text language detector\n",
    "# TODO - clean the post text based on amharic and english keywords\n",
    "# TODO - consider the image, link, time, and language\n",
    "# TODO - how to find the appropriet content size\n",
    "# TODO - labelling the posts accurately\n",
    "# TODO - scrape additional data"
   ]
  },
  {
   "cell_type": "markdown",
   "metadata": {},
   "source": [
    "## Text cleaning"
   ]
  },
  {
   "cell_type": "code",
   "execution_count": 4,
   "metadata": {},
   "outputs": [
    {
     "data": {
      "text/plain": [
       "(555, 16)"
      ]
     },
     "execution_count": 4,
     "metadata": {},
     "output_type": "execute_result"
    }
   ],
   "source": [
    "# drop post with empty text\n",
    "df[\"text\"] = df[\"text\"].replace({\"\", np.nan})\n",
    "df = df.dropna(subset=[\"text\"])\n",
    "df.shape"
   ]
  },
  {
   "cell_type": "code",
   "execution_count": 5,
   "metadata": {},
   "outputs": [
    {
     "data": {
      "text/plain": [
       "(102, 17)"
      ]
     },
     "execution_count": 5,
     "metadata": {},
     "output_type": "execute_result"
    }
   ],
   "source": [
    "# content based cleaning \n",
    "# define keyword group count\n",
    "def keyword_group_count(txt):\n",
    "    f = open(\"../data/keywords.json\")\n",
    "    keywords = json.load(f)\n",
    "    f.close()\n",
    "    count = 0\n",
    "    for keyword_list in keywords.values():\n",
    "        for keyword in keyword_list:\n",
    "            if str(keyword).lower() in txt.lower():\n",
    "                count += 1\n",
    "                break\n",
    "    return count\n",
    "\n",
    "# add keyword group count columns\n",
    "df[\"keyword_group_count\"] = df[\"text\"].apply(lambda txt: keyword_group_count(txt))\n",
    "df = df[df[\"keyword_group_count\"] >= 2]\n",
    "df.shape"
   ]
  },
  {
   "cell_type": "markdown",
   "metadata": {},
   "source": [
    "## Add content size column"
   ]
  },
  {
   "cell_type": "code",
   "execution_count": 6,
   "metadata": {},
   "outputs": [
    {
     "data": {
      "text/plain": [
       "3     short\n",
       "7     short\n",
       "19    short\n",
       "21    short\n",
       "34    short\n",
       "Name: content_size, dtype: object"
      ]
     },
     "execution_count": 6,
     "metadata": {},
     "output_type": "execute_result"
    }
   ],
   "source": [
    "df[\"content_size\"] = df[\"text\"].apply(lambda txt: len(txt))\n",
    "ser, bins = pd.qcut(df[\"content_size\"], 3, labels=[\"short\", \"medium\", \"long\"], retbins=True)\n",
    "df[\"content_size\"] = ser.astype(\"str\")\n",
    "df[\"content_size\"].head()"
   ]
  },
  {
   "cell_type": "code",
   "execution_count": 7,
   "metadata": {},
   "outputs": [
    {
     "data": {
      "text/plain": [
       "array([  85.        ,  354.33333333,  619.        , 2673.        ])"
      ]
     },
     "execution_count": 7,
     "metadata": {},
     "output_type": "execute_result"
    }
   ],
   "source": [
    "bins"
   ]
  },
  {
   "cell_type": "code",
   "execution_count": 8,
   "metadata": {},
   "outputs": [
    {
     "data": {
      "text/plain": [
       "medium    34\n",
       "short     34\n",
       "long      34\n",
       "Name: content_size, dtype: int64"
      ]
     },
     "execution_count": 8,
     "metadata": {},
     "output_type": "execute_result"
    }
   ],
   "source": [
    "df[\"content_size\"].value_counts()"
   ]
  },
  {
   "cell_type": "markdown",
   "metadata": {},
   "source": [
    "## Add language column"
   ]
  },
  {
   "cell_type": "code",
   "execution_count": 9,
   "metadata": {},
   "outputs": [],
   "source": [
    "df[\"language\"] = df[\"text\"].apply(lambda txt: TextBlob(txt).detect_language())"
   ]
  },
  {
   "cell_type": "code",
   "execution_count": 10,
   "metadata": {},
   "outputs": [
    {
     "data": {
      "text/plain": [
       "129    en\n",
       "500    en\n",
       "495    en\n",
       "322    en\n",
       "392    am\n",
       "Name: language, dtype: object"
      ]
     },
     "execution_count": 10,
     "metadata": {},
     "output_type": "execute_result"
    }
   ],
   "source": [
    "df[\"language\"].sample(5)"
   ]
  },
  {
   "cell_type": "code",
   "execution_count": 11,
   "metadata": {},
   "outputs": [
    {
     "data": {
      "text/plain": [
       "en       89\n",
       "am       12\n",
       "zh-CN     1\n",
       "Name: language, dtype: int64"
      ]
     },
     "execution_count": 11,
     "metadata": {},
     "output_type": "execute_result"
    }
   ],
   "source": [
    "df[\"language\"].value_counts()"
   ]
  },
  {
   "cell_type": "code",
   "execution_count": 12,
   "metadata": {},
   "outputs": [
    {
     "data": {
      "text/plain": [
       "en    89\n",
       "am    12\n",
       "Name: language, dtype: int64"
      ]
     },
     "execution_count": 12,
     "metadata": {},
     "output_type": "execute_result"
    }
   ],
   "source": [
    "df = df[df[\"language\"] != \"zh-CN\"]\n",
    "df[\"language\"].value_counts()"
   ]
  },
  {
   "cell_type": "markdown",
   "metadata": {},
   "source": [
    "## Map image column to categorical data"
   ]
  },
  {
   "cell_type": "code",
   "execution_count": 13,
   "metadata": {},
   "outputs": [
    {
     "data": {
      "text/plain": [
       "129    has_image\n",
       "447     no_image\n",
       "415    has_image\n",
       "525     no_image\n",
       "100     no_image\n",
       "Name: image, dtype: object"
      ]
     },
     "execution_count": 13,
     "metadata": {},
     "output_type": "execute_result"
    }
   ],
   "source": [
    "df[\"image\"] = df[\"image\"].apply(lambda image: \"no_image\" if pd.isnull(image) else \"has_image\")\n",
    "df[\"image\"].sample(5)"
   ]
  },
  {
   "cell_type": "code",
   "execution_count": 14,
   "metadata": {},
   "outputs": [
    {
     "data": {
      "text/plain": [
       "no_image     53\n",
       "has_image    48\n",
       "Name: image, dtype: int64"
      ]
     },
     "execution_count": 14,
     "metadata": {},
     "output_type": "execute_result"
    }
   ],
   "source": [
    "df[\"image\"].value_counts()"
   ]
  },
  {
   "cell_type": "markdown",
   "metadata": {},
   "source": [
    "## Map link column to categorical data"
   ]
  },
  {
   "cell_type": "code",
   "execution_count": 15,
   "metadata": {},
   "outputs": [
    {
     "data": {
      "text/plain": [
       "322     no_link\n",
       "34     has_link\n",
       "392     no_link\n",
       "416     no_link\n",
       "394     no_link\n",
       "Name: link, dtype: object"
      ]
     },
     "execution_count": 15,
     "metadata": {},
     "output_type": "execute_result"
    }
   ],
   "source": [
    "df[\"link\"] = df[\"link\"].apply(lambda link: \"no_link\" if pd.isnull(link) else \"has_link\")\n",
    "df[\"link\"].sample(5)"
   ]
  },
  {
   "cell_type": "code",
   "execution_count": 16,
   "metadata": {},
   "outputs": [
    {
     "data": {
      "text/plain": [
       "has_link    64\n",
       "no_link     37\n",
       "Name: link, dtype: int64"
      ]
     },
     "execution_count": 16,
     "metadata": {},
     "output_type": "execute_result"
    }
   ],
   "source": [
    "df[\"link\"].value_counts()"
   ]
  },
  {
   "cell_type": "markdown",
   "metadata": {},
   "source": [
    "## Map time column to categorical data"
   ]
  },
  {
   "cell_type": "code",
   "execution_count": 17,
   "metadata": {},
   "outputs": [
    {
     "data": {
      "text/plain": [
       "44     15\n",
       "209    18\n",
       "131    14\n",
       "91     13\n",
       "515    12\n",
       "Name: time, dtype: int64"
      ]
     },
     "execution_count": 17,
     "metadata": {},
     "output_type": "execute_result"
    }
   ],
   "source": [
    "df = df[df[\"time\"] != \" let’s use it responsibly to bring change to our children at risk.\"]\n",
    "df[\"time\"] = df[\"time\"].apply(lambda time: pd.to_datetime(time).hour)\n",
    "df[\"time\"].sample(5)"
   ]
  },
  {
   "cell_type": "code",
   "execution_count": 18,
   "metadata": {},
   "outputs": [
    {
     "data": {
      "text/plain": [
       "101        Eve\n",
       "151        Eve\n",
       "514      Night\n",
       "397    Morning\n",
       "56         Eve\n",
       "Name: time, dtype: object"
      ]
     },
     "execution_count": 18,
     "metadata": {},
     "output_type": "execute_result"
    }
   ],
   "source": [
    "bins = [0, 4, 8, 12, 16, 20, 24]\n",
    "labels = [\"Late Night\", \"Early Morning\", \"Morning\", \"Noon\", \"Eve\", \"Night\"]\n",
    "df[\"time\"] = pd.cut(df[\"time\"], bins=bins, labels=labels, include_lowest=True)\n",
    "df[\"time\"] = df[\"time\"].astype(object)\n",
    "df[\"time\"].sample(5)"
   ]
  },
  {
   "cell_type": "markdown",
   "metadata": {},
   "source": [
    "## Labelling"
   ]
  },
  {
   "cell_type": "code",
   "execution_count": 19,
   "metadata": {},
   "outputs": [
    {
     "data": {
      "text/plain": [
       "Index(['post_id', 'text', 'post_text', 'shared_text', 'time', 'image', 'video',\n",
       "       'video_thumbnail', 'video_id', 'likes', 'comments', 'shares',\n",
       "       'post_url', 'link', 'user_id', 'images', 'keyword_group_count',\n",
       "       'content_size', 'language'],\n",
       "      dtype='object')"
      ]
     },
     "execution_count": 19,
     "metadata": {},
     "output_type": "execute_result"
    }
   ],
   "source": [
    "df.columns"
   ]
  },
  {
   "cell_type": "code",
   "execution_count": 20,
   "metadata": {},
   "outputs": [
    {
     "data": {
      "text/html": [
       "<div>\n",
       "<style scoped>\n",
       "    .dataframe tbody tr th:only-of-type {\n",
       "        vertical-align: middle;\n",
       "    }\n",
       "\n",
       "    .dataframe tbody tr th {\n",
       "        vertical-align: top;\n",
       "    }\n",
       "\n",
       "    .dataframe thead th {\n",
       "        text-align: right;\n",
       "    }\n",
       "</style>\n",
       "<table border=\"1\" class=\"dataframe\">\n",
       "  <thead>\n",
       "    <tr style=\"text-align: right;\">\n",
       "      <th></th>\n",
       "      <th>likes</th>\n",
       "      <th>comments</th>\n",
       "      <th>shares</th>\n",
       "    </tr>\n",
       "    <tr>\n",
       "      <th>image</th>\n",
       "      <th></th>\n",
       "      <th></th>\n",
       "      <th></th>\n",
       "    </tr>\n",
       "  </thead>\n",
       "  <tbody>\n",
       "    <tr>\n",
       "      <th>has_image</th>\n",
       "      <td>18.458333</td>\n",
       "      <td>0.729167</td>\n",
       "      <td>0.041667</td>\n",
       "    </tr>\n",
       "    <tr>\n",
       "      <th>no_image</th>\n",
       "      <td>166.711538</td>\n",
       "      <td>1.788462</td>\n",
       "      <td>5.480769</td>\n",
       "    </tr>\n",
       "  </tbody>\n",
       "</table>\n",
       "</div>"
      ],
      "text/plain": [
       "                likes  comments    shares\n",
       "image                                    \n",
       "has_image   18.458333  0.729167  0.041667\n",
       "no_image   166.711538  1.788462  5.480769"
      ]
     },
     "execution_count": 20,
     "metadata": {},
     "output_type": "execute_result"
    }
   ],
   "source": [
    "df.groupby(\"image\")[['likes', 'comments', 'shares']].mean()"
   ]
  },
  {
   "cell_type": "code",
   "execution_count": 21,
   "metadata": {},
   "outputs": [
    {
     "data": {
      "text/html": [
       "<div>\n",
       "<style scoped>\n",
       "    .dataframe tbody tr th:only-of-type {\n",
       "        vertical-align: middle;\n",
       "    }\n",
       "\n",
       "    .dataframe tbody tr th {\n",
       "        vertical-align: top;\n",
       "    }\n",
       "\n",
       "    .dataframe thead th {\n",
       "        text-align: right;\n",
       "    }\n",
       "</style>\n",
       "<table border=\"1\" class=\"dataframe\">\n",
       "  <thead>\n",
       "    <tr style=\"text-align: right;\">\n",
       "      <th></th>\n",
       "      <th>likes</th>\n",
       "      <th>comments</th>\n",
       "      <th>shares</th>\n",
       "    </tr>\n",
       "    <tr>\n",
       "      <th>link</th>\n",
       "      <th></th>\n",
       "      <th></th>\n",
       "      <th></th>\n",
       "    </tr>\n",
       "  </thead>\n",
       "  <tbody>\n",
       "    <tr>\n",
       "      <th>has_link</th>\n",
       "      <td>135.031746</td>\n",
       "      <td>1.000000</td>\n",
       "      <td>3.761905</td>\n",
       "    </tr>\n",
       "    <tr>\n",
       "      <th>no_link</th>\n",
       "      <td>28.324324</td>\n",
       "      <td>1.756757</td>\n",
       "      <td>1.351351</td>\n",
       "    </tr>\n",
       "  </tbody>\n",
       "</table>\n",
       "</div>"
      ],
      "text/plain": [
       "               likes  comments    shares\n",
       "link                                    \n",
       "has_link  135.031746  1.000000  3.761905\n",
       "no_link    28.324324  1.756757  1.351351"
      ]
     },
     "execution_count": 21,
     "metadata": {},
     "output_type": "execute_result"
    }
   ],
   "source": [
    "df.groupby(\"link\")[['likes', 'comments', 'shares']].mean()"
   ]
  },
  {
   "cell_type": "code",
   "execution_count": 22,
   "metadata": {},
   "outputs": [
    {
     "data": {
      "text/html": [
       "<div>\n",
       "<style scoped>\n",
       "    .dataframe tbody tr th:only-of-type {\n",
       "        vertical-align: middle;\n",
       "    }\n",
       "\n",
       "    .dataframe tbody tr th {\n",
       "        vertical-align: top;\n",
       "    }\n",
       "\n",
       "    .dataframe thead th {\n",
       "        text-align: right;\n",
       "    }\n",
       "</style>\n",
       "<table border=\"1\" class=\"dataframe\">\n",
       "  <thead>\n",
       "    <tr style=\"text-align: right;\">\n",
       "      <th></th>\n",
       "      <th>post_id</th>\n",
       "      <th>text</th>\n",
       "      <th>post_text</th>\n",
       "      <th>shared_text</th>\n",
       "      <th>time</th>\n",
       "      <th>image</th>\n",
       "      <th>video</th>\n",
       "      <th>video_thumbnail</th>\n",
       "      <th>video_id</th>\n",
       "      <th>likes</th>\n",
       "      <th>comments</th>\n",
       "      <th>shares</th>\n",
       "      <th>post_url</th>\n",
       "      <th>link</th>\n",
       "      <th>user_id</th>\n",
       "      <th>images</th>\n",
       "      <th>keyword_group_count</th>\n",
       "      <th>content_size</th>\n",
       "      <th>language</th>\n",
       "      <th>label</th>\n",
       "    </tr>\n",
       "  </thead>\n",
       "  <tbody>\n",
       "    <tr>\n",
       "      <th>3</th>\n",
       "      <td>4.178431e+15</td>\n",
       "      <td>Evidence of the #health system challenges to p...</td>\n",
       "      <td>Evidence of the #health system challenges to p...</td>\n",
       "      <td>NaN</td>\n",
       "      <td>Noon</td>\n",
       "      <td>has_image</td>\n",
       "      <td>NaN</td>\n",
       "      <td>NaN</td>\n",
       "      <td>NaN</td>\n",
       "      <td>-0.175489</td>\n",
       "      <td>-0.373589</td>\n",
       "      <td>-0.303355</td>\n",
       "      <td>NaN</td>\n",
       "      <td>has_link</td>\n",
       "      <td>126697227387539</td>\n",
       "      <td>['https://scontent.fadd1-1.fna.fbcdn.net/v/t1....</td>\n",
       "      <td>2</td>\n",
       "      <td>short</td>\n",
       "      <td>en</td>\n",
       "      <td>0</td>\n",
       "    </tr>\n",
       "    <tr>\n",
       "      <th>7</th>\n",
       "      <td>4.165486e+15</td>\n",
       "      <td>Unwanted pregnancy and unsafe #abortion contri...</td>\n",
       "      <td>Unwanted pregnancy and unsafe #abortion contri...</td>\n",
       "      <td>NaN</td>\n",
       "      <td>Noon</td>\n",
       "      <td>has_image</td>\n",
       "      <td>NaN</td>\n",
       "      <td>NaN</td>\n",
       "      <td>NaN</td>\n",
       "      <td>-0.175489</td>\n",
       "      <td>-0.373589</td>\n",
       "      <td>-0.303355</td>\n",
       "      <td>NaN</td>\n",
       "      <td>has_link</td>\n",
       "      <td>126697227387539</td>\n",
       "      <td>['https://scontent.fadd1-1.fna.fbcdn.net/v/t1....</td>\n",
       "      <td>2</td>\n",
       "      <td>short</td>\n",
       "      <td>en</td>\n",
       "      <td>0</td>\n",
       "    </tr>\n",
       "    <tr>\n",
       "      <th>19</th>\n",
       "      <td>4.110924e+15</td>\n",
       "      <td>The handbook challenges readers to consider #m...</td>\n",
       "      <td>The handbook challenges readers to consider #m...</td>\n",
       "      <td>NaN</td>\n",
       "      <td>Eve</td>\n",
       "      <td>has_image</td>\n",
       "      <td>NaN</td>\n",
       "      <td>NaN</td>\n",
       "      <td>NaN</td>\n",
       "      <td>-0.175489</td>\n",
       "      <td>-0.081723</td>\n",
       "      <td>-0.303355</td>\n",
       "      <td>NaN</td>\n",
       "      <td>has_link</td>\n",
       "      <td>126697227387539</td>\n",
       "      <td>['https://scontent.fadd1-1.fna.fbcdn.net/v/t1....</td>\n",
       "      <td>2</td>\n",
       "      <td>short</td>\n",
       "      <td>en</td>\n",
       "      <td>0</td>\n",
       "    </tr>\n",
       "    <tr>\n",
       "      <th>21</th>\n",
       "      <td>4.107126e+15</td>\n",
       "      <td>This article focuses on barriers #women face a...</td>\n",
       "      <td>This article focuses on barriers #women face a...</td>\n",
       "      <td>NaN</td>\n",
       "      <td>Morning</td>\n",
       "      <td>has_image</td>\n",
       "      <td>NaN</td>\n",
       "      <td>NaN</td>\n",
       "      <td>NaN</td>\n",
       "      <td>-0.175489</td>\n",
       "      <td>-0.373589</td>\n",
       "      <td>-0.303355</td>\n",
       "      <td>NaN</td>\n",
       "      <td>has_link</td>\n",
       "      <td>126697227387539</td>\n",
       "      <td>['https://scontent.fadd1-1.fna.fbcdn.net/v/t1....</td>\n",
       "      <td>2</td>\n",
       "      <td>short</td>\n",
       "      <td>en</td>\n",
       "      <td>0</td>\n",
       "    </tr>\n",
       "    <tr>\n",
       "      <th>34</th>\n",
       "      <td>4.071571e+15</td>\n",
       "      <td>New commentary now online: Comprehensive sexua...</td>\n",
       "      <td>New commentary now online: Comprehensive sexua...</td>\n",
       "      <td>NaN</td>\n",
       "      <td>Morning</td>\n",
       "      <td>has_image</td>\n",
       "      <td>NaN</td>\n",
       "      <td>NaN</td>\n",
       "      <td>NaN</td>\n",
       "      <td>-0.179281</td>\n",
       "      <td>-0.373589</td>\n",
       "      <td>-0.303355</td>\n",
       "      <td>NaN</td>\n",
       "      <td>has_link</td>\n",
       "      <td>126697227387539</td>\n",
       "      <td>['https://scontent.fadd1-1.fna.fbcdn.net/v/t1....</td>\n",
       "      <td>3</td>\n",
       "      <td>short</td>\n",
       "      <td>en</td>\n",
       "      <td>0</td>\n",
       "    </tr>\n",
       "  </tbody>\n",
       "</table>\n",
       "</div>"
      ],
      "text/plain": [
       "         post_id                                               text  \\\n",
       "3   4.178431e+15  Evidence of the #health system challenges to p...   \n",
       "7   4.165486e+15  Unwanted pregnancy and unsafe #abortion contri...   \n",
       "19  4.110924e+15  The handbook challenges readers to consider #m...   \n",
       "21  4.107126e+15  This article focuses on barriers #women face a...   \n",
       "34  4.071571e+15  New commentary now online: Comprehensive sexua...   \n",
       "\n",
       "                                            post_text shared_text     time  \\\n",
       "3   Evidence of the #health system challenges to p...         NaN     Noon   \n",
       "7   Unwanted pregnancy and unsafe #abortion contri...         NaN     Noon   \n",
       "19  The handbook challenges readers to consider #m...         NaN      Eve   \n",
       "21  This article focuses on barriers #women face a...         NaN  Morning   \n",
       "34  New commentary now online: Comprehensive sexua...         NaN  Morning   \n",
       "\n",
       "        image video video_thumbnail  video_id     likes  comments    shares  \\\n",
       "3   has_image   NaN             NaN       NaN -0.175489 -0.373589 -0.303355   \n",
       "7   has_image   NaN             NaN       NaN -0.175489 -0.373589 -0.303355   \n",
       "19  has_image   NaN             NaN       NaN -0.175489 -0.081723 -0.303355   \n",
       "21  has_image   NaN             NaN       NaN -0.175489 -0.373589 -0.303355   \n",
       "34  has_image   NaN             NaN       NaN -0.179281 -0.373589 -0.303355   \n",
       "\n",
       "   post_url      link          user_id  \\\n",
       "3       NaN  has_link  126697227387539   \n",
       "7       NaN  has_link  126697227387539   \n",
       "19      NaN  has_link  126697227387539   \n",
       "21      NaN  has_link  126697227387539   \n",
       "34      NaN  has_link  126697227387539   \n",
       "\n",
       "                                               images  keyword_group_count  \\\n",
       "3   ['https://scontent.fadd1-1.fna.fbcdn.net/v/t1....                    2   \n",
       "7   ['https://scontent.fadd1-1.fna.fbcdn.net/v/t1....                    2   \n",
       "19  ['https://scontent.fadd1-1.fna.fbcdn.net/v/t1....                    2   \n",
       "21  ['https://scontent.fadd1-1.fna.fbcdn.net/v/t1....                    2   \n",
       "34  ['https://scontent.fadd1-1.fna.fbcdn.net/v/t1....                    3   \n",
       "\n",
       "   content_size language  label  \n",
       "3         short       en      0  \n",
       "7         short       en      0  \n",
       "19        short       en      0  \n",
       "21        short       en      0  \n",
       "34        short       en      0  "
      ]
     },
     "execution_count": 22,
     "metadata": {},
     "output_type": "execute_result"
    }
   ],
   "source": [
    "# label the posts based on the mean of comments, likes, and shares\n",
    "df[\"comments\"] = df[\"comments\"].apply(lambda x: (x - df[\"comments\"].mean())/df[\"comments\"].std())\n",
    "df[\"likes\"] = df[\"likes\"].apply(lambda x: (x - df[\"likes\"].mean())/df[\"likes\"].std())\n",
    "df[\"shares\"] = df[\"shares\"].apply(lambda x: (x - df[\"shares\"].mean())/df[\"shares\"].std())\n",
    "\n",
    "df[\"label\"] = df[[\"comments\", \"likes\", \"shares\"]].mean(axis=1)\n",
    "df[\"label\"] = df[\"label\"].apply(lambda x: 1 if x >= df[\"label\"].mean() else 0)\n",
    "\n",
    "df.head()"
   ]
  },
  {
   "cell_type": "code",
   "execution_count": 23,
   "metadata": {},
   "outputs": [
    {
     "data": {
      "text/plain": [
       "0    80\n",
       "1    20\n",
       "Name: label, dtype: int64"
      ]
     },
     "execution_count": 23,
     "metadata": {},
     "output_type": "execute_result"
    }
   ],
   "source": [
    "df[\"label\"].value_counts()"
   ]
  },
  {
   "cell_type": "markdown",
   "metadata": {},
   "source": [
    "## Save the cleaned dataframe"
   ]
  },
  {
   "cell_type": "code",
   "execution_count": 24,
   "metadata": {},
   "outputs": [
    {
     "data": {
      "text/plain": [
       "Index(['post_id', 'text', 'post_text', 'shared_text', 'time', 'image', 'video',\n",
       "       'video_thumbnail', 'video_id', 'likes', 'comments', 'shares',\n",
       "       'post_url', 'link', 'user_id', 'images', 'keyword_group_count',\n",
       "       'content_size', 'language', 'label'],\n",
       "      dtype='object')"
      ]
     },
     "execution_count": 24,
     "metadata": {},
     "output_type": "execute_result"
    }
   ],
   "source": [
    "df.columns"
   ]
  },
  {
   "cell_type": "code",
   "execution_count": 25,
   "metadata": {},
   "outputs": [
    {
     "data": {
      "text/html": [
       "<div>\n",
       "<style scoped>\n",
       "    .dataframe tbody tr th:only-of-type {\n",
       "        vertical-align: middle;\n",
       "    }\n",
       "\n",
       "    .dataframe tbody tr th {\n",
       "        vertical-align: top;\n",
       "    }\n",
       "\n",
       "    .dataframe thead th {\n",
       "        text-align: right;\n",
       "    }\n",
       "</style>\n",
       "<table border=\"1\" class=\"dataframe\">\n",
       "  <thead>\n",
       "    <tr style=\"text-align: right;\">\n",
       "      <th></th>\n",
       "      <th>text</th>\n",
       "      <th>content_size</th>\n",
       "      <th>image</th>\n",
       "      <th>link</th>\n",
       "      <th>language</th>\n",
       "      <th>time</th>\n",
       "      <th>label</th>\n",
       "    </tr>\n",
       "  </thead>\n",
       "  <tbody>\n",
       "    <tr>\n",
       "      <th>3</th>\n",
       "      <td>Evidence of the #health system challenges to p...</td>\n",
       "      <td>short</td>\n",
       "      <td>has_image</td>\n",
       "      <td>has_link</td>\n",
       "      <td>en</td>\n",
       "      <td>Noon</td>\n",
       "      <td>0</td>\n",
       "    </tr>\n",
       "    <tr>\n",
       "      <th>7</th>\n",
       "      <td>Unwanted pregnancy and unsafe #abortion contri...</td>\n",
       "      <td>short</td>\n",
       "      <td>has_image</td>\n",
       "      <td>has_link</td>\n",
       "      <td>en</td>\n",
       "      <td>Noon</td>\n",
       "      <td>0</td>\n",
       "    </tr>\n",
       "    <tr>\n",
       "      <th>19</th>\n",
       "      <td>The handbook challenges readers to consider #m...</td>\n",
       "      <td>short</td>\n",
       "      <td>has_image</td>\n",
       "      <td>has_link</td>\n",
       "      <td>en</td>\n",
       "      <td>Eve</td>\n",
       "      <td>0</td>\n",
       "    </tr>\n",
       "    <tr>\n",
       "      <th>21</th>\n",
       "      <td>This article focuses on barriers #women face a...</td>\n",
       "      <td>short</td>\n",
       "      <td>has_image</td>\n",
       "      <td>has_link</td>\n",
       "      <td>en</td>\n",
       "      <td>Morning</td>\n",
       "      <td>0</td>\n",
       "    </tr>\n",
       "    <tr>\n",
       "      <th>34</th>\n",
       "      <td>New commentary now online: Comprehensive sexua...</td>\n",
       "      <td>short</td>\n",
       "      <td>has_image</td>\n",
       "      <td>has_link</td>\n",
       "      <td>en</td>\n",
       "      <td>Morning</td>\n",
       "      <td>0</td>\n",
       "    </tr>\n",
       "  </tbody>\n",
       "</table>\n",
       "</div>"
      ],
      "text/plain": [
       "                                                 text content_size      image  \\\n",
       "3   Evidence of the #health system challenges to p...        short  has_image   \n",
       "7   Unwanted pregnancy and unsafe #abortion contri...        short  has_image   \n",
       "19  The handbook challenges readers to consider #m...        short  has_image   \n",
       "21  This article focuses on barriers #women face a...        short  has_image   \n",
       "34  New commentary now online: Comprehensive sexua...        short  has_image   \n",
       "\n",
       "        link language     time  label  \n",
       "3   has_link       en     Noon      0  \n",
       "7   has_link       en     Noon      0  \n",
       "19  has_link       en      Eve      0  \n",
       "21  has_link       en  Morning      0  \n",
       "34  has_link       en  Morning      0  "
      ]
     },
     "execution_count": 25,
     "metadata": {},
     "output_type": "execute_result"
    }
   ],
   "source": [
    "df = df[[\"text\", \"content_size\", \"image\", \"link\", \"language\", \"time\", \"label\"]]\n",
    "df.head()"
   ]
  },
  {
   "cell_type": "code",
   "execution_count": 26,
   "metadata": {},
   "outputs": [],
   "source": [
    "df.to_csv('../data/cleaned_fb_posts.csv')"
   ]
  },
  {
   "cell_type": "code",
   "execution_count": 2,
   "metadata": {},
   "outputs": [
    {
     "data": {
      "text/html": [
       "<div>\n",
       "<style scoped>\n",
       "    .dataframe tbody tr th:only-of-type {\n",
       "        vertical-align: middle;\n",
       "    }\n",
       "\n",
       "    .dataframe tbody tr th {\n",
       "        vertical-align: top;\n",
       "    }\n",
       "\n",
       "    .dataframe thead th {\n",
       "        text-align: right;\n",
       "    }\n",
       "</style>\n",
       "<table border=\"1\" class=\"dataframe\">\n",
       "  <thead>\n",
       "    <tr style=\"text-align: right;\">\n",
       "      <th></th>\n",
       "      <th>text</th>\n",
       "      <th>content_size</th>\n",
       "      <th>image</th>\n",
       "      <th>link</th>\n",
       "      <th>language</th>\n",
       "      <th>time</th>\n",
       "      <th>label</th>\n",
       "    </tr>\n",
       "  </thead>\n",
       "  <tbody>\n",
       "    <tr>\n",
       "      <th>3</th>\n",
       "      <td>Evidence of the #health system challenges to p...</td>\n",
       "      <td>short</td>\n",
       "      <td>has_image</td>\n",
       "      <td>has_link</td>\n",
       "      <td>en</td>\n",
       "      <td>Noon</td>\n",
       "      <td>0</td>\n",
       "    </tr>\n",
       "    <tr>\n",
       "      <th>7</th>\n",
       "      <td>Unwanted pregnancy and unsafe #abortion contri...</td>\n",
       "      <td>short</td>\n",
       "      <td>has_image</td>\n",
       "      <td>has_link</td>\n",
       "      <td>en</td>\n",
       "      <td>Noon</td>\n",
       "      <td>0</td>\n",
       "    </tr>\n",
       "    <tr>\n",
       "      <th>19</th>\n",
       "      <td>The handbook challenges readers to consider #m...</td>\n",
       "      <td>short</td>\n",
       "      <td>has_image</td>\n",
       "      <td>has_link</td>\n",
       "      <td>en</td>\n",
       "      <td>Eve</td>\n",
       "      <td>0</td>\n",
       "    </tr>\n",
       "    <tr>\n",
       "      <th>21</th>\n",
       "      <td>This article focuses on barriers #women face a...</td>\n",
       "      <td>short</td>\n",
       "      <td>has_image</td>\n",
       "      <td>has_link</td>\n",
       "      <td>en</td>\n",
       "      <td>Morning</td>\n",
       "      <td>0</td>\n",
       "    </tr>\n",
       "    <tr>\n",
       "      <th>34</th>\n",
       "      <td>New commentary now online: Comprehensive sexua...</td>\n",
       "      <td>short</td>\n",
       "      <td>has_image</td>\n",
       "      <td>has_link</td>\n",
       "      <td>en</td>\n",
       "      <td>Morning</td>\n",
       "      <td>0</td>\n",
       "    </tr>\n",
       "  </tbody>\n",
       "</table>\n",
       "</div>"
      ],
      "text/plain": [
       "                                                 text content_size      image  \\\n",
       "3   Evidence of the #health system challenges to p...        short  has_image   \n",
       "7   Unwanted pregnancy and unsafe #abortion contri...        short  has_image   \n",
       "19  The handbook challenges readers to consider #m...        short  has_image   \n",
       "21  This article focuses on barriers #women face a...        short  has_image   \n",
       "34  New commentary now online: Comprehensive sexua...        short  has_image   \n",
       "\n",
       "        link language     time  label  \n",
       "3   has_link       en     Noon      0  \n",
       "7   has_link       en     Noon      0  \n",
       "19  has_link       en      Eve      0  \n",
       "21  has_link       en  Morning      0  \n",
       "34  has_link       en  Morning      0  "
      ]
     },
     "execution_count": 2,
     "metadata": {},
     "output_type": "execute_result"
    }
   ],
   "source": [
    "df = pd.read_csv('../data/cleaned_fb_posts.csv', index_col=0)\n",
    "df.head()"
   ]
  },
  {
   "cell_type": "markdown",
   "metadata": {},
   "source": [
    "# Part - 3: SRH WOE and IV Analysis"
   ]
  },
  {
   "cell_type": "markdown",
   "metadata": {},
   "source": [
    "## SRH dataframe"
   ]
  },
  {
   "cell_type": "code",
   "execution_count": 3,
   "metadata": {},
   "outputs": [
    {
     "data": {
      "text/plain": [
       "(82, 7)"
      ]
     },
     "execution_count": 3,
     "metadata": {},
     "output_type": "execute_result"
    }
   ],
   "source": [
    "# extract SRH dataframe\n",
    "def extract_sub_topics(txt, sub_topics):\n",
    "    for sub_topic in sub_topics:\n",
    "        if sub_topic.lower() in txt.lower():\n",
    "            return True\n",
    "    return False\n",
    "\n",
    "SRH_sub_topics = [\"Sexual health\", \"Reproductive health\", \"sex\", \"family planning\", \"condom\", \"HIV/AIDS\", \n",
    "                  \"STIs\", \"HCT\", \"Abortion\", \"Cervical cancer\", \"Menstrual cycle\", \n",
    "                  \"fertility\", \"pubertal changes\", \"Post Pill\", \"contraception\", \n",
    "                  \"ወሲባዊ ጤና\", \"ተዋልዶ ጤና\", \"ወሲብ\", \"የቤተሰብ ምጣኔ\", \"ኮንዶም\", \"ኤች.አይ.ቪ / ኤድስ\", \n",
    "                  \"የአባለዘር በሽታዎች\", \"ኤች.ቲ.ቲ.\", \"ፅንስ ማስወረድ\", \"የማኅጸን ጫፍ ካንሰር\", \"የወር አበባ\", \n",
    "                  \"የመራባት ችሎታ\", \"የጉርምስና ለውጦች\", \"ፖስት ክኒን\", \"የእርግዝና መከላከያ\"]\n",
    "\n",
    "SRH_df = df[df[\"text\"].apply(lambda txt: extract_sub_topics(txt, SRH_sub_topics))]\n",
    "SRH_df.shape"
   ]
  },
  {
   "cell_type": "markdown",
   "metadata": {},
   "source": [
    "## Convert features to bins"
   ]
  },
  {
   "cell_type": "code",
   "execution_count": 4,
   "metadata": {},
   "outputs": [],
   "source": [
    "SRH_feats_dict = {}\n",
    "for col in [c for c in SRH_df.columns if (c != \"label\" and c != \"text\")]:\n",
    "    SRH_feats_dict[col] = CategoricalFeature(SRH_df, col)\n",
    "\n",
    "SRH_feats = list(SRH_feats_dict.values())"
   ]
  },
  {
   "cell_type": "markdown",
   "metadata": {},
   "source": [
    "## Information value analysis"
   ]
  },
  {
   "cell_type": "code",
   "execution_count": 5,
   "metadata": {},
   "outputs": [],
   "source": [
    "SRH_iv = IV()\n",
    "SRH_ss = StatsSignificance()\n",
    "SRH_ar = AttributeRelevance()"
   ]
  },
  {
   "cell_type": "code",
   "execution_count": 6,
   "metadata": {},
   "outputs": [
    {
     "name": "stderr",
     "output_type": "stream",
     "text": [
      "/home/yony/anaconda3/lib/python3.7/site-packages/pandas/core/arraylike.py:358: RuntimeWarning: divide by zero encountered in log\n",
      "  result = getattr(ufunc, method)(*inputs, **kwargs)\n"
     ]
    },
    {
     "data": {
      "text/html": [
       "<div>\n",
       "<style scoped>\n",
       "    .dataframe tbody tr th:only-of-type {\n",
       "        vertical-align: middle;\n",
       "    }\n",
       "\n",
       "    .dataframe tbody tr th {\n",
       "        vertical-align: top;\n",
       "    }\n",
       "\n",
       "    .dataframe thead th {\n",
       "        text-align: right;\n",
       "    }\n",
       "</style>\n",
       "<table border=\"1\" class=\"dataframe\">\n",
       "  <thead>\n",
       "    <tr style=\"text-align: right;\">\n",
       "      <th></th>\n",
       "      <th>iv</th>\n",
       "      <th>iv_interpretation</th>\n",
       "    </tr>\n",
       "  </thead>\n",
       "  <tbody>\n",
       "    <tr>\n",
       "      <th>image</th>\n",
       "      <td>1.403775</td>\n",
       "      <td>suspicious</td>\n",
       "    </tr>\n",
       "    <tr>\n",
       "      <th>content_size</th>\n",
       "      <td>0.587379</td>\n",
       "      <td>suspicious</td>\n",
       "    </tr>\n",
       "    <tr>\n",
       "      <th>time</th>\n",
       "      <td>0.347486</td>\n",
       "      <td>strong</td>\n",
       "    </tr>\n",
       "    <tr>\n",
       "      <th>link</th>\n",
       "      <td>0.003933</td>\n",
       "      <td>useless</td>\n",
       "    </tr>\n",
       "    <tr>\n",
       "      <th>language</th>\n",
       "      <td>0.002181</td>\n",
       "      <td>useless</td>\n",
       "    </tr>\n",
       "  </tbody>\n",
       "</table>\n",
       "</div>"
      ],
      "text/plain": [
       "                    iv iv_interpretation\n",
       "image         1.403775        suspicious\n",
       "content_size  0.587379        suspicious\n",
       "time          0.347486            strong\n",
       "link          0.003933           useless\n",
       "language      0.002181           useless"
      ]
     },
     "execution_count": 6,
     "metadata": {},
     "output_type": "execute_result"
    }
   ],
   "source": [
    "SRH_iv_df = SRH_ar.analyze(SRH_feats, SRH_iv, interpretation=True)\n",
    "SRH_iv_df.to_csv('../data/SRH_iv_data.csv')\n",
    "SRH_iv_df"
   ]
  },
  {
   "cell_type": "code",
   "execution_count": 7,
   "metadata": {},
   "outputs": [
    {
     "name": "stderr",
     "output_type": "stream",
     "text": [
      "/home/yony/anaconda3/lib/python3.7/site-packages/pandas/core/arraylike.py:358: RuntimeWarning: divide by zero encountered in log\n",
      "  result = getattr(ufunc, method)(*inputs, **kwargs)\n"
     ]
    },
    {
     "data": {
      "image/png": "[encoded data removed]",
      "text/plain": [
       "<Figure size 720x432 with 1 Axes>"
      ]
     },
     "metadata": {
      "needs_background": "light"
     },
     "output_type": "display_data"
    }
   ],
   "source": [
    "SRH_ar.draw_iv(SRH_feats, SRH_iv)"
   ]
  },
  {
   "cell_type": "markdown",
   "metadata": {},
   "source": [
    "## Weight of evidence analysis"
   ]
  },
  {
   "cell_type": "code",
   "execution_count": 8,
   "metadata": {},
   "outputs": [
    {
     "name": "stderr",
     "output_type": "stream",
     "text": [
      "/home/yony/anaconda3/lib/python3.7/site-packages/pandas/core/arraylike.py:358: RuntimeWarning: divide by zero encountered in log\n",
      "  result = getattr(ufunc, method)(*inputs, **kwargs)\n"
     ]
    }
   ],
   "source": [
    "# calculating information values\n",
    "(SRH_content_size_iv_df, SRH_content_size_iv_value) = SRH_iv.calculate_iv(SRH_feats[0])\n",
    "(SRH_image_iv_df, SRH_image_iv_value) = SRH_iv.calculate_iv(SRH_feats[1])\n",
    "(SRH_link_iv_df, SRH_link_iv_value) = SRH_iv.calculate_iv(SRH_feats[2])\n",
    "(SRH_language_iv_df, SRH_language_iv_value) = SRH_iv.calculate_iv(SRH_feats[3])\n",
    "(SRH_time_iv_df, SRH_time_iv_value) = SRH_iv.calculate_iv(SRH_feats[4])"
   ]
  },
  {
   "cell_type": "code",
   "execution_count": 9,
   "metadata": {},
   "outputs": [
    {
     "data": {
      "text/html": [
       "<div>\n",
       "<style scoped>\n",
       "    .dataframe tbody tr th:only-of-type {\n",
       "        vertical-align: middle;\n",
       "    }\n",
       "\n",
       "    .dataframe tbody tr th {\n",
       "        vertical-align: top;\n",
       "    }\n",
       "\n",
       "    .dataframe thead th {\n",
       "        text-align: right;\n",
       "    }\n",
       "</style>\n",
       "<table border=\"1\" class=\"dataframe\">\n",
       "  <thead>\n",
       "    <tr style=\"text-align: right;\">\n",
       "      <th></th>\n",
       "      <th>contents</th>\n",
       "      <th>count</th>\n",
       "      <th>good</th>\n",
       "      <th>bad</th>\n",
       "      <th>perc_good</th>\n",
       "      <th>perc_bad</th>\n",
       "      <th>perc_diff</th>\n",
       "      <th>woe</th>\n",
       "      <th>iv</th>\n",
       "      <th>features</th>\n",
       "    </tr>\n",
       "  </thead>\n",
       "  <tbody>\n",
       "    <tr>\n",
       "      <th>0</th>\n",
       "      <td>Early Morning</td>\n",
       "      <td>8</td>\n",
       "      <td>4</td>\n",
       "      <td>4</td>\n",
       "      <td>0.235294</td>\n",
       "      <td>0.061538</td>\n",
       "      <td>0.173756</td>\n",
       "      <td>1.341174</td>\n",
       "      <td>0.233037</td>\n",
       "      <td>time</td>\n",
       "    </tr>\n",
       "    <tr>\n",
       "      <th>1</th>\n",
       "      <td>Eve</td>\n",
       "      <td>23</td>\n",
       "      <td>3</td>\n",
       "      <td>20</td>\n",
       "      <td>0.176471</td>\n",
       "      <td>0.307692</td>\n",
       "      <td>-0.131222</td>\n",
       "      <td>-0.555946</td>\n",
       "      <td>0.072952</td>\n",
       "      <td>time</td>\n",
       "    </tr>\n",
       "    <tr>\n",
       "      <th>2</th>\n",
       "      <td>Late Night</td>\n",
       "      <td>8</td>\n",
       "      <td>2</td>\n",
       "      <td>6</td>\n",
       "      <td>0.117647</td>\n",
       "      <td>0.092308</td>\n",
       "      <td>0.025339</td>\n",
       "      <td>0.242562</td>\n",
       "      <td>0.006146</td>\n",
       "      <td>time</td>\n",
       "    </tr>\n",
       "    <tr>\n",
       "      <th>3</th>\n",
       "      <td>Morning</td>\n",
       "      <td>20</td>\n",
       "      <td>3</td>\n",
       "      <td>17</td>\n",
       "      <td>0.176471</td>\n",
       "      <td>0.261538</td>\n",
       "      <td>-0.085068</td>\n",
       "      <td>-0.393427</td>\n",
       "      <td>0.033468</td>\n",
       "      <td>time</td>\n",
       "    </tr>\n",
       "    <tr>\n",
       "      <th>4</th>\n",
       "      <td>Night</td>\n",
       "      <td>5</td>\n",
       "      <td>1</td>\n",
       "      <td>4</td>\n",
       "      <td>0.058824</td>\n",
       "      <td>0.061538</td>\n",
       "      <td>-0.002715</td>\n",
       "      <td>-0.045120</td>\n",
       "      <td>0.000122</td>\n",
       "      <td>time</td>\n",
       "    </tr>\n",
       "    <tr>\n",
       "      <th>5</th>\n",
       "      <td>Noon</td>\n",
       "      <td>18</td>\n",
       "      <td>4</td>\n",
       "      <td>14</td>\n",
       "      <td>0.235294</td>\n",
       "      <td>0.215385</td>\n",
       "      <td>0.019910</td>\n",
       "      <td>0.088411</td>\n",
       "      <td>0.001760</td>\n",
       "      <td>time</td>\n",
       "    </tr>\n",
       "  </tbody>\n",
       "</table>\n",
       "</div>"
      ],
      "text/plain": [
       "        contents  count  good  bad  perc_good  perc_bad  perc_diff       woe  \\\n",
       "0  Early Morning      8     4    4   0.235294  0.061538   0.173756  1.341174   \n",
       "1            Eve     23     3   20   0.176471  0.307692  -0.131222 -0.555946   \n",
       "2     Late Night      8     2    6   0.117647  0.092308   0.025339  0.242562   \n",
       "3        Morning     20     3   17   0.176471  0.261538  -0.085068 -0.393427   \n",
       "4          Night      5     1    4   0.058824  0.061538  -0.002715 -0.045120   \n",
       "5           Noon     18     4   14   0.235294  0.215385   0.019910  0.088411   \n",
       "\n",
       "         iv features  \n",
       "0  0.233037     time  \n",
       "1  0.072952     time  \n",
       "2  0.006146     time  \n",
       "3  0.033468     time  \n",
       "4  0.000122     time  \n",
       "5  0.001760     time  "
      ]
     },
     "execution_count": 9,
     "metadata": {},
     "output_type": "execute_result"
    }
   ],
   "source": [
    "# rename columns and add new ones\n",
    "SRH_content_size_iv_df = SRH_content_size_iv_df.rename(columns={\"content_size\": \"contents\"})\n",
    "SRH_content_size_iv_df[\"features\"] = \"content_size\"\n",
    "\n",
    "SRH_image_iv_df = SRH_image_iv_df.rename(columns={\"image\": \"contents\"})\n",
    "SRH_image_iv_df[\"features\"] = \"image\"\n",
    "\n",
    "SRH_link_iv_df = SRH_link_iv_df.rename(columns={\"link\": \"contents\"})\n",
    "SRH_link_iv_df[\"features\"] = \"link\"\n",
    "\n",
    "SRH_language_iv_df = SRH_language_iv_df.rename(columns={\"language\": \"contents\"})\n",
    "SRH_language_iv_df[\"features\"] = \"language\"\n",
    "\n",
    "SRH_time_iv_df = SRH_time_iv_df.rename(columns={\"time\": \"contents\"})\n",
    "SRH_time_iv_df[\"features\"] = \"time\"\n",
    "\n",
    "SRH_time_iv_df"
   ]
  },
  {
   "cell_type": "code",
   "execution_count": 10,
   "metadata": {},
   "outputs": [],
   "source": [
    "# concatinating the dataframes\n",
    "SRH_frames = [SRH_content_size_iv_df, SRH_image_iv_df, SRH_link_iv_df, SRH_language_iv_df, SRH_time_iv_df]\n",
    "SRH_woe_df = pd.concat(SRH_frames)\n",
    "SRH_woe_df = SRH_woe_df[[\"features\", \"contents\", \"woe\"]]\n",
    "SRH_woe_df = SRH_woe_df[SRH_woe_df[\"contents\"] != \"\"]\n",
    "SRH_woe_df = SRH_woe_df.set_index(\"contents\")"
   ]
  },
  {
   "cell_type": "code",
   "execution_count": 11,
   "metadata": {},
   "outputs": [
    {
     "data": {
      "text/html": [
       "<div>\n",
       "<style scoped>\n",
       "    .dataframe tbody tr th:only-of-type {\n",
       "        vertical-align: middle;\n",
       "    }\n",
       "\n",
       "    .dataframe tbody tr th {\n",
       "        vertical-align: top;\n",
       "    }\n",
       "\n",
       "    .dataframe thead th {\n",
       "        text-align: right;\n",
       "    }\n",
       "</style>\n",
       "<table border=\"1\" class=\"dataframe\">\n",
       "  <thead>\n",
       "    <tr style=\"text-align: right;\">\n",
       "      <th></th>\n",
       "      <th>features</th>\n",
       "      <th>woe</th>\n",
       "    </tr>\n",
       "    <tr>\n",
       "      <th>contents</th>\n",
       "      <th></th>\n",
       "      <th></th>\n",
       "    </tr>\n",
       "  </thead>\n",
       "  <tbody>\n",
       "    <tr>\n",
       "      <th>long</th>\n",
       "      <td>content_size</td>\n",
       "      <td>0.935709</td>\n",
       "    </tr>\n",
       "    <tr>\n",
       "      <th>medium</th>\n",
       "      <td>content_size</td>\n",
       "      <td>-0.856051</td>\n",
       "    </tr>\n",
       "    <tr>\n",
       "      <th>short</th>\n",
       "      <td>content_size</td>\n",
       "      <td>-0.408026</td>\n",
       "    </tr>\n",
       "    <tr>\n",
       "      <th>has_image</th>\n",
       "      <td>image</td>\n",
       "      <td>-2.214174</td>\n",
       "    </tr>\n",
       "    <tr>\n",
       "      <th>no_image</th>\n",
       "      <td>image</td>\n",
       "      <td>0.712565</td>\n",
       "    </tr>\n",
       "    <tr>\n",
       "      <th>has_link</th>\n",
       "      <td>link</td>\n",
       "      <td>0.041891</td>\n",
       "    </tr>\n",
       "    <tr>\n",
       "      <th>no_link</th>\n",
       "      <td>link</td>\n",
       "      <td>-0.093911</td>\n",
       "    </tr>\n",
       "    <tr>\n",
       "      <th>am</th>\n",
       "      <td>language</td>\n",
       "      <td>0.000000</td>\n",
       "    </tr>\n",
       "    <tr>\n",
       "      <th>en</th>\n",
       "      <td>language</td>\n",
       "      <td>0.047253</td>\n",
       "    </tr>\n",
       "    <tr>\n",
       "      <th>Early Morning</th>\n",
       "      <td>time</td>\n",
       "      <td>1.341174</td>\n",
       "    </tr>\n",
       "    <tr>\n",
       "      <th>Eve</th>\n",
       "      <td>time</td>\n",
       "      <td>-0.555946</td>\n",
       "    </tr>\n",
       "    <tr>\n",
       "      <th>Late Night</th>\n",
       "      <td>time</td>\n",
       "      <td>0.242562</td>\n",
       "    </tr>\n",
       "    <tr>\n",
       "      <th>Morning</th>\n",
       "      <td>time</td>\n",
       "      <td>-0.393427</td>\n",
       "    </tr>\n",
       "    <tr>\n",
       "      <th>Night</th>\n",
       "      <td>time</td>\n",
       "      <td>-0.045120</td>\n",
       "    </tr>\n",
       "    <tr>\n",
       "      <th>Noon</th>\n",
       "      <td>time</td>\n",
       "      <td>0.088411</td>\n",
       "    </tr>\n",
       "  </tbody>\n",
       "</table>\n",
       "</div>"
      ],
      "text/plain": [
       "                   features       woe\n",
       "contents                             \n",
       "long           content_size  0.935709\n",
       "medium         content_size -0.856051\n",
       "short          content_size -0.408026\n",
       "has_image             image -2.214174\n",
       "no_image              image  0.712565\n",
       "has_link               link  0.041891\n",
       "no_link                link -0.093911\n",
       "am                 language  0.000000\n",
       "en                 language  0.047253\n",
       "Early Morning          time  1.341174\n",
       "Eve                    time -0.555946\n",
       "Late Night             time  0.242562\n",
       "Morning                time -0.393427\n",
       "Night                  time -0.045120\n",
       "Noon                   time  0.088411"
      ]
     },
     "execution_count": 11,
     "metadata": {},
     "output_type": "execute_result"
    }
   ],
   "source": [
    "SRH_woe_df.to_csv('../data/SRH_woe_data.csv')\n",
    "SRH_woe_df"
   ]
  },
  {
   "cell_type": "code",
   "execution_count": 12,
   "metadata": {},
   "outputs": [
    {
     "name": "stderr",
     "output_type": "stream",
     "text": [
      "/home/yony/anaconda3/lib/python3.7/site-packages/pandas/core/arraylike.py:358: RuntimeWarning: divide by zero encountered in log\n",
      "  result = getattr(ufunc, method)(*inputs, **kwargs)\n"
     ]
    },
    {
     "data": {
      "image/png": "[encoded data removed]",
      "text/plain": [
       "<Figure size 720x432 with 1 Axes>"
      ]
     },
     "metadata": {
      "needs_background": "light"
     },
     "output_type": "display_data"
    }
   ],
   "source": [
    "SRH_ar.draw_woe_extremes(SRH_feats, SRH_iv)"
   ]
  },
  {
   "cell_type": "code",
   "execution_count": 13,
   "metadata": {},
   "outputs": [
    {
     "name": "stderr",
     "output_type": "stream",
     "text": [
      "/home/yony/anaconda3/lib/python3.7/site-packages/pandas/core/arraylike.py:358: RuntimeWarning: divide by zero encountered in log\n",
      "  result = getattr(ufunc, method)(*inputs, **kwargs)\n"
     ]
    },
    {
     "data": {
      "image/png": "[encoded data removed]",
      "text/plain": [
       "<Figure size 1080x576 with 6 Axes>"
      ]
     },
     "metadata": {
      "needs_background": "light"
     },
     "output_type": "display_data"
    }
   ],
   "source": [
    "f_draw = [\"content_size\", \"image\", \"link\", \"language\", \"time\"]\n",
    "SRH_feats_draw = [v for k, v in SRH_feats_dict.items() if k in f_draw]\n",
    "SRH_ar.draw_woe_multiplot(SRH_feats_draw, SRH_iv)"
   ]
  },
  {
   "cell_type": "markdown",
   "metadata": {},
   "source": [
    "## Abortion"
   ]
  },
  {
   "cell_type": "markdown",
   "metadata": {},
   "source": [
    "### IV analysis"
   ]
  },
  {
   "cell_type": "code",
   "execution_count": 31,
   "metadata": {},
   "outputs": [
    {
     "data": {
      "text/plain": [
       "(11, 7)"
      ]
     },
     "execution_count": 31,
     "metadata": {},
     "output_type": "execute_result"
    }
   ],
   "source": [
    "# extract sub topics\n",
    "SRH_abortion_sub_topics = [\"abortion\", \"ፅንስ ማስወረድ\"]\n",
    "\n",
    "SRH_abortion_df = df[df[\"text\"].apply(lambda txt: extract_sub_topics(txt, SRH_abortion_sub_topics))]\n",
    "SRH_abortion_df.shape"
   ]
  },
  {
   "cell_type": "code",
   "execution_count": 33,
   "metadata": {},
   "outputs": [
    {
     "data": {
      "text/html": [
       "<div>\n",
       "<style scoped>\n",
       "    .dataframe tbody tr th:only-of-type {\n",
       "        vertical-align: middle;\n",
       "    }\n",
       "\n",
       "    .dataframe tbody tr th {\n",
       "        vertical-align: top;\n",
       "    }\n",
       "\n",
       "    .dataframe thead th {\n",
       "        text-align: right;\n",
       "    }\n",
       "</style>\n",
       "<table border=\"1\" class=\"dataframe\">\n",
       "  <thead>\n",
       "    <tr style=\"text-align: right;\">\n",
       "      <th></th>\n",
       "      <th>iv</th>\n",
       "      <th>iv_interpretation</th>\n",
       "    </tr>\n",
       "  </thead>\n",
       "  <tbody>\n",
       "    <tr>\n",
       "      <th>content_size</th>\n",
       "      <td>0.0</td>\n",
       "      <td>useless</td>\n",
       "    </tr>\n",
       "    <tr>\n",
       "      <th>image</th>\n",
       "      <td>0.0</td>\n",
       "      <td>useless</td>\n",
       "    </tr>\n",
       "    <tr>\n",
       "      <th>link</th>\n",
       "      <td>0.0</td>\n",
       "      <td>useless</td>\n",
       "    </tr>\n",
       "    <tr>\n",
       "      <th>language</th>\n",
       "      <td>0.0</td>\n",
       "      <td>useless</td>\n",
       "    </tr>\n",
       "    <tr>\n",
       "      <th>time</th>\n",
       "      <td>0.0</td>\n",
       "      <td>useless</td>\n",
       "    </tr>\n",
       "  </tbody>\n",
       "</table>\n",
       "</div>"
      ],
      "text/plain": [
       "               iv iv_interpretation\n",
       "content_size  0.0           useless\n",
       "image         0.0           useless\n",
       "link          0.0           useless\n",
       "language      0.0           useless\n",
       "time          0.0           useless"
      ]
     },
     "execution_count": 33,
     "metadata": {},
     "output_type": "execute_result"
    }
   ],
   "source": [
    "SRH_abortion_feats_dict = {}\n",
    "for col in [c for c in SRH_abortion_df.columns if (c != \"label\" and c != \"text\")]:\n",
    "    SRH_abortion_feats_dict[col] = CategoricalFeature(SRH_abortion_df, col)\n",
    "SRH_abortion_feats = list(SRH_abortion_feats_dict.values())\n",
    "\n",
    "SRH_abortion_iv = IV()\n",
    "SRH_abortion_ss = StatsSignificance()\n",
    "SRH_abortion_ar = AttributeRelevance()\n",
    "\n",
    "SRH_abortion_df = SRH_ar.analyze(SRH_abortion_feats, SRH_abortion_iv, interpretation=True)\n",
    "SRH_abortion_df.to_csv('../data/SRH_aborition_iv_data.csv')\n",
    "SRH_abortion_df"
   ]
  },
  {
   "cell_type": "code",
   "execution_count": 37,
   "metadata": {},
   "outputs": [
    {
     "data": {
      "image/png": "[encoded data removed]",
      "text/plain": [
       "<Figure size 720x432 with 1 Axes>"
      ]
     },
     "metadata": {
      "needs_background": "light"
     },
     "output_type": "display_data"
    }
   ],
   "source": [
    "SRH_abortion_ar.draw_iv(SRH_abortion_feats, SRH_abortion_iv)"
   ]
  },
  {
   "cell_type": "markdown",
   "metadata": {},
   "source": [
    "### WOE analysis"
   ]
  },
  {
   "cell_type": "code",
   "execution_count": null,
   "metadata": {},
   "outputs": [],
   "source": [
    "# calculating information values\n",
    "(SRH_content_size_iv_df, SRH_content_size_iv_value) = SRH_iv.calculate_iv(SRH_feats[0])\n",
    "(SRH_image_iv_df, SRH_image_iv_value) = SRH_iv.calculate_iv(SRH_feats[1])\n",
    "(SRH_link_iv_df, SRH_link_iv_value) = SRH_iv.calculate_iv(SRH_feats[2])\n",
    "(SRH_language_iv_df, SRH_language_iv_value) = SRH_iv.calculate_iv(SRH_feats[3])\n",
    "(SRH_time_iv_df, SRH_time_iv_value) = SRH_iv.calculate_iv(SRH_feats[4])\n",
    "\n",
    "# rename columns and add new ones\n",
    "SRH_content_size_iv_df = SRH_content_size_iv_df.rename(columns={\"content_size\": \"contents\"})\n",
    "SRH_content_size_iv_df[\"features\"] = \"content_size\"\n",
    "\n",
    "SRH_image_iv_df = SRH_image_iv_df.rename(columns={\"image\": \"contents\"})\n",
    "SRH_image_iv_df[\"features\"] = \"image\"\n",
    "\n",
    "SRH_link_iv_df = SRH_link_iv_df.rename(columns={\"link\": \"contents\"})\n",
    "SRH_link_iv_df[\"features\"] = \"link\"\n",
    "\n",
    "SRH_language_iv_df = SRH_language_iv_df.rename(columns={\"language\": \"contents\"})\n",
    "SRH_language_iv_df[\"features\"] = \"language\"\n",
    "\n",
    "SRH_time_iv_df = SRH_time_iv_df.rename(columns={\"time\": \"contents\"})\n",
    "SRH_time_iv_df[\"features\"] = \"time\"\n",
    "\n",
    "# concatinating the dataframes\n",
    "SRH_frames = [SRH_content_size_iv_df, SRH_image_iv_df, SRH_link_iv_df, SRH_language_iv_df, SRH_time_iv_df]\n",
    "SRH_woe_df = pd.concat(SRH_frames)\n",
    "SRH_woe_df = SRH_woe_df[[\"features\", \"contents\", \"woe\"]]\n",
    "SRH_woe_df = SRH_woe_df[SRH_woe_df[\"contents\"] != \"\"]\n",
    "SRH_woe_df = SRH_woe_df.set_index(\"contents\")\n",
    "\n",
    "SRH_woe_df.to_csv('../data/SRH_woe_data.csv')\n",
    "SRH_woe_df"
   ]
  },
  {
   "cell_type": "code",
   "execution_count": null,
   "metadata": {},
   "outputs": [],
   "source": [
    "SRH_ar.draw_woe_extremes(SRH_feats, SRH_iv)"
   ]
  },
  {
   "cell_type": "markdown",
   "metadata": {},
   "source": [
    "# Part - 3: GBV WOE and IV Analysis"
   ]
  },
  {
   "cell_type": "markdown",
   "metadata": {},
   "source": [
    "## GBV dataframe"
   ]
  },
  {
   "cell_type": "code",
   "execution_count": 14,
   "metadata": {},
   "outputs": [
    {
     "data": {
      "text/plain": [
       "(37, 7)"
      ]
     },
     "execution_count": 14,
     "metadata": {},
     "output_type": "execute_result"
    }
   ],
   "source": [
    "# extract SRH dataframe\n",
    "GBV_sub_topics =  [\"gender-based violence\", \"rape\", \"sexual violence\", \"forced marriage\", \n",
    "                   \"Sexual Abuse\", \"Emotional Violence\", \"Physical violence\",\n",
    "                   \"በጾታ ላይ የተመሠረተ ጥቃት\", \"አስገድዶ መድፈር\", \"ወሲባዊ ጥቃት\", \"የግዳጅ ጋብቻ\",\n",
    "                   \"ወሲባዊ በደል\", \"ስሜታዊ ጥቃት\", \"የአካል ብጥብጥ\"]\n",
    "\n",
    "GBV_df = df[df[\"text\"].apply(lambda txt: extract_sub_topics(txt, GBV_sub_topics))]\n",
    "GBV_df.shape"
   ]
  },
  {
   "cell_type": "markdown",
   "metadata": {},
   "source": [
    "## Convert features to bins"
   ]
  },
  {
   "cell_type": "code",
   "execution_count": 15,
   "metadata": {},
   "outputs": [],
   "source": [
    "GBV_feats_dict = {}\n",
    "\n",
    "for col in [c for c in GBV_df.columns if (c != \"label\" and c != \"text\")]:\n",
    "    GBV_feats_dict[col] = CategoricalFeature(GBV_df, col)\n",
    "\n",
    "GBV_feats = list(GBV_feats_dict.values())"
   ]
  },
  {
   "cell_type": "markdown",
   "metadata": {},
   "source": [
    "## Information value analysis"
   ]
  },
  {
   "cell_type": "code",
   "execution_count": 16,
   "metadata": {},
   "outputs": [],
   "source": [
    "GBV_iv = IV()\n",
    "GBV_ss = StatsSignificance()\n",
    "GBV_ar = AttributeRelevance()"
   ]
  },
  {
   "cell_type": "code",
   "execution_count": 17,
   "metadata": {},
   "outputs": [
    {
     "name": "stderr",
     "output_type": "stream",
     "text": [
      "/home/yony/anaconda3/lib/python3.7/site-packages/pandas/core/arraylike.py:358: RuntimeWarning: divide by zero encountered in log\n",
      "  result = getattr(ufunc, method)(*inputs, **kwargs)\n"
     ]
    },
    {
     "data": {
      "text/html": [
       "<div>\n",
       "<style scoped>\n",
       "    .dataframe tbody tr th:only-of-type {\n",
       "        vertical-align: middle;\n",
       "    }\n",
       "\n",
       "    .dataframe tbody tr th {\n",
       "        vertical-align: top;\n",
       "    }\n",
       "\n",
       "    .dataframe thead th {\n",
       "        text-align: right;\n",
       "    }\n",
       "</style>\n",
       "<table border=\"1\" class=\"dataframe\">\n",
       "  <thead>\n",
       "    <tr style=\"text-align: right;\">\n",
       "      <th></th>\n",
       "      <th>iv</th>\n",
       "      <th>iv_interpretation</th>\n",
       "    </tr>\n",
       "  </thead>\n",
       "  <tbody>\n",
       "    <tr>\n",
       "      <th>image</th>\n",
       "      <td>1.396096</td>\n",
       "      <td>suspicious</td>\n",
       "    </tr>\n",
       "    <tr>\n",
       "      <th>link</th>\n",
       "      <td>0.867580</td>\n",
       "      <td>suspicious</td>\n",
       "    </tr>\n",
       "    <tr>\n",
       "      <th>time</th>\n",
       "      <td>0.389345</td>\n",
       "      <td>strong</td>\n",
       "    </tr>\n",
       "    <tr>\n",
       "      <th>language</th>\n",
       "      <td>0.018230</td>\n",
       "      <td>useless</td>\n",
       "    </tr>\n",
       "    <tr>\n",
       "      <th>content_size</th>\n",
       "      <td>0.010530</td>\n",
       "      <td>useless</td>\n",
       "    </tr>\n",
       "  </tbody>\n",
       "</table>\n",
       "</div>"
      ],
      "text/plain": [
       "                    iv iv_interpretation\n",
       "image         1.396096        suspicious\n",
       "link          0.867580        suspicious\n",
       "time          0.389345            strong\n",
       "language      0.018230           useless\n",
       "content_size  0.010530           useless"
      ]
     },
     "execution_count": 17,
     "metadata": {},
     "output_type": "execute_result"
    }
   ],
   "source": [
    "GBV_iv_df = GBV_ar.analyze(GBV_feats, GBV_iv, interpretation=True)\n",
    "GBV_iv_df.to_csv('../data/GBV_iv_data.csv')\n",
    "GBV_iv_df"
   ]
  },
  {
   "cell_type": "code",
   "execution_count": 18,
   "metadata": {},
   "outputs": [
    {
     "name": "stderr",
     "output_type": "stream",
     "text": [
      "/home/yony/anaconda3/lib/python3.7/site-packages/pandas/core/arraylike.py:358: RuntimeWarning: divide by zero encountered in log\n",
      "  result = getattr(ufunc, method)(*inputs, **kwargs)\n"
     ]
    },
    {
     "data": {
      "image/png": "[encoded data removed]",
      "text/plain": [
       "<Figure size 720x432 with 1 Axes>"
      ]
     },
     "metadata": {
      "needs_background": "light"
     },
     "output_type": "display_data"
    }
   ],
   "source": [
    "GBV_ar.draw_iv(GBV_feats, GBV_iv)"
   ]
  },
  {
   "cell_type": "markdown",
   "metadata": {},
   "source": [
    "## Weight of evidence analysis"
   ]
  },
  {
   "cell_type": "code",
   "execution_count": 19,
   "metadata": {},
   "outputs": [
    {
     "name": "stderr",
     "output_type": "stream",
     "text": [
      "/home/yony/anaconda3/lib/python3.7/site-packages/pandas/core/arraylike.py:358: RuntimeWarning: divide by zero encountered in log\n",
      "  result = getattr(ufunc, method)(*inputs, **kwargs)\n"
     ]
    }
   ],
   "source": [
    "# calculating information values\n",
    "(GBV_content_size_iv_df, GBV_content_size_iv_value) = GBV_iv.calculate_iv(GBV_feats[0])\n",
    "(GBV_image_iv_df, GBV_image_iv_value) = GBV_iv.calculate_iv(GBV_feats[1])\n",
    "(GBV_link_iv_df, GBV_link_iv_value) = GBV_iv.calculate_iv(GBV_feats[2])\n",
    "(GBV_language_iv_df, GBV_language_iv_value) = GBV_iv.calculate_iv(GBV_feats[3])\n",
    "(GBV_time_iv_df, GBV_time_iv_value) = GBV_iv.calculate_iv(GBV_feats[4])"
   ]
  },
  {
   "cell_type": "code",
   "execution_count": 20,
   "metadata": {},
   "outputs": [
    {
     "data": {
      "text/html": [
       "<div>\n",
       "<style scoped>\n",
       "    .dataframe tbody tr th:only-of-type {\n",
       "        vertical-align: middle;\n",
       "    }\n",
       "\n",
       "    .dataframe tbody tr th {\n",
       "        vertical-align: top;\n",
       "    }\n",
       "\n",
       "    .dataframe thead th {\n",
       "        text-align: right;\n",
       "    }\n",
       "</style>\n",
       "<table border=\"1\" class=\"dataframe\">\n",
       "  <thead>\n",
       "    <tr style=\"text-align: right;\">\n",
       "      <th></th>\n",
       "      <th>features</th>\n",
       "      <th>woe</th>\n",
       "    </tr>\n",
       "    <tr>\n",
       "      <th>contents</th>\n",
       "      <th></th>\n",
       "      <th></th>\n",
       "    </tr>\n",
       "  </thead>\n",
       "  <tbody>\n",
       "    <tr>\n",
       "      <th>long</th>\n",
       "      <td>content_size</td>\n",
       "      <td>-0.042560</td>\n",
       "    </tr>\n",
       "    <tr>\n",
       "      <th>medium</th>\n",
       "      <td>content_size</td>\n",
       "      <td>-0.063179</td>\n",
       "    </tr>\n",
       "    <tr>\n",
       "      <th>short</th>\n",
       "      <td>content_size</td>\n",
       "      <td>0.208755</td>\n",
       "    </tr>\n",
       "    <tr>\n",
       "      <th>has_image</th>\n",
       "      <td>image</td>\n",
       "      <td>-2.068512</td>\n",
       "    </tr>\n",
       "    <tr>\n",
       "      <th>no_image</th>\n",
       "      <td>image</td>\n",
       "      <td>0.758801</td>\n",
       "    </tr>\n",
       "    <tr>\n",
       "      <th>has_link</th>\n",
       "      <td>link</td>\n",
       "      <td>0.678758</td>\n",
       "    </tr>\n",
       "    <tr>\n",
       "      <th>no_link</th>\n",
       "      <td>link</td>\n",
       "      <td>-1.375365</td>\n",
       "    </tr>\n",
       "    <tr>\n",
       "      <th>am</th>\n",
       "      <td>language</td>\n",
       "      <td>0.000000</td>\n",
       "    </tr>\n",
       "    <tr>\n",
       "      <th>en</th>\n",
       "      <td>language</td>\n",
       "      <td>0.139762</td>\n",
       "    </tr>\n",
       "    <tr>\n",
       "      <th>Early Morning</th>\n",
       "      <td>time</td>\n",
       "      <td>0.090972</td>\n",
       "    </tr>\n",
       "    <tr>\n",
       "      <th>Eve</th>\n",
       "      <td>time</td>\n",
       "      <td>-0.196710</td>\n",
       "    </tr>\n",
       "    <tr>\n",
       "      <th>Late Night</th>\n",
       "      <td>time</td>\n",
       "      <td>-0.602175</td>\n",
       "    </tr>\n",
       "    <tr>\n",
       "      <th>Morning</th>\n",
       "      <td>time</td>\n",
       "      <td>-0.602175</td>\n",
       "    </tr>\n",
       "    <tr>\n",
       "      <th>Night</th>\n",
       "      <td>time</td>\n",
       "      <td>1.189584</td>\n",
       "    </tr>\n",
       "    <tr>\n",
       "      <th>Noon</th>\n",
       "      <td>time</td>\n",
       "      <td>0.784119</td>\n",
       "    </tr>\n",
       "  </tbody>\n",
       "</table>\n",
       "</div>"
      ],
      "text/plain": [
       "                   features       woe\n",
       "contents                             \n",
       "long           content_size -0.042560\n",
       "medium         content_size -0.063179\n",
       "short          content_size  0.208755\n",
       "has_image             image -2.068512\n",
       "no_image              image  0.758801\n",
       "has_link               link  0.678758\n",
       "no_link                link -1.375365\n",
       "am                 language  0.000000\n",
       "en                 language  0.139762\n",
       "Early Morning          time  0.090972\n",
       "Eve                    time -0.196710\n",
       "Late Night             time -0.602175\n",
       "Morning                time -0.602175\n",
       "Night                  time  1.189584\n",
       "Noon                   time  0.784119"
      ]
     },
     "execution_count": 20,
     "metadata": {},
     "output_type": "execute_result"
    }
   ],
   "source": [
    "# rename columns and add new ones\n",
    "GBV_content_size_iv_df = GBV_content_size_iv_df.rename(columns={\"content_size\": \"contents\"})\n",
    "GBV_content_size_iv_df[\"features\"] = \"content_size\"\n",
    "\n",
    "GBV_image_iv_df = GBV_image_iv_df.rename(columns={\"image\": \"contents\"})\n",
    "GBV_image_iv_df[\"features\"] = \"image\"\n",
    "\n",
    "GBV_link_iv_df = GBV_link_iv_df.rename(columns={\"link\": \"contents\"})\n",
    "GBV_link_iv_df[\"features\"] = \"link\"\n",
    "\n",
    "GBV_language_iv_df = GBV_language_iv_df.rename(columns={\"language\": \"contents\"})\n",
    "GBV_language_iv_df[\"features\"] = \"language\"\n",
    "\n",
    "GBV_time_iv_df = GBV_time_iv_df.rename(columns={\"time\": \"contents\"})\n",
    "GBV_time_iv_df[\"features\"] = \"time\"\n",
    "\n",
    "# concatinating the dataframes\n",
    "GBV_frames = [GBV_content_size_iv_df, GBV_image_iv_df, GBV_link_iv_df, GBV_language_iv_df, GBV_time_iv_df]\n",
    "GBV_woe_df = pd.concat(GBV_frames)\n",
    "GBV_woe_df = GBV_woe_df[[\"features\", \"contents\", \"woe\"]]\n",
    "GBV_woe_df = GBV_woe_df[GBV_woe_df[\"contents\"] != \"\"]\n",
    "GBV_woe_df = GBV_woe_df.set_index(\"contents\")\n",
    "GBV_woe_df.to_csv('../data/GBV_woe_data.csv')\n",
    "GBV_woe_df"
   ]
  },
  {
   "cell_type": "code",
   "execution_count": 21,
   "metadata": {},
   "outputs": [
    {
     "name": "stderr",
     "output_type": "stream",
     "text": [
      "/home/yony/anaconda3/lib/python3.7/site-packages/pandas/core/arraylike.py:358: RuntimeWarning: divide by zero encountered in log\n",
      "  result = getattr(ufunc, method)(*inputs, **kwargs)\n"
     ]
    },
    {
     "data": {
      "image/png": "[encoded data removed]",
      "text/plain": [
       "<Figure size 720x432 with 1 Axes>"
      ]
     },
     "metadata": {
      "needs_background": "light"
     },
     "output_type": "display_data"
    }
   ],
   "source": [
    "GBV_ar.draw_woe_extremes(GBV_feats, GBV_iv)"
   ]
  },
  {
   "cell_type": "code",
   "execution_count": 22,
   "metadata": {},
   "outputs": [
    {
     "name": "stderr",
     "output_type": "stream",
     "text": [
      "/home/yony/anaconda3/lib/python3.7/site-packages/pandas/core/arraylike.py:358: RuntimeWarning: divide by zero encountered in log\n",
      "  result = getattr(ufunc, method)(*inputs, **kwargs)\n"
     ]
    },
    {
     "data": {
      "image/png": "[encoded data removed]",
      "text/plain": [
       "<Figure size 1080x576 with 6 Axes>"
      ]
     },
     "metadata": {
      "needs_background": "light"
     },
     "output_type": "display_data"
    }
   ],
   "source": [
    "f_draw = [\"content_size\", \"image\", \"link\", \"language\", \"time\"]\n",
    "GBV_feats_draw = [v for k, v in GBV_feats_dict.items() if k in f_draw]\n",
    "GBV_ar.draw_woe_multiplot(GBV_feats_draw, GBV_iv)"
   ]
  },
  {
   "cell_type": "code",
   "execution_count": null,
   "metadata": {},
   "outputs": [],
   "source": []
  }
 ],
 "metadata": {
  "kernelspec": {
   "display_name": "Python 3",
   "language": "python",
   "name": "python3"
  },
  "language_info": {
   "codemirror_mode": {
    "name": "ipython",
    "version": 3
   },
   "file_extension": ".py",
   "mimetype": "text/x-python",
   "name": "python",
   "nbconvert_exporter": "python",
   "pygments_lexer": "ipython3",
   "version": "3.7.6"
  }
 },
 "nbformat": 4,
 "nbformat_minor": 4
}
