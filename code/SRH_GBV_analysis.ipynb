{
 "cells": [
  {
   "cell_type": "code",
   "execution_count": 2,
   "metadata": {},
   "outputs": [],
   "source": [
    "# import the necessary packages\n",
    "from facebook_scraper import get_posts\n",
    "from twitter_scraper import get_tweets\n",
    "import seaborn as sns\n",
    "import pandas as pd\n",
    "import numpy as np\n",
    "import time\n",
    "import json\n",
    "import re\n",
    "\n",
    "from AttributeRelevance import *\n",
    "from Features import *"
   ]
  },
  {
   "cell_type": "markdown",
   "metadata": {},
   "source": [
    "# Part - 1: Data Collection"
   ]
  },
  {
   "cell_type": "markdown",
   "metadata": {},
   "source": [
    "## Scrape facebook"
   ]
  },
  {
   "cell_type": "code",
   "execution_count": 2,
   "metadata": {},
   "outputs": [],
   "source": [
    "# define a function to scrape facebook posts\n",
    "def scrape_facebook(accounts):\n",
    "    posts = []\n",
    "    count = 0\n",
    "    for account in accounts:\n",
    "        for post in get_posts(account):\n",
    "            try:\n",
    "                post_dict = {}\n",
    "                post_dict[\"post_id\"] = post[\"post_id\"]\n",
    "                post_dict[\"text\"] = post[\"text\"]\n",
    "                post_dict[\"post_text\"] = post[\"post_text\"]\n",
    "                post_dict[\"shared_text\"] = post[\"shared_text\"]\n",
    "                post_dict[\"time\"] = post[\"time\"]\n",
    "                post_dict[\"image\"] = post[\"image\"]\n",
    "                post_dict[\"video\"] = post[\"video\"]\n",
    "                post_dict[\"video_thumbnail\"] = post[\"video_thumbnail\"]\n",
    "                post_dict[\"video_id\"] = post[\"video_id\"]\n",
    "                post_dict[\"likes\"] = post[\"likes\"]\n",
    "                post_dict[\"comments\"] = post[\"comments\"]\n",
    "                post_dict[\"shares\"] = post[\"shares\"]\n",
    "                post_dict[\"post_url\"] = post[\"post_url\"]\n",
    "                post_dict[\"link\"] = post[\"link\"]\n",
    "                post_dict[\"user_id\"] = post[\"user_id\"]\n",
    "                post_dict[\"images\"] = post[\"images\"]\n",
    "                posts.append(post_dict)\n",
    "            except:\n",
    "                continue\n",
    "        count += 1\n",
    "        print(f\"complete scrapping {count} accounts out of {len(accounts)} accounts\")\n",
    "            \n",
    "    return posts"
   ]
  },
  {
   "cell_type": "code",
   "execution_count": 3,
   "metadata": {},
   "outputs": [
    {
     "name": "stdout",
     "output_type": "stream",
     "text": [
      "complete scrapping 1 accounts out of 11 accounts\n",
      "complete scrapping 2 accounts out of 11 accounts\n",
      "complete scrapping 3 accounts out of 11 accounts\n",
      "complete scrapping 4 accounts out of 11 accounts\n",
      "complete scrapping 5 accounts out of 11 accounts\n",
      "complete scrapping 6 accounts out of 11 accounts\n",
      "complete scrapping 7 accounts out of 11 accounts\n",
      "complete scrapping 8 accounts out of 11 accounts\n",
      "complete scrapping 9 accounts out of 11 accounts\n",
      "complete scrapping 10 accounts out of 11 accounts\n",
      "complete scrapping 11 accounts out of 11 accounts\n",
      "data scraping takes: 1020.8554711341858 seconds\n",
      "            post_id                                               text  \\\n",
      "0  4183582811698940  New research finds that by using #photovoice, ...   \n",
      "1  4181041485286406  We cannot overlook #reprohealth and #reprorigh...   \n",
      "2  4179768305413724  Our latest editorial is now available online. ...   \n",
      "3  4178431158880772  Evidence of the #health system challenges to p...   \n",
      "4  4176874072369814  President Biden repeals the Global Gag Rule - ...   \n",
      "\n",
      "                                           post_text  \\\n",
      "0  New research finds that by using #photovoice, ...   \n",
      "1  We cannot overlook #reprohealth and #reprorigh...   \n",
      "2  Our latest editorial is now available online. ...   \n",
      "3  Evidence of the #health system challenges to p...   \n",
      "4  President Biden repeals the Global Gag Rule - ...   \n",
      "\n",
      "                                       shared_text                time  \\\n",
      "0                                                  2021-02-04 13:25:03   \n",
      "1              SRHM.ORG\\nCall for Papers: COVID-19 2021-02-03 13:25:03   \n",
      "2  TANDFONLINE.COM\\nA round-up of articles in 2020 2021-02-03 00:41:05   \n",
      "3                                                  2021-02-02 13:25:03   \n",
      "4                                                  2021-02-01 21:48:36   \n",
      "\n",
      "                                               image video video_thumbnail  \\\n",
      "0  https://scontent.fadd1-1.fna.fbcdn.net/v/t1.0-...  None            None   \n",
      "1                                               None  None            None   \n",
      "2                                               None  None            None   \n",
      "3  https://scontent.fadd1-1.fna.fbcdn.net/v/t1.0-...  None            None   \n",
      "4  https://scontent.fadd1-1.fna.fbcdn.net/v/t1.0-...  None            None   \n",
      "\n",
      "  video_id  likes  comments  shares  \\\n",
      "0     None      2         0       0   \n",
      "1     None      3         0       0   \n",
      "2     None      0         0       0   \n",
      "3     None      3         0       0   \n",
      "4     None      1         0       0   \n",
      "\n",
      "                                            post_url  \\\n",
      "0                                               None   \n",
      "1  https://facebook.com/story.php?story_fbid=4181...   \n",
      "2  https://facebook.com/story.php?story_fbid=4179...   \n",
      "3                                               None   \n",
      "4                                               None   \n",
      "\n",
      "                                                link          user_id  \\\n",
      "0                             https://bit.ly/2XZFJyV  126697227387539   \n",
      "1       http://www.srhm.org/call-for-papers-covid19/  126697227387539   \n",
      "2                             https://bit.ly/3oDquXj  126697227387539   \n",
      "3                             https://bit.ly/3qC86PZ  126697227387539   \n",
      "4  https://mailchi.mp/c0533878aec1/your-april-new...  126697227387539   \n",
      "\n",
      "                                              images  \n",
      "0  [https://scontent.fadd1-1.fna.fbcdn.net/v/t1.0...  \n",
      "1                                                 []  \n",
      "2                                                 []  \n",
      "3  [https://scontent.fadd1-1.fna.fbcdn.net/v/t1.0...  \n",
      "4  [https://scontent.fadd1-1.fna.fbcdn.net/v/t1.0...  \n",
      "(424, 16)\n"
     ]
    }
   ],
   "source": [
    "# facebook pages to be scrape which are related to SRH and GBV\n",
    "facebook_accounts = [\"SRHMJournal\", \"FSRH.UK\", \"mmsa.scora\", \"BMJ.SRH\", \n",
    "                     \"BLreproductivehealth\", \"actioncanadaSHR\", \"GBVPrevNetwork\", \n",
    "                     \"StopGBVatWork\", \"16DaysCampaign\", \"SayNO.UNiTE\", \"TheYellowMovementAau\"]\n",
    "\n",
    "# scrape facebook posts related to SRH and GBV\n",
    "start = time.time()\n",
    "posts = scrape_facebook(facebook_accounts)\n",
    "end = time.time()\n",
    "print(f\"data scraping takes: {(end - start)} seconds\")\n",
    "fb_posts_df = pd.DataFrame(posts)\n",
    "fb_posts_df.shape"
   ]
  },
  {
   "cell_type": "code",
   "execution_count": 4,
   "metadata": {},
   "outputs": [
    {
     "data": {
      "text/plain": [
       "(38, 16)"
      ]
     },
     "execution_count": 4,
     "metadata": {},
     "output_type": "execute_result"
    }
   ],
   "source": [
    "AWAREsg_df = pd.read_csv(\"../data/AWAREsg.csv\")\n",
    "AWAREsg_df.shape"
   ]
  },
  {
   "cell_type": "code",
   "execution_count": 5,
   "metadata": {},
   "outputs": [
    {
     "data": {
      "text/plain": [
       "(38, 16)"
      ]
     },
     "execution_count": 5,
     "metadata": {},
     "output_type": "execute_result"
    }
   ],
   "source": [
    "emerge_global_df = pd.read_csv(\"../data/EmergeGlobal.csv\")\n",
    "emerge_global_df = emerge_global_df.drop(columns=[\"Unnamed: 16\", \"Unnamed: 17\"])\n",
    "emerge_global_df.shape"
   ]
  },
  {
   "cell_type": "code",
   "execution_count": 6,
   "metadata": {},
   "outputs": [
    {
     "data": {
      "text/plain": [
       "(38, 16)"
      ]
     },
     "execution_count": 6,
     "metadata": {},
     "output_type": "execute_result"
    }
   ],
   "source": [
    "equality_now_df = pd.read_csv(\"../data/equalitynow.csv\")\n",
    "equality_now_df.shape"
   ]
  },
  {
   "cell_type": "code",
   "execution_count": 7,
   "metadata": {},
   "outputs": [
    {
     "data": {
      "text/plain": [
       "(26, 16)"
      ]
     },
     "execution_count": 7,
     "metadata": {},
     "output_type": "execute_result"
    }
   ],
   "source": [
    "girls_are_not_for_sale_df = pd.read_csv(\"../data/girlsarenotforsale.csv\")\n",
    "girls_are_not_for_sale_df.shape"
   ]
  },
  {
   "cell_type": "code",
   "execution_count": 130,
   "metadata": {},
   "outputs": [
    {
     "data": {
      "text/html": [
       "<div>\n",
       "<style scoped>\n",
       "    .dataframe tbody tr th:only-of-type {\n",
       "        vertical-align: middle;\n",
       "    }\n",
       "\n",
       "    .dataframe tbody tr th {\n",
       "        vertical-align: top;\n",
       "    }\n",
       "\n",
       "    .dataframe thead th {\n",
       "        text-align: right;\n",
       "    }\n",
       "</style>\n",
       "<table border=\"1\" class=\"dataframe\">\n",
       "  <thead>\n",
       "    <tr style=\"text-align: right;\">\n",
       "      <th></th>\n",
       "      <th>post_id</th>\n",
       "      <th>text</th>\n",
       "      <th>post_text</th>\n",
       "      <th>shared_text</th>\n",
       "      <th>time</th>\n",
       "      <th>image</th>\n",
       "      <th>video</th>\n",
       "      <th>video_thumbnail</th>\n",
       "      <th>video_id</th>\n",
       "      <th>likes</th>\n",
       "      <th>comments</th>\n",
       "      <th>shares</th>\n",
       "      <th>post_url</th>\n",
       "      <th>link</th>\n",
       "      <th>user_id</th>\n",
       "      <th>images</th>\n",
       "    </tr>\n",
       "  </thead>\n",
       "  <tbody>\n",
       "    <tr>\n",
       "      <th>0</th>\n",
       "      <td>4183582811698940</td>\n",
       "      <td>New research finds that by using #photovoice, ...</td>\n",
       "      <td>New research finds that by using #photovoice, ...</td>\n",
       "      <td></td>\n",
       "      <td>2021-02-04 13:25:03</td>\n",
       "      <td>https://scontent.fadd1-1.fna.fbcdn.net/v/t1.0-...</td>\n",
       "      <td>None</td>\n",
       "      <td>None</td>\n",
       "      <td>None</td>\n",
       "      <td>2.0</td>\n",
       "      <td>0.0</td>\n",
       "      <td>0</td>\n",
       "      <td>None</td>\n",
       "      <td>https://bit.ly/2XZFJyV</td>\n",
       "      <td>126697227387539</td>\n",
       "      <td>[https://scontent.fadd1-1.fna.fbcdn.net/v/t1.0...</td>\n",
       "    </tr>\n",
       "    <tr>\n",
       "      <th>1</th>\n",
       "      <td>4181041485286406</td>\n",
       "      <td>We cannot overlook #reprohealth and #reprorigh...</td>\n",
       "      <td>We cannot overlook #reprohealth and #reprorigh...</td>\n",
       "      <td>SRHM.ORG\\nCall for Papers: COVID-19</td>\n",
       "      <td>2021-02-03 13:25:03</td>\n",
       "      <td>None</td>\n",
       "      <td>None</td>\n",
       "      <td>None</td>\n",
       "      <td>None</td>\n",
       "      <td>3.0</td>\n",
       "      <td>0.0</td>\n",
       "      <td>0</td>\n",
       "      <td>https://facebook.com/story.php?story_fbid=4181...</td>\n",
       "      <td>http://www.srhm.org/call-for-papers-covid19/</td>\n",
       "      <td>126697227387539</td>\n",
       "      <td>[]</td>\n",
       "    </tr>\n",
       "    <tr>\n",
       "      <th>2</th>\n",
       "      <td>4179768305413724</td>\n",
       "      <td>Our latest editorial is now available online. ...</td>\n",
       "      <td>Our latest editorial is now available online. ...</td>\n",
       "      <td>TANDFONLINE.COM\\nA round-up of articles in 2020</td>\n",
       "      <td>2021-02-03 00:41:05</td>\n",
       "      <td>None</td>\n",
       "      <td>None</td>\n",
       "      <td>None</td>\n",
       "      <td>None</td>\n",
       "      <td>0.0</td>\n",
       "      <td>0.0</td>\n",
       "      <td>0</td>\n",
       "      <td>https://facebook.com/story.php?story_fbid=4179...</td>\n",
       "      <td>https://bit.ly/3oDquXj</td>\n",
       "      <td>126697227387539</td>\n",
       "      <td>[]</td>\n",
       "    </tr>\n",
       "    <tr>\n",
       "      <th>3</th>\n",
       "      <td>4178431158880772</td>\n",
       "      <td>Evidence of the #health system challenges to p...</td>\n",
       "      <td>Evidence of the #health system challenges to p...</td>\n",
       "      <td></td>\n",
       "      <td>2021-02-02 13:25:03</td>\n",
       "      <td>https://scontent.fadd1-1.fna.fbcdn.net/v/t1.0-...</td>\n",
       "      <td>None</td>\n",
       "      <td>None</td>\n",
       "      <td>None</td>\n",
       "      <td>3.0</td>\n",
       "      <td>0.0</td>\n",
       "      <td>0</td>\n",
       "      <td>None</td>\n",
       "      <td>https://bit.ly/3qC86PZ</td>\n",
       "      <td>126697227387539</td>\n",
       "      <td>[https://scontent.fadd1-1.fna.fbcdn.net/v/t1.0...</td>\n",
       "    </tr>\n",
       "    <tr>\n",
       "      <th>4</th>\n",
       "      <td>4176874072369814</td>\n",
       "      <td>President Biden repeals the Global Gag Rule - ...</td>\n",
       "      <td>President Biden repeals the Global Gag Rule - ...</td>\n",
       "      <td></td>\n",
       "      <td>2021-02-01 21:48:36</td>\n",
       "      <td>https://scontent.fadd1-1.fna.fbcdn.net/v/t1.0-...</td>\n",
       "      <td>None</td>\n",
       "      <td>None</td>\n",
       "      <td>None</td>\n",
       "      <td>1.0</td>\n",
       "      <td>0.0</td>\n",
       "      <td>0</td>\n",
       "      <td>None</td>\n",
       "      <td>https://mailchi.mp/c0533878aec1/your-april-new...</td>\n",
       "      <td>126697227387539</td>\n",
       "      <td>[https://scontent.fadd1-1.fna.fbcdn.net/v/t1.0...</td>\n",
       "    </tr>\n",
       "  </tbody>\n",
       "</table>\n",
       "</div>"
      ],
      "text/plain": [
       "            post_id                                               text  \\\n",
       "0  4183582811698940  New research finds that by using #photovoice, ...   \n",
       "1  4181041485286406  We cannot overlook #reprohealth and #reprorigh...   \n",
       "2  4179768305413724  Our latest editorial is now available online. ...   \n",
       "3  4178431158880772  Evidence of the #health system challenges to p...   \n",
       "4  4176874072369814  President Biden repeals the Global Gag Rule - ...   \n",
       "\n",
       "                                           post_text  \\\n",
       "0  New research finds that by using #photovoice, ...   \n",
       "1  We cannot overlook #reprohealth and #reprorigh...   \n",
       "2  Our latest editorial is now available online. ...   \n",
       "3  Evidence of the #health system challenges to p...   \n",
       "4  President Biden repeals the Global Gag Rule - ...   \n",
       "\n",
       "                                       shared_text                 time  \\\n",
       "0                                                   2021-02-04 13:25:03   \n",
       "1              SRHM.ORG\\nCall for Papers: COVID-19  2021-02-03 13:25:03   \n",
       "2  TANDFONLINE.COM\\nA round-up of articles in 2020  2021-02-03 00:41:05   \n",
       "3                                                   2021-02-02 13:25:03   \n",
       "4                                                   2021-02-01 21:48:36   \n",
       "\n",
       "                                               image video video_thumbnail  \\\n",
       "0  https://scontent.fadd1-1.fna.fbcdn.net/v/t1.0-...  None            None   \n",
       "1                                               None  None            None   \n",
       "2                                               None  None            None   \n",
       "3  https://scontent.fadd1-1.fna.fbcdn.net/v/t1.0-...  None            None   \n",
       "4  https://scontent.fadd1-1.fna.fbcdn.net/v/t1.0-...  None            None   \n",
       "\n",
       "  video_id  likes  comments  shares  \\\n",
       "0     None    2.0       0.0       0   \n",
       "1     None    3.0       0.0       0   \n",
       "2     None    0.0       0.0       0   \n",
       "3     None    3.0       0.0       0   \n",
       "4     None    1.0       0.0       0   \n",
       "\n",
       "                                            post_url  \\\n",
       "0                                               None   \n",
       "1  https://facebook.com/story.php?story_fbid=4181...   \n",
       "2  https://facebook.com/story.php?story_fbid=4179...   \n",
       "3                                               None   \n",
       "4                                               None   \n",
       "\n",
       "                                                link          user_id  \\\n",
       "0                             https://bit.ly/2XZFJyV  126697227387539   \n",
       "1       http://www.srhm.org/call-for-papers-covid19/  126697227387539   \n",
       "2                             https://bit.ly/3oDquXj  126697227387539   \n",
       "3                             https://bit.ly/3qC86PZ  126697227387539   \n",
       "4  https://mailchi.mp/c0533878aec1/your-april-new...  126697227387539   \n",
       "\n",
       "                                              images  \n",
       "0  [https://scontent.fadd1-1.fna.fbcdn.net/v/t1.0...  \n",
       "1                                                 []  \n",
       "2                                                 []  \n",
       "3  [https://scontent.fadd1-1.fna.fbcdn.net/v/t1.0...  \n",
       "4  [https://scontent.fadd1-1.fna.fbcdn.net/v/t1.0...  "
      ]
     },
     "execution_count": 130,
     "metadata": {},
     "output_type": "execute_result"
    }
   ],
   "source": [
    "# concatinating the scrapped dataframes\n",
    "frames = [fb_posts_df, AWAREsg_df, emerge_global_df, equality_now_df, girls_are_not_for_sale_df]\n",
    "df = pd.concat(frames)\n",
    "df.head()"
   ]
  },
  {
   "cell_type": "code",
   "execution_count": 131,
   "metadata": {},
   "outputs": [
    {
     "data": {
      "text/plain": [
       "(564, 16)"
      ]
     },
     "execution_count": 131,
     "metadata": {},
     "output_type": "execute_result"
    }
   ],
   "source": [
    "df.shape"
   ]
  },
  {
   "cell_type": "code",
   "execution_count": 132,
   "metadata": {},
   "outputs": [],
   "source": [
    "df.to_csv('../data/fb_posts.csv', index=False)"
   ]
  },
  {
   "cell_type": "code",
   "execution_count": 10,
   "metadata": {},
   "outputs": [
    {
     "data": {
      "text/plain": [
       "(564, 16)"
      ]
     },
     "execution_count": 10,
     "metadata": {},
     "output_type": "execute_result"
    }
   ],
   "source": [
    "df = pd.read_csv('../data/fb_posts.csv')\n",
    "df.shape"
   ]
  },
  {
   "cell_type": "markdown",
   "metadata": {},
   "source": [
    "## Scrape twitter"
   ]
  },
  {
   "cell_type": "code",
   "execution_count": 7,
   "metadata": {},
   "outputs": [],
   "source": [
    "# define a function to scrape twitter tweets\n",
    "def scrape_twitter(accounts):\n",
    "    tweets = []\n",
    "    count = 0\n",
    "    for account in accounts:\n",
    "        for tweet in get_tweets(account):\n",
    "            try:\n",
    "                tweet_dict = {}\n",
    "                tweet_dict[\"tweetId\"] = tweet[\"tweetId\"]\n",
    "                tweet_dict[\"userId\"] = tweet[\"userId\"]\n",
    "                tweet_dict[\"username\"] = tweet[\"username\"]\n",
    "                tweet_dict[\"tweetUrl\"] = tweet[\"tweetUrl\"]\n",
    "                tweet_dict[\"isRetweet\"] = tweet[\"isRetweet\"]\n",
    "                tweet_dict[\"isPinned\"] = tweet[\"isPinned\"]\n",
    "                tweet_dict[\"time\"] = tweet[\"time\"]\n",
    "                tweet_dict[\"text\"] = tweet[\"text\"]\n",
    "                tweet_dict[\"replies\"] = tweet[\"replies\"]\n",
    "                tweet_dict[\"retweets\"] = tweet[\"retweets\"]\n",
    "                tweet_dict[\"comments\"] = tweet[\"comments\"]\n",
    "                tweet_dict[\"likes\"] = tweet[\"likes\"]\n",
    "                tweet_dict[\"entries\"] = tweet[\"entries\"]\n",
    "                tweets.append(tweet_dict)\n",
    "            except:\n",
    "                continue\n",
    "        count += 1\n",
    "        print(f\"complete scrapping {count} accounts out of {len(accounts)} accounts\")\n",
    "            \n",
    "    return posts"
   ]
  },
  {
   "cell_type": "code",
   "execution_count": 10,
   "metadata": {},
   "outputs": [],
   "source": [
    "# facebook pages to be scrape which are related to SRH and GBV\n",
    "twitter_accounts = [\"psrhjournal\", \"bmj_srh\", \"reprod_health\"]\n",
    "\n",
    "# scrape facebook posts related to SRH and GBV\n",
    "start = time.time()\n",
    "tweets = scrape_twitter(twitter_accounts)\n",
    "end = time.time()\n",
    "print(f\"data scraping takes: {(end - start)} seconds\")\n",
    "twitter_tweets_df = pd.DataFrame(tweets)\n",
    "twitter_tweets_df.shape"
   ]
  },
  {
   "cell_type": "code",
   "execution_count": null,
   "metadata": {},
   "outputs": [],
   "source": [
    "twitter_tweets_df.head()"
   ]
  },
  {
   "cell_type": "markdown",
   "metadata": {},
   "source": [
    "# Part - 2: Data Cleaning and Transforming"
   ]
  },
  {
   "cell_type": "markdown",
   "metadata": {},
   "source": [
    "## Text cleaning"
   ]
  },
  {
   "cell_type": "code",
   "execution_count": 11,
   "metadata": {},
   "outputs": [
    {
     "data": {
      "text/plain": [
       "(529, 16)"
      ]
     },
     "execution_count": 11,
     "metadata": {},
     "output_type": "execute_result"
    }
   ],
   "source": [
    "# drop amharic posts\n",
    "df = df[df['text'].apply(lambda txt: not re.search(r\"[\\u1200-\\u137F]+\", str(txt)))]\n",
    "df.shape"
   ]
  },
  {
   "cell_type": "code",
   "execution_count": 12,
   "metadata": {},
   "outputs": [
    {
     "data": {
      "text/plain": [
       "(520, 16)"
      ]
     },
     "execution_count": 12,
     "metadata": {},
     "output_type": "execute_result"
    }
   ],
   "source": [
    "# drop post with empty text\n",
    "df[\"text\"] = df[\"text\"].replace({\"\", np.nan})\n",
    "df = df.dropna(subset=[\"text\"])\n",
    "df.shape"
   ]
  },
  {
   "cell_type": "code",
   "execution_count": 13,
   "metadata": {},
   "outputs": [
    {
     "data": {
      "text/plain": [
       "(90, 17)"
      ]
     },
     "execution_count": 13,
     "metadata": {},
     "output_type": "execute_result"
    }
   ],
   "source": [
    "# content based cleaning \n",
    "# define keyword group count\n",
    "def keyword_group_count(txt):\n",
    "    f = open(\"../data/keywords.json\")\n",
    "    keywords = json.load(f)\n",
    "    f.close()\n",
    "    count = 0\n",
    "    for keyword_list in keywords.values():\n",
    "        for keyword in keyword_list:\n",
    "            if str(keyword).lower() in txt.lower():\n",
    "                count += 1\n",
    "                break\n",
    "    return count\n",
    "\n",
    "# add keyword group count columns\n",
    "df[\"keyword_group_count\"] = df[\"text\"].apply(lambda txt: keyword_group_count(txt))\n",
    "df = df[df[\"keyword_group_count\"] >= 2]\n",
    "df.shape"
   ]
  },
  {
   "cell_type": "markdown",
   "metadata": {},
   "source": [
    "## Labeling"
   ]
  },
  {
   "cell_type": "code",
   "execution_count": 14,
   "metadata": {},
   "outputs": [
    {
     "data": {
      "text/html": [
       "<div>\n",
       "<style scoped>\n",
       "    .dataframe tbody tr th:only-of-type {\n",
       "        vertical-align: middle;\n",
       "    }\n",
       "\n",
       "    .dataframe tbody tr th {\n",
       "        vertical-align: top;\n",
       "    }\n",
       "\n",
       "    .dataframe thead th {\n",
       "        text-align: right;\n",
       "    }\n",
       "</style>\n",
       "<table border=\"1\" class=\"dataframe\">\n",
       "  <thead>\n",
       "    <tr style=\"text-align: right;\">\n",
       "      <th></th>\n",
       "      <th>post_id</th>\n",
       "      <th>text</th>\n",
       "      <th>post_text</th>\n",
       "      <th>shared_text</th>\n",
       "      <th>time</th>\n",
       "      <th>image</th>\n",
       "      <th>video</th>\n",
       "      <th>video_thumbnail</th>\n",
       "      <th>video_id</th>\n",
       "      <th>likes</th>\n",
       "      <th>comments</th>\n",
       "      <th>shares</th>\n",
       "      <th>post_url</th>\n",
       "      <th>link</th>\n",
       "      <th>user_id</th>\n",
       "      <th>images</th>\n",
       "      <th>keyword_group_count</th>\n",
       "      <th>label</th>\n",
       "    </tr>\n",
       "  </thead>\n",
       "  <tbody>\n",
       "    <tr>\n",
       "      <th>3</th>\n",
       "      <td>4.178431e+15</td>\n",
       "      <td>Evidence of the #health system challenges to p...</td>\n",
       "      <td>Evidence of the #health system challenges to p...</td>\n",
       "      <td>NaN</td>\n",
       "      <td>2021-02-02 13:25:03</td>\n",
       "      <td>https://scontent.fadd1-1.fna.fbcdn.net/v/t1.0-...</td>\n",
       "      <td>NaN</td>\n",
       "      <td>NaN</td>\n",
       "      <td>NaN</td>\n",
       "      <td>-0.181017</td>\n",
       "      <td>-0.366248</td>\n",
       "      <td>-0.342904</td>\n",
       "      <td>NaN</td>\n",
       "      <td>https://bit.ly/3qC86PZ</td>\n",
       "      <td>126697227387539</td>\n",
       "      <td>['https://scontent.fadd1-1.fna.fbcdn.net/v/t1....</td>\n",
       "      <td>2</td>\n",
       "      <td>0</td>\n",
       "    </tr>\n",
       "    <tr>\n",
       "      <th>7</th>\n",
       "      <td>4.165486e+15</td>\n",
       "      <td>Unwanted pregnancy and unsafe #abortion contri...</td>\n",
       "      <td>Unwanted pregnancy and unsafe #abortion contri...</td>\n",
       "      <td>NaN</td>\n",
       "      <td>2021-01-28 13:25:04</td>\n",
       "      <td>https://scontent.fadd1-1.fna.fbcdn.net/v/t1.0-...</td>\n",
       "      <td>NaN</td>\n",
       "      <td>NaN</td>\n",
       "      <td>NaN</td>\n",
       "      <td>-0.181017</td>\n",
       "      <td>-0.366248</td>\n",
       "      <td>-0.342904</td>\n",
       "      <td>NaN</td>\n",
       "      <td>https://bit.ly/3iw0mMF</td>\n",
       "      <td>126697227387539</td>\n",
       "      <td>['https://scontent.fadd1-1.fna.fbcdn.net/v/t1....</td>\n",
       "      <td>2</td>\n",
       "      <td>0</td>\n",
       "    </tr>\n",
       "    <tr>\n",
       "      <th>19</th>\n",
       "      <td>4.110924e+15</td>\n",
       "      <td>The handbook challenges readers to consider #m...</td>\n",
       "      <td>The handbook challenges readers to consider #m...</td>\n",
       "      <td>NaN</td>\n",
       "      <td>2021-01-08 20:15:16</td>\n",
       "      <td>https://scontent.fadd1-1.fna.fbcdn.net/v/t1.0-...</td>\n",
       "      <td>NaN</td>\n",
       "      <td>NaN</td>\n",
       "      <td>NaN</td>\n",
       "      <td>-0.181017</td>\n",
       "      <td>-0.055809</td>\n",
       "      <td>-0.342904</td>\n",
       "      <td>NaN</td>\n",
       "      <td>https://bit.ly/3h2N4Xi</td>\n",
       "      <td>126697227387539</td>\n",
       "      <td>['https://scontent.fadd1-1.fna.fbcdn.net/v/t1....</td>\n",
       "      <td>2</td>\n",
       "      <td>0</td>\n",
       "    </tr>\n",
       "    <tr>\n",
       "      <th>21</th>\n",
       "      <td>4.107126e+15</td>\n",
       "      <td>This article focuses on barriers #women face a...</td>\n",
       "      <td>This article focuses on barriers #women face a...</td>\n",
       "      <td>NaN</td>\n",
       "      <td>2021-01-07 11:15:06</td>\n",
       "      <td>https://scontent.fadd1-1.fna.fbcdn.net/v/t1.0-...</td>\n",
       "      <td>NaN</td>\n",
       "      <td>NaN</td>\n",
       "      <td>NaN</td>\n",
       "      <td>-0.181017</td>\n",
       "      <td>-0.366248</td>\n",
       "      <td>-0.342904</td>\n",
       "      <td>NaN</td>\n",
       "      <td>https://bit.ly/3mAd5hZ</td>\n",
       "      <td>126697227387539</td>\n",
       "      <td>['https://scontent.fadd1-1.fna.fbcdn.net/v/t1....</td>\n",
       "      <td>2</td>\n",
       "      <td>0</td>\n",
       "    </tr>\n",
       "    <tr>\n",
       "      <th>34</th>\n",
       "      <td>4.071571e+15</td>\n",
       "      <td>New commentary now online: Comprehensive sexua...</td>\n",
       "      <td>New commentary now online: Comprehensive sexua...</td>\n",
       "      <td>NaN</td>\n",
       "      <td>2020-12-24 12:15:10</td>\n",
       "      <td>https://scontent.fadd1-1.fna.fbcdn.net/v/t1.0-...</td>\n",
       "      <td>NaN</td>\n",
       "      <td>NaN</td>\n",
       "      <td>NaN</td>\n",
       "      <td>-0.184597</td>\n",
       "      <td>-0.366248</td>\n",
       "      <td>-0.342904</td>\n",
       "      <td>NaN</td>\n",
       "      <td>https://bit.ly/3h1iFsi</td>\n",
       "      <td>126697227387539</td>\n",
       "      <td>['https://scontent.fadd1-1.fna.fbcdn.net/v/t1....</td>\n",
       "      <td>3</td>\n",
       "      <td>0</td>\n",
       "    </tr>\n",
       "  </tbody>\n",
       "</table>\n",
       "</div>"
      ],
      "text/plain": [
       "         post_id                                               text  \\\n",
       "3   4.178431e+15  Evidence of the #health system challenges to p...   \n",
       "7   4.165486e+15  Unwanted pregnancy and unsafe #abortion contri...   \n",
       "19  4.110924e+15  The handbook challenges readers to consider #m...   \n",
       "21  4.107126e+15  This article focuses on barriers #women face a...   \n",
       "34  4.071571e+15  New commentary now online: Comprehensive sexua...   \n",
       "\n",
       "                                            post_text shared_text  \\\n",
       "3   Evidence of the #health system challenges to p...         NaN   \n",
       "7   Unwanted pregnancy and unsafe #abortion contri...         NaN   \n",
       "19  The handbook challenges readers to consider #m...         NaN   \n",
       "21  This article focuses on barriers #women face a...         NaN   \n",
       "34  New commentary now online: Comprehensive sexua...         NaN   \n",
       "\n",
       "                   time                                              image  \\\n",
       "3   2021-02-02 13:25:03  https://scontent.fadd1-1.fna.fbcdn.net/v/t1.0-...   \n",
       "7   2021-01-28 13:25:04  https://scontent.fadd1-1.fna.fbcdn.net/v/t1.0-...   \n",
       "19  2021-01-08 20:15:16  https://scontent.fadd1-1.fna.fbcdn.net/v/t1.0-...   \n",
       "21  2021-01-07 11:15:06  https://scontent.fadd1-1.fna.fbcdn.net/v/t1.0-...   \n",
       "34  2020-12-24 12:15:10  https://scontent.fadd1-1.fna.fbcdn.net/v/t1.0-...   \n",
       "\n",
       "   video video_thumbnail  video_id     likes  comments    shares post_url  \\\n",
       "3    NaN             NaN       NaN -0.181017 -0.366248 -0.342904      NaN   \n",
       "7    NaN             NaN       NaN -0.181017 -0.366248 -0.342904      NaN   \n",
       "19   NaN             NaN       NaN -0.181017 -0.055809 -0.342904      NaN   \n",
       "21   NaN             NaN       NaN -0.181017 -0.366248 -0.342904      NaN   \n",
       "34   NaN             NaN       NaN -0.184597 -0.366248 -0.342904      NaN   \n",
       "\n",
       "                      link          user_id  \\\n",
       "3   https://bit.ly/3qC86PZ  126697227387539   \n",
       "7   https://bit.ly/3iw0mMF  126697227387539   \n",
       "19  https://bit.ly/3h2N4Xi  126697227387539   \n",
       "21  https://bit.ly/3mAd5hZ  126697227387539   \n",
       "34  https://bit.ly/3h1iFsi  126697227387539   \n",
       "\n",
       "                                               images  keyword_group_count  \\\n",
       "3   ['https://scontent.fadd1-1.fna.fbcdn.net/v/t1....                    2   \n",
       "7   ['https://scontent.fadd1-1.fna.fbcdn.net/v/t1....                    2   \n",
       "19  ['https://scontent.fadd1-1.fna.fbcdn.net/v/t1....                    2   \n",
       "21  ['https://scontent.fadd1-1.fna.fbcdn.net/v/t1....                    2   \n",
       "34  ['https://scontent.fadd1-1.fna.fbcdn.net/v/t1....                    3   \n",
       "\n",
       "    label  \n",
       "3       0  \n",
       "7       0  \n",
       "19      0  \n",
       "21      0  \n",
       "34      0  "
      ]
     },
     "execution_count": 14,
     "metadata": {},
     "output_type": "execute_result"
    }
   ],
   "source": [
    "# label the posts based on the mean of comments, likes, and shares\n",
    "df[\"comments\"] = df[\"comments\"].apply(lambda x: (x - df[\"comments\"].mean())/df[\"comments\"].std())\n",
    "df[\"likes\"] = df[\"likes\"].apply(lambda x: (x - df[\"likes\"].mean())/df[\"likes\"].std())\n",
    "df[\"shares\"] = df[\"shares\"].apply(lambda x: (x - df[\"shares\"].mean())/df[\"shares\"].std())\n",
    "\n",
    "df[\"label\"] = df[[\"comments\", \"likes\", \"shares\"]].mean(axis=1)\n",
    "df[\"label\"] = df[\"label\"].apply(lambda x: 1 if x >= df[\"label\"].mean() else 0)\n",
    "\n",
    "df.head()"
   ]
  },
  {
   "cell_type": "markdown",
   "metadata": {},
   "source": [
    "## Add sub-topics columns"
   ]
  },
  {
   "cell_type": "code",
   "execution_count": 15,
   "metadata": {
    "scrolled": true
   },
   "outputs": [
    {
     "data": {
      "text/html": [
       "<div>\n",
       "<style scoped>\n",
       "    .dataframe tbody tr th:only-of-type {\n",
       "        vertical-align: middle;\n",
       "    }\n",
       "\n",
       "    .dataframe tbody tr th {\n",
       "        vertical-align: top;\n",
       "    }\n",
       "\n",
       "    .dataframe thead th {\n",
       "        text-align: right;\n",
       "    }\n",
       "</style>\n",
       "<table border=\"1\" class=\"dataframe\">\n",
       "  <thead>\n",
       "    <tr style=\"text-align: right;\">\n",
       "      <th></th>\n",
       "      <th>post_id</th>\n",
       "      <th>text</th>\n",
       "      <th>post_text</th>\n",
       "      <th>shared_text</th>\n",
       "      <th>time</th>\n",
       "      <th>image</th>\n",
       "      <th>video</th>\n",
       "      <th>video_thumbnail</th>\n",
       "      <th>video_id</th>\n",
       "      <th>likes</th>\n",
       "      <th>comments</th>\n",
       "      <th>shares</th>\n",
       "      <th>post_url</th>\n",
       "      <th>link</th>\n",
       "      <th>user_id</th>\n",
       "      <th>images</th>\n",
       "      <th>keyword_group_count</th>\n",
       "      <th>label</th>\n",
       "      <th>content_size</th>\n",
       "    </tr>\n",
       "  </thead>\n",
       "  <tbody>\n",
       "    <tr>\n",
       "      <th>3</th>\n",
       "      <td>4.178431e+15</td>\n",
       "      <td>Evidence of the #health system challenges to p...</td>\n",
       "      <td>Evidence of the #health system challenges to p...</td>\n",
       "      <td>NaN</td>\n",
       "      <td>2021-02-02 13:25:03</td>\n",
       "      <td>https://scontent.fadd1-1.fna.fbcdn.net/v/t1.0-...</td>\n",
       "      <td>NaN</td>\n",
       "      <td>NaN</td>\n",
       "      <td>NaN</td>\n",
       "      <td>-0.181017</td>\n",
       "      <td>-0.366248</td>\n",
       "      <td>-0.342904</td>\n",
       "      <td>NaN</td>\n",
       "      <td>https://bit.ly/3qC86PZ</td>\n",
       "      <td>126697227387539</td>\n",
       "      <td>['https://scontent.fadd1-1.fna.fbcdn.net/v/t1....</td>\n",
       "      <td>2</td>\n",
       "      <td>0</td>\n",
       "      <td>short</td>\n",
       "    </tr>\n",
       "    <tr>\n",
       "      <th>7</th>\n",
       "      <td>4.165486e+15</td>\n",
       "      <td>Unwanted pregnancy and unsafe #abortion contri...</td>\n",
       "      <td>Unwanted pregnancy and unsafe #abortion contri...</td>\n",
       "      <td>NaN</td>\n",
       "      <td>2021-01-28 13:25:04</td>\n",
       "      <td>https://scontent.fadd1-1.fna.fbcdn.net/v/t1.0-...</td>\n",
       "      <td>NaN</td>\n",
       "      <td>NaN</td>\n",
       "      <td>NaN</td>\n",
       "      <td>-0.181017</td>\n",
       "      <td>-0.366248</td>\n",
       "      <td>-0.342904</td>\n",
       "      <td>NaN</td>\n",
       "      <td>https://bit.ly/3iw0mMF</td>\n",
       "      <td>126697227387539</td>\n",
       "      <td>['https://scontent.fadd1-1.fna.fbcdn.net/v/t1....</td>\n",
       "      <td>2</td>\n",
       "      <td>0</td>\n",
       "      <td>short</td>\n",
       "    </tr>\n",
       "    <tr>\n",
       "      <th>19</th>\n",
       "      <td>4.110924e+15</td>\n",
       "      <td>The handbook challenges readers to consider #m...</td>\n",
       "      <td>The handbook challenges readers to consider #m...</td>\n",
       "      <td>NaN</td>\n",
       "      <td>2021-01-08 20:15:16</td>\n",
       "      <td>https://scontent.fadd1-1.fna.fbcdn.net/v/t1.0-...</td>\n",
       "      <td>NaN</td>\n",
       "      <td>NaN</td>\n",
       "      <td>NaN</td>\n",
       "      <td>-0.181017</td>\n",
       "      <td>-0.055809</td>\n",
       "      <td>-0.342904</td>\n",
       "      <td>NaN</td>\n",
       "      <td>https://bit.ly/3h2N4Xi</td>\n",
       "      <td>126697227387539</td>\n",
       "      <td>['https://scontent.fadd1-1.fna.fbcdn.net/v/t1....</td>\n",
       "      <td>2</td>\n",
       "      <td>0</td>\n",
       "      <td>short</td>\n",
       "    </tr>\n",
       "    <tr>\n",
       "      <th>21</th>\n",
       "      <td>4.107126e+15</td>\n",
       "      <td>This article focuses on barriers #women face a...</td>\n",
       "      <td>This article focuses on barriers #women face a...</td>\n",
       "      <td>NaN</td>\n",
       "      <td>2021-01-07 11:15:06</td>\n",
       "      <td>https://scontent.fadd1-1.fna.fbcdn.net/v/t1.0-...</td>\n",
       "      <td>NaN</td>\n",
       "      <td>NaN</td>\n",
       "      <td>NaN</td>\n",
       "      <td>-0.181017</td>\n",
       "      <td>-0.366248</td>\n",
       "      <td>-0.342904</td>\n",
       "      <td>NaN</td>\n",
       "      <td>https://bit.ly/3mAd5hZ</td>\n",
       "      <td>126697227387539</td>\n",
       "      <td>['https://scontent.fadd1-1.fna.fbcdn.net/v/t1....</td>\n",
       "      <td>2</td>\n",
       "      <td>0</td>\n",
       "      <td>short</td>\n",
       "    </tr>\n",
       "    <tr>\n",
       "      <th>34</th>\n",
       "      <td>4.071571e+15</td>\n",
       "      <td>New commentary now online: Comprehensive sexua...</td>\n",
       "      <td>New commentary now online: Comprehensive sexua...</td>\n",
       "      <td>NaN</td>\n",
       "      <td>2020-12-24 12:15:10</td>\n",
       "      <td>https://scontent.fadd1-1.fna.fbcdn.net/v/t1.0-...</td>\n",
       "      <td>NaN</td>\n",
       "      <td>NaN</td>\n",
       "      <td>NaN</td>\n",
       "      <td>-0.184597</td>\n",
       "      <td>-0.366248</td>\n",
       "      <td>-0.342904</td>\n",
       "      <td>NaN</td>\n",
       "      <td>https://bit.ly/3h1iFsi</td>\n",
       "      <td>126697227387539</td>\n",
       "      <td>['https://scontent.fadd1-1.fna.fbcdn.net/v/t1....</td>\n",
       "      <td>3</td>\n",
       "      <td>0</td>\n",
       "      <td>short</td>\n",
       "    </tr>\n",
       "  </tbody>\n",
       "</table>\n",
       "</div>"
      ],
      "text/plain": [
       "         post_id                                               text  \\\n",
       "3   4.178431e+15  Evidence of the #health system challenges to p...   \n",
       "7   4.165486e+15  Unwanted pregnancy and unsafe #abortion contri...   \n",
       "19  4.110924e+15  The handbook challenges readers to consider #m...   \n",
       "21  4.107126e+15  This article focuses on barriers #women face a...   \n",
       "34  4.071571e+15  New commentary now online: Comprehensive sexua...   \n",
       "\n",
       "                                            post_text shared_text  \\\n",
       "3   Evidence of the #health system challenges to p...         NaN   \n",
       "7   Unwanted pregnancy and unsafe #abortion contri...         NaN   \n",
       "19  The handbook challenges readers to consider #m...         NaN   \n",
       "21  This article focuses on barriers #women face a...         NaN   \n",
       "34  New commentary now online: Comprehensive sexua...         NaN   \n",
       "\n",
       "                   time                                              image  \\\n",
       "3   2021-02-02 13:25:03  https://scontent.fadd1-1.fna.fbcdn.net/v/t1.0-...   \n",
       "7   2021-01-28 13:25:04  https://scontent.fadd1-1.fna.fbcdn.net/v/t1.0-...   \n",
       "19  2021-01-08 20:15:16  https://scontent.fadd1-1.fna.fbcdn.net/v/t1.0-...   \n",
       "21  2021-01-07 11:15:06  https://scontent.fadd1-1.fna.fbcdn.net/v/t1.0-...   \n",
       "34  2020-12-24 12:15:10  https://scontent.fadd1-1.fna.fbcdn.net/v/t1.0-...   \n",
       "\n",
       "   video video_thumbnail  video_id     likes  comments    shares post_url  \\\n",
       "3    NaN             NaN       NaN -0.181017 -0.366248 -0.342904      NaN   \n",
       "7    NaN             NaN       NaN -0.181017 -0.366248 -0.342904      NaN   \n",
       "19   NaN             NaN       NaN -0.181017 -0.055809 -0.342904      NaN   \n",
       "21   NaN             NaN       NaN -0.181017 -0.366248 -0.342904      NaN   \n",
       "34   NaN             NaN       NaN -0.184597 -0.366248 -0.342904      NaN   \n",
       "\n",
       "                      link          user_id  \\\n",
       "3   https://bit.ly/3qC86PZ  126697227387539   \n",
       "7   https://bit.ly/3iw0mMF  126697227387539   \n",
       "19  https://bit.ly/3h2N4Xi  126697227387539   \n",
       "21  https://bit.ly/3mAd5hZ  126697227387539   \n",
       "34  https://bit.ly/3h1iFsi  126697227387539   \n",
       "\n",
       "                                               images  keyword_group_count  \\\n",
       "3   ['https://scontent.fadd1-1.fna.fbcdn.net/v/t1....                    2   \n",
       "7   ['https://scontent.fadd1-1.fna.fbcdn.net/v/t1....                    2   \n",
       "19  ['https://scontent.fadd1-1.fna.fbcdn.net/v/t1....                    2   \n",
       "21  ['https://scontent.fadd1-1.fna.fbcdn.net/v/t1....                    2   \n",
       "34  ['https://scontent.fadd1-1.fna.fbcdn.net/v/t1....                    3   \n",
       "\n",
       "    label content_size  \n",
       "3       0        short  \n",
       "7       0        short  \n",
       "19      0        short  \n",
       "21      0        short  \n",
       "34      0        short  "
      ]
     },
     "execution_count": 15,
     "metadata": {},
     "output_type": "execute_result"
    }
   ],
   "source": [
    "# add content_size column\n",
    "def classifiy_content_size(content_size, quantieles):\n",
    "    if content_size <= quantieles[0]:\n",
    "        return \"short\"\n",
    "    elif content_size >= quantieles[1]:\n",
    "        return \"long\"\n",
    "    else:\n",
    "        return \"meduim\"\n",
    "\n",
    "# extract text content size \n",
    "df[\"content_size\"] = df[\"text\"].apply(lambda txt: len(txt))\n",
    "describe = df[\"content_size\"].describe()\n",
    "quantieles = [describe[\"25%\"], describe[\"75%\"]]\n",
    "df[\"content_size\"] = df[\"content_size\"].apply(lambda content_size: classifiy_content_size(content_size, quantieles))\n",
    "df.head()"
   ]
  },
  {
   "cell_type": "code",
   "execution_count": 16,
   "metadata": {},
   "outputs": [
    {
     "data": {
      "text/plain": [
       "[281.0, 674.25]"
      ]
     },
     "execution_count": 16,
     "metadata": {},
     "output_type": "execute_result"
    }
   ],
   "source": [
    "quantieles"
   ]
  },
  {
   "cell_type": "code",
   "execution_count": 20,
   "metadata": {},
   "outputs": [],
   "source": [
    "# find the relevant sub_topics\n",
    "sub_topics = {\"youth\": [\"Youth\", \"Young people\", \"Adolescent\"],\n",
    "              \"sexual\": [\"Sexual health\", \"Reproductive health\", \"sex\", \"safer sex\", \"family planning\", \"condom\", \"HIV/AIDS\", \"Abortion\", \"Cervical cancer\", \"Menstrual cycle\", \"fertility\", \"relationship with opposite sex\"],\n",
    "              \"GBV\": [\"Gender-based violence\", \"rape\", \"sexual harassment\", \"forced marriage\"]}\n",
    "with open(\"../data/sub_topics.csv\", \"w\") as f:\n",
    "    json.dump(sub_topics, f)"
   ]
  },
  {
   "cell_type": "code",
   "execution_count": 23,
   "metadata": {},
   "outputs": [
    {
     "data": {
      "text/html": [
       "<div>\n",
       "<style scoped>\n",
       "    .dataframe tbody tr th:only-of-type {\n",
       "        vertical-align: middle;\n",
       "    }\n",
       "\n",
       "    .dataframe tbody tr th {\n",
       "        vertical-align: top;\n",
       "    }\n",
       "\n",
       "    .dataframe thead th {\n",
       "        text-align: right;\n",
       "    }\n",
       "</style>\n",
       "<table border=\"1\" class=\"dataframe\">\n",
       "  <thead>\n",
       "    <tr style=\"text-align: right;\">\n",
       "      <th></th>\n",
       "      <th>text</th>\n",
       "      <th>content_size</th>\n",
       "      <th>youth</th>\n",
       "      <th>sexual</th>\n",
       "      <th>GBV</th>\n",
       "      <th>label</th>\n",
       "    </tr>\n",
       "  </thead>\n",
       "  <tbody>\n",
       "    <tr>\n",
       "      <th>0</th>\n",
       "      <td>Evidence of the #health system challenges to p...</td>\n",
       "      <td>short</td>\n",
       "      <td></td>\n",
       "      <td></td>\n",
       "      <td></td>\n",
       "      <td>0</td>\n",
       "    </tr>\n",
       "    <tr>\n",
       "      <th>1</th>\n",
       "      <td>Unwanted pregnancy and unsafe #abortion contri...</td>\n",
       "      <td>short</td>\n",
       "      <td></td>\n",
       "      <td>Abortion</td>\n",
       "      <td></td>\n",
       "      <td>0</td>\n",
       "    </tr>\n",
       "    <tr>\n",
       "      <th>2</th>\n",
       "      <td>The handbook challenges readers to consider #m...</td>\n",
       "      <td>short</td>\n",
       "      <td></td>\n",
       "      <td>Sexual health</td>\n",
       "      <td></td>\n",
       "      <td>0</td>\n",
       "    </tr>\n",
       "    <tr>\n",
       "      <th>3</th>\n",
       "      <td>The handbook challenges readers to consider #m...</td>\n",
       "      <td>short</td>\n",
       "      <td></td>\n",
       "      <td>sex</td>\n",
       "      <td></td>\n",
       "      <td>0</td>\n",
       "    </tr>\n",
       "    <tr>\n",
       "      <th>4</th>\n",
       "      <td>This article focuses on barriers #women face a...</td>\n",
       "      <td>short</td>\n",
       "      <td></td>\n",
       "      <td></td>\n",
       "      <td></td>\n",
       "      <td>0</td>\n",
       "    </tr>\n",
       "  </tbody>\n",
       "</table>\n",
       "</div>"
      ],
      "text/plain": [
       "                                                text content_size youth  \\\n",
       "0  Evidence of the #health system challenges to p...        short         \n",
       "1  Unwanted pregnancy and unsafe #abortion contri...        short         \n",
       "2  The handbook challenges readers to consider #m...        short         \n",
       "3  The handbook challenges readers to consider #m...        short         \n",
       "4  This article focuses on barriers #women face a...        short         \n",
       "\n",
       "          sexual GBV  label  \n",
       "0                         0  \n",
       "1       Abortion          0  \n",
       "2  Sexual health          0  \n",
       "3            sex          0  \n",
       "4                         0  "
      ]
     },
     "execution_count": 23,
     "metadata": {},
     "output_type": "execute_result"
    }
   ],
   "source": [
    "# add relevant sub_topics columns\n",
    "for (sub_topic_name, sub_topic_list) in sub_topics.items():\n",
    "    df[sub_topic_name] = df['text'].apply(lambda txt: ','.join([str(sub_topic) for sub_topic in sub_topic_list \\\n",
    "                                                if (sub_topic.lower() in str(txt).lower())]))\n",
    "    df[sub_topic_name] = df[sub_topic_name].apply(lambda x: x.split(','))\n",
    "    df = df.explode(sub_topic_name)\n",
    "    \n",
    "df = df[[\"text\", \"content_size\", \"youth\", \"sexual\", \"GBV\", \"label\"]]\n",
    "df = df.reset_index()\n",
    "df = df.drop(columns=\"index\")\n",
    "df.head()"
   ]
  },
  {
   "cell_type": "code",
   "execution_count": 25,
   "metadata": {},
   "outputs": [],
   "source": [
    "df.to_csv('../data/cleaned_fb_posts.csv')"
   ]
  },
  {
   "cell_type": "markdown",
   "metadata": {},
   "source": [
    "# Part - 3: Data Analysis"
   ]
  },
  {
   "cell_type": "markdown",
   "metadata": {},
   "source": [
    "## Convert sub-topics to bins"
   ]
  },
  {
   "cell_type": "code",
   "execution_count": 26,
   "metadata": {},
   "outputs": [],
   "source": [
    "feats_dict = {}\n",
    "\n",
    "for col in [c for c in df.columns if (c != 'label' and c != 'text')]:\n",
    "    feats_dict[col] = CategoricalFeature(df, col)\n",
    "\n",
    "feats = list(feats_dict.values())"
   ]
  },
  {
   "cell_type": "markdown",
   "metadata": {},
   "source": [
    "## Information value analysis"
   ]
  },
  {
   "cell_type": "code",
   "execution_count": 27,
   "metadata": {},
   "outputs": [],
   "source": [
    "iv = IV()\n",
    "s = StatsSignificance()\n",
    "\n",
    "ar = AttributeRelevance()"
   ]
  },
  {
   "cell_type": "code",
   "execution_count": 28,
   "metadata": {},
   "outputs": [
    {
     "name": "stderr",
     "output_type": "stream",
     "text": [
      "/home/yony/anaconda3/lib/python3.7/site-packages/pandas/core/arraylike.py:358: RuntimeWarning: divide by zero encountered in log\n",
      "  result = getattr(ufunc, method)(*inputs, **kwargs)\n"
     ]
    },
    {
     "data": {
      "text/html": [
       "<div>\n",
       "<style scoped>\n",
       "    .dataframe tbody tr th:only-of-type {\n",
       "        vertical-align: middle;\n",
       "    }\n",
       "\n",
       "    .dataframe tbody tr th {\n",
       "        vertical-align: top;\n",
       "    }\n",
       "\n",
       "    .dataframe thead th {\n",
       "        text-align: right;\n",
       "    }\n",
       "</style>\n",
       "<table border=\"1\" class=\"dataframe\">\n",
       "  <thead>\n",
       "    <tr style=\"text-align: right;\">\n",
       "      <th></th>\n",
       "      <th>iv</th>\n",
       "      <th>iv_interpretation</th>\n",
       "    </tr>\n",
       "  </thead>\n",
       "  <tbody>\n",
       "    <tr>\n",
       "      <th>GBV</th>\n",
       "      <td>0.307190</td>\n",
       "      <td>strong</td>\n",
       "    </tr>\n",
       "    <tr>\n",
       "      <th>content_size</th>\n",
       "      <td>0.288135</td>\n",
       "      <td>medium</td>\n",
       "    </tr>\n",
       "    <tr>\n",
       "      <th>sexual</th>\n",
       "      <td>0.282107</td>\n",
       "      <td>medium</td>\n",
       "    </tr>\n",
       "    <tr>\n",
       "      <th>youth</th>\n",
       "      <td>0.173033</td>\n",
       "      <td>medium</td>\n",
       "    </tr>\n",
       "  </tbody>\n",
       "</table>\n",
       "</div>"
      ],
      "text/plain": [
       "                    iv iv_interpretation\n",
       "GBV           0.307190            strong\n",
       "content_size  0.288135            medium\n",
       "sexual        0.282107            medium\n",
       "youth         0.173033            medium"
      ]
     },
     "execution_count": 28,
     "metadata": {},
     "output_type": "execute_result"
    }
   ],
   "source": [
    "iv_df = ar.analyze(feats, iv, interpretation=True)\n",
    "iv_df.to_csv('../data/iv_data.csv')\n",
    "iv_df"
   ]
  },
  {
   "cell_type": "code",
   "execution_count": 29,
   "metadata": {},
   "outputs": [
    {
     "name": "stderr",
     "output_type": "stream",
     "text": [
      "/home/yony/anaconda3/lib/python3.7/site-packages/pandas/core/arraylike.py:358: RuntimeWarning: divide by zero encountered in log\n",
      "  result = getattr(ufunc, method)(*inputs, **kwargs)\n"
     ]
    },
    {
     "data": {
      "image/png": "[encoded data removed]",
      "text/plain": [
       "<Figure size 720x432 with 1 Axes>"
      ]
     },
     "metadata": {
      "needs_background": "light"
     },
     "output_type": "display_data"
    }
   ],
   "source": [
    "ar.draw_iv(feats, iv)"
   ]
  },
  {
   "cell_type": "markdown",
   "metadata": {},
   "source": [
    "## Weight of evidence analysis"
   ]
  },
  {
   "cell_type": "code",
   "execution_count": 40,
   "metadata": {},
   "outputs": [
    {
     "name": "stderr",
     "output_type": "stream",
     "text": [
      "/home/yony/anaconda3/lib/python3.7/site-packages/pandas/core/arraylike.py:358: RuntimeWarning: divide by zero encountered in log\n",
      "  result = getattr(ufunc, method)(*inputs, **kwargs)\n"
     ]
    }
   ],
   "source": [
    "(content_size_iv_df, content_size_iv_value) = iv.calculate_iv(feats[0])\n",
    "(youth_iv_df, youth_iv_value) = iv.calculate_iv(feats[1])\n",
    "(sexual_iv_df, sexual_iv_value) = iv.calculate_iv(feats[2])\n",
    "(GBV_iv_df, GBV_iv_value) = iv.calculate_iv(feats[3])"
   ]
  },
  {
   "cell_type": "code",
   "execution_count": 41,
   "metadata": {},
   "outputs": [
    {
     "data": {
      "text/html": [
       "<div>\n",
       "<style scoped>\n",
       "    .dataframe tbody tr th:only-of-type {\n",
       "        vertical-align: middle;\n",
       "    }\n",
       "\n",
       "    .dataframe tbody tr th {\n",
       "        vertical-align: top;\n",
       "    }\n",
       "\n",
       "    .dataframe thead th {\n",
       "        text-align: right;\n",
       "    }\n",
       "</style>\n",
       "<table border=\"1\" class=\"dataframe\">\n",
       "  <thead>\n",
       "    <tr style=\"text-align: right;\">\n",
       "      <th></th>\n",
       "      <th>content_size</th>\n",
       "      <th>count</th>\n",
       "      <th>good</th>\n",
       "      <th>bad</th>\n",
       "      <th>perc_good</th>\n",
       "      <th>perc_bad</th>\n",
       "      <th>perc_diff</th>\n",
       "      <th>woe</th>\n",
       "      <th>iv</th>\n",
       "    </tr>\n",
       "  </thead>\n",
       "  <tbody>\n",
       "    <tr>\n",
       "      <th>0</th>\n",
       "      <td>long</td>\n",
       "      <td>30</td>\n",
       "      <td>8</td>\n",
       "      <td>22</td>\n",
       "      <td>0.470588</td>\n",
       "      <td>0.22</td>\n",
       "      <td>0.250588</td>\n",
       "      <td>0.760356</td>\n",
       "      <td>0.190536</td>\n",
       "    </tr>\n",
       "    <tr>\n",
       "      <th>1</th>\n",
       "      <td>meduim</td>\n",
       "      <td>59</td>\n",
       "      <td>6</td>\n",
       "      <td>53</td>\n",
       "      <td>0.352941</td>\n",
       "      <td>0.53</td>\n",
       "      <td>-0.177059</td>\n",
       "      <td>-0.406576</td>\n",
       "      <td>0.071988</td>\n",
       "    </tr>\n",
       "    <tr>\n",
       "      <th>2</th>\n",
       "      <td>short</td>\n",
       "      <td>28</td>\n",
       "      <td>3</td>\n",
       "      <td>25</td>\n",
       "      <td>0.176471</td>\n",
       "      <td>0.25</td>\n",
       "      <td>-0.073529</td>\n",
       "      <td>-0.348307</td>\n",
       "      <td>0.025611</td>\n",
       "    </tr>\n",
       "  </tbody>\n",
       "</table>\n",
       "</div>"
      ],
      "text/plain": [
       "  content_size  count  good  bad  perc_good  perc_bad  perc_diff       woe  \\\n",
       "0         long     30     8   22   0.470588      0.22   0.250588  0.760356   \n",
       "1       meduim     59     6   53   0.352941      0.53  -0.177059 -0.406576   \n",
       "2        short     28     3   25   0.176471      0.25  -0.073529 -0.348307   \n",
       "\n",
       "         iv  \n",
       "0  0.190536  \n",
       "1  0.071988  \n",
       "2  0.025611  "
      ]
     },
     "execution_count": 41,
     "metadata": {},
     "output_type": "execute_result"
    }
   ],
   "source": [
    "content_size_iv_df"
   ]
  },
  {
   "cell_type": "code",
   "execution_count": 42,
   "metadata": {},
   "outputs": [
    {
     "data": {
      "text/html": [
       "<div>\n",
       "<style scoped>\n",
       "    .dataframe tbody tr th:only-of-type {\n",
       "        vertical-align: middle;\n",
       "    }\n",
       "\n",
       "    .dataframe tbody tr th {\n",
       "        vertical-align: top;\n",
       "    }\n",
       "\n",
       "    .dataframe thead th {\n",
       "        text-align: right;\n",
       "    }\n",
       "</style>\n",
       "<table border=\"1\" class=\"dataframe\">\n",
       "  <thead>\n",
       "    <tr style=\"text-align: right;\">\n",
       "      <th></th>\n",
       "      <th>sub_topics</th>\n",
       "      <th>woe</th>\n",
       "    </tr>\n",
       "    <tr>\n",
       "      <th>contents</th>\n",
       "      <th></th>\n",
       "      <th></th>\n",
       "    </tr>\n",
       "  </thead>\n",
       "  <tbody>\n",
       "    <tr>\n",
       "      <th>long</th>\n",
       "      <td>content_size</td>\n",
       "      <td>0.760356</td>\n",
       "    </tr>\n",
       "    <tr>\n",
       "      <th>meduim</th>\n",
       "      <td>content_size</td>\n",
       "      <td>-0.406576</td>\n",
       "    </tr>\n",
       "    <tr>\n",
       "      <th>short</th>\n",
       "      <td>content_size</td>\n",
       "      <td>-0.348307</td>\n",
       "    </tr>\n",
       "    <tr>\n",
       "      <th>Adolescent</th>\n",
       "      <td>youth</td>\n",
       "      <td>1.771957</td>\n",
       "    </tr>\n",
       "    <tr>\n",
       "      <th>Young people</th>\n",
       "      <td>youth</td>\n",
       "      <td>0.000000</td>\n",
       "    </tr>\n",
       "    <tr>\n",
       "      <th>Youth</th>\n",
       "      <td>youth</td>\n",
       "      <td>0.000000</td>\n",
       "    </tr>\n",
       "    <tr>\n",
       "      <th>Abortion</th>\n",
       "      <td>sexual</td>\n",
       "      <td>0.000000</td>\n",
       "    </tr>\n",
       "    <tr>\n",
       "      <th>HIV/AIDS</th>\n",
       "      <td>sexual</td>\n",
       "      <td>0.000000</td>\n",
       "    </tr>\n",
       "    <tr>\n",
       "      <th>Reproductive health</th>\n",
       "      <td>sexual</td>\n",
       "      <td>-0.867100</td>\n",
       "    </tr>\n",
       "    <tr>\n",
       "      <th>Sexual health</th>\n",
       "      <td>sexual</td>\n",
       "      <td>0.000000</td>\n",
       "    </tr>\n",
       "    <tr>\n",
       "      <th>condom</th>\n",
       "      <td>sexual</td>\n",
       "      <td>0.000000</td>\n",
       "    </tr>\n",
       "    <tr>\n",
       "      <th>fertility</th>\n",
       "      <td>sexual</td>\n",
       "      <td>0.000000</td>\n",
       "    </tr>\n",
       "    <tr>\n",
       "      <th>sex</th>\n",
       "      <td>sexual</td>\n",
       "      <td>0.491023</td>\n",
       "    </tr>\n",
       "    <tr>\n",
       "      <th>Gender-based violence</th>\n",
       "      <td>GBV</td>\n",
       "      <td>0.267879</td>\n",
       "    </tr>\n",
       "    <tr>\n",
       "      <th>forced marriage</th>\n",
       "      <td>GBV</td>\n",
       "      <td>0.000000</td>\n",
       "    </tr>\n",
       "    <tr>\n",
       "      <th>rape</th>\n",
       "      <td>GBV</td>\n",
       "      <td>0.760356</td>\n",
       "    </tr>\n",
       "    <tr>\n",
       "      <th>sexual harassment</th>\n",
       "      <td>GBV</td>\n",
       "      <td>0.924659</td>\n",
       "    </tr>\n",
       "  </tbody>\n",
       "</table>\n",
       "</div>"
      ],
      "text/plain": [
       "                         sub_topics       woe\n",
       "contents                                     \n",
       "long                   content_size  0.760356\n",
       "meduim                 content_size -0.406576\n",
       "short                  content_size -0.348307\n",
       "Adolescent                    youth  1.771957\n",
       "Young people                  youth  0.000000\n",
       "Youth                         youth  0.000000\n",
       "Abortion                     sexual  0.000000\n",
       "HIV/AIDS                     sexual  0.000000\n",
       "Reproductive health          sexual -0.867100\n",
       "Sexual health                sexual  0.000000\n",
       "condom                       sexual  0.000000\n",
       "fertility                    sexual  0.000000\n",
       "sex                          sexual  0.491023\n",
       "Gender-based violence           GBV  0.267879\n",
       "forced marriage                 GBV  0.000000\n",
       "rape                            GBV  0.760356\n",
       "sexual harassment               GBV  0.924659"
      ]
     },
     "execution_count": 42,
     "metadata": {},
     "output_type": "execute_result"
    }
   ],
   "source": [
    "# rename columns and add new ones\n",
    "content_size_iv_df = content_size_iv_df.rename(columns={\"content_size\": \"contents\"})\n",
    "content_size_iv_df[\"sub_topics\"] = \"content_size\"\n",
    "\n",
    "youth_iv_df = youth_iv_df.rename(columns={\"youth\": \"contents\"})\n",
    "youth_iv_df[\"sub_topics\"] = \"youth\"\n",
    "\n",
    "sexual_iv_df = sexual_iv_df.rename(columns={\"sexual\": \"contents\"})\n",
    "sexual_iv_df[\"sub_topics\"] = \"sexual\"\n",
    "\n",
    "GBV_iv_df = GBV_iv_df.rename(columns={\"GBV\": \"contents\"})\n",
    "GBV_iv_df[\"sub_topics\"] = \"GBV\"\n",
    "\n",
    "# concatinating the dataframes\n",
    "frames = [content_size_iv_df, youth_iv_df, sexual_iv_df, GBV_iv_df]\n",
    "woe_df = pd.concat(frames)\n",
    "woe_df = woe_df[[\"sub_topics\", \"contents\", \"woe\"]]\n",
    "woe_df = woe_df[woe_df[\"contents\"] != \"\"]\n",
    "woe_df = woe_df.set_index(\"contents\")\n",
    "woe_df.to_csv('../data/woe_data.csv')\n",
    "woe_df"
   ]
  },
  {
   "cell_type": "code",
   "execution_count": 43,
   "metadata": {},
   "outputs": [
    {
     "name": "stderr",
     "output_type": "stream",
     "text": [
      "/home/yony/anaconda3/lib/python3.7/site-packages/pandas/core/arraylike.py:358: RuntimeWarning: divide by zero encountered in log\n",
      "  result = getattr(ufunc, method)(*inputs, **kwargs)\n"
     ]
    },
    {
     "data": {
      "image/png": "[encoded data removed]",
      "text/plain": [
       "<Figure size 720x432 with 1 Axes>"
      ]
     },
     "metadata": {
      "needs_background": "light"
     },
     "output_type": "display_data"
    }
   ],
   "source": [
    "ar.draw_woe_extremes(feats, iv)"
   ]
  },
  {
   "cell_type": "code",
   "execution_count": 44,
   "metadata": {},
   "outputs": [
    {
     "name": "stderr",
     "output_type": "stream",
     "text": [
      "/home/yony/anaconda3/lib/python3.7/site-packages/pandas/core/arraylike.py:358: RuntimeWarning: divide by zero encountered in log\n",
      "  result = getattr(ufunc, method)(*inputs, **kwargs)\n",
      "/home/yony/anaconda3/lib/python3.7/site-packages/pandas/core/arraylike.py:358: RuntimeWarning: divide by zero encountered in log\n",
      "  result = getattr(ufunc, method)(*inputs, **kwargs)\n",
      "/home/yony/anaconda3/lib/python3.7/site-packages/pandas/core/arraylike.py:358: RuntimeWarning: divide by zero encountered in log\n",
      "  result = getattr(ufunc, method)(*inputs, **kwargs)\n"
     ]
    },
    {
     "data": {
      "image/png": "[encoded data removed]",
      "text/plain": [
       "<Figure size 1080x576 with 6 Axes>"
      ]
     },
     "metadata": {
      "needs_background": "light"
     },
     "output_type": "display_data"
    }
   ],
   "source": [
    "f_draw = [\"content_size\", \"youth\", \"sexual\", \"GBV\"]\n",
    "feats_draw = [v for k, v in feats_dict.items() if k in f_draw]\n",
    "ar.draw_woe_multiplot(feats_draw, iv)"
   ]
  },
  {
   "cell_type": "code",
   "execution_count": 36,
   "metadata": {},
   "outputs": [
    {
     "data": {
      "text/plain": [
       "sex                    69\n",
       "Reproductive health    15\n",
       "                       13\n",
       "Abortion               11\n",
       "Sexual health           6\n",
       "condom                  1\n",
       "fertility               1\n",
       "HIV/AIDS                1\n",
       "Name: sexual, dtype: int64"
      ]
     },
     "execution_count": 36,
     "metadata": {},
     "output_type": "execute_result"
    }
   ],
   "source": [
    "df[\"sexual\"].value_counts()"
   ]
  },
  {
   "cell_type": "code",
   "execution_count": null,
   "metadata": {},
   "outputs": [],
   "source": []
  }
 ],
 "metadata": {
  "kernelspec": {
   "display_name": "Python 3",
   "language": "python",
   "name": "python3"
  },
  "language_info": {
   "codemirror_mode": {
    "name": "ipython",
    "version": 3
   },
   "file_extension": ".py",
   "mimetype": "text/x-python",
   "name": "python",
   "nbconvert_exporter": "python",
   "pygments_lexer": "ipython3",
   "version": "3.7.6"
  }
 },
 "nbformat": 4,
 "nbformat_minor": 4
}
